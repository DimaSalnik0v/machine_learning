{
 "cells": [
  {
   "cell_type": "code",
   "execution_count": 126,
   "metadata": {},
   "outputs": [
    {
     "data": {
      "text/html": [
       "<div>\n",
       "<style scoped>\n",
       "    .dataframe tbody tr th:only-of-type {\n",
       "        vertical-align: middle;\n",
       "    }\n",
       "\n",
       "    .dataframe tbody tr th {\n",
       "        vertical-align: top;\n",
       "    }\n",
       "\n",
       "    .dataframe thead th {\n",
       "        text-align: right;\n",
       "    }\n",
       "</style>\n",
       "<table border=\"1\" class=\"dataframe\">\n",
       "  <thead>\n",
       "    <tr style=\"text-align: right;\">\n",
       "      <th></th>\n",
       "      <th>ID_CLIENT</th>\n",
       "      <th>ID_SHOP</th>\n",
       "      <th>SEX</th>\n",
       "      <th>AGE</th>\n",
       "      <th>QUANT_DEPENDANTS</th>\n",
       "      <th>AREA_CODE_RESIDENCIAL_PHONE</th>\n",
       "      <th>PAYMENT_DAY</th>\n",
       "      <th>MONTHS_IN_RESIDENCE</th>\n",
       "      <th>MONTHS_IN_THE_JOB</th>\n",
       "      <th>PROFESSION_CODE</th>\n",
       "      <th>MATE_INCOME</th>\n",
       "      <th>QUANT_BANKING_ACCOUNTS</th>\n",
       "      <th>PERSONAL_NET_INCOME</th>\n",
       "      <th>COD_APPLICATION_BOOTH</th>\n",
       "      <th>QUANT_ADDITIONAL_CARDS_IN_THE_APPLICATION</th>\n",
       "      <th>TARGET_LABEL_BAD=1</th>\n",
       "    </tr>\n",
       "  </thead>\n",
       "  <tbody>\n",
       "    <tr>\n",
       "      <th>0</th>\n",
       "      <td>2</td>\n",
       "      <td>15</td>\n",
       "      <td>1.0</td>\n",
       "      <td>18</td>\n",
       "      <td>0</td>\n",
       "      <td>31</td>\n",
       "      <td>20</td>\n",
       "      <td>216</td>\n",
       "      <td>12</td>\n",
       "      <td>853</td>\n",
       "      <td>0.0</td>\n",
       "      <td>0</td>\n",
       "      <td>300.0</td>\n",
       "      <td>0.0</td>\n",
       "      <td>0.0</td>\n",
       "      <td>0.0</td>\n",
       "    </tr>\n",
       "    <tr>\n",
       "      <th>1</th>\n",
       "      <td>4</td>\n",
       "      <td>12</td>\n",
       "      <td>1.0</td>\n",
       "      <td>47</td>\n",
       "      <td>0</td>\n",
       "      <td>31</td>\n",
       "      <td>25</td>\n",
       "      <td>180</td>\n",
       "      <td>24</td>\n",
       "      <td>35</td>\n",
       "      <td>0.0</td>\n",
       "      <td>0</td>\n",
       "      <td>304.0</td>\n",
       "      <td>0.0</td>\n",
       "      <td>0.0</td>\n",
       "      <td>0.0</td>\n",
       "    </tr>\n",
       "    <tr>\n",
       "      <th>2</th>\n",
       "      <td>5</td>\n",
       "      <td>16</td>\n",
       "      <td>1.0</td>\n",
       "      <td>28</td>\n",
       "      <td>0</td>\n",
       "      <td>31</td>\n",
       "      <td>25</td>\n",
       "      <td>12</td>\n",
       "      <td>12</td>\n",
       "      <td>24</td>\n",
       "      <td>0.0</td>\n",
       "      <td>0</td>\n",
       "      <td>250.0</td>\n",
       "      <td>0.0</td>\n",
       "      <td>0.0</td>\n",
       "      <td>0.0</td>\n",
       "    </tr>\n",
       "    <tr>\n",
       "      <th>3</th>\n",
       "      <td>6</td>\n",
       "      <td>24</td>\n",
       "      <td>0.0</td>\n",
       "      <td>26</td>\n",
       "      <td>0</td>\n",
       "      <td>31</td>\n",
       "      <td>28</td>\n",
       "      <td>180</td>\n",
       "      <td>0</td>\n",
       "      <td>999</td>\n",
       "      <td>0.0</td>\n",
       "      <td>0</td>\n",
       "      <td>800.0</td>\n",
       "      <td>0.0</td>\n",
       "      <td>0.0</td>\n",
       "      <td>0.0</td>\n",
       "    </tr>\n",
       "    <tr>\n",
       "      <th>4</th>\n",
       "      <td>7</td>\n",
       "      <td>55</td>\n",
       "      <td>1.0</td>\n",
       "      <td>22</td>\n",
       "      <td>0</td>\n",
       "      <td>31</td>\n",
       "      <td>12</td>\n",
       "      <td>0</td>\n",
       "      <td>48</td>\n",
       "      <td>999</td>\n",
       "      <td>0.0</td>\n",
       "      <td>0</td>\n",
       "      <td>410.0</td>\n",
       "      <td>0.0</td>\n",
       "      <td>0.0</td>\n",
       "      <td>0.0</td>\n",
       "    </tr>\n",
       "    <tr>\n",
       "      <th>...</th>\n",
       "      <td>...</td>\n",
       "      <td>...</td>\n",
       "      <td>...</td>\n",
       "      <td>...</td>\n",
       "      <td>...</td>\n",
       "      <td>...</td>\n",
       "      <td>...</td>\n",
       "      <td>...</td>\n",
       "      <td>...</td>\n",
       "      <td>...</td>\n",
       "      <td>...</td>\n",
       "      <td>...</td>\n",
       "      <td>...</td>\n",
       "      <td>...</td>\n",
       "      <td>...</td>\n",
       "      <td>...</td>\n",
       "    </tr>\n",
       "    <tr>\n",
       "      <th>39995</th>\n",
       "      <td>49994</td>\n",
       "      <td>1</td>\n",
       "      <td>0.0</td>\n",
       "      <td>29</td>\n",
       "      <td>0</td>\n",
       "      <td>31</td>\n",
       "      <td>12</td>\n",
       "      <td>36</td>\n",
       "      <td>24</td>\n",
       "      <td>305</td>\n",
       "      <td>0.0</td>\n",
       "      <td>0</td>\n",
       "      <td>796.0</td>\n",
       "      <td>0.0</td>\n",
       "      <td>1.0</td>\n",
       "      <td>1.0</td>\n",
       "    </tr>\n",
       "    <tr>\n",
       "      <th>39996</th>\n",
       "      <td>49995</td>\n",
       "      <td>12</td>\n",
       "      <td>1.0</td>\n",
       "      <td>20</td>\n",
       "      <td>0</td>\n",
       "      <td>31</td>\n",
       "      <td>20</td>\n",
       "      <td>180</td>\n",
       "      <td>12</td>\n",
       "      <td>712</td>\n",
       "      <td>0.0</td>\n",
       "      <td>0</td>\n",
       "      <td>200.0</td>\n",
       "      <td>0.0</td>\n",
       "      <td>0.0</td>\n",
       "      <td>0.0</td>\n",
       "    </tr>\n",
       "    <tr>\n",
       "      <th>39997</th>\n",
       "      <td>49996</td>\n",
       "      <td>19</td>\n",
       "      <td>0.0</td>\n",
       "      <td>21</td>\n",
       "      <td>0</td>\n",
       "      <td>31</td>\n",
       "      <td>12</td>\n",
       "      <td>120</td>\n",
       "      <td>12</td>\n",
       "      <td>218</td>\n",
       "      <td>0.0</td>\n",
       "      <td>0</td>\n",
       "      <td>234.0</td>\n",
       "      <td>0.0</td>\n",
       "      <td>0.0</td>\n",
       "      <td>0.0</td>\n",
       "    </tr>\n",
       "    <tr>\n",
       "      <th>39998</th>\n",
       "      <td>49998</td>\n",
       "      <td>23</td>\n",
       "      <td>1.0</td>\n",
       "      <td>23</td>\n",
       "      <td>0</td>\n",
       "      <td>31</td>\n",
       "      <td>28</td>\n",
       "      <td>264</td>\n",
       "      <td>12</td>\n",
       "      <td>991</td>\n",
       "      <td>0.0</td>\n",
       "      <td>0</td>\n",
       "      <td>240.0</td>\n",
       "      <td>0.0</td>\n",
       "      <td>0.0</td>\n",
       "      <td>1.0</td>\n",
       "    </tr>\n",
       "    <tr>\n",
       "      <th>39999</th>\n",
       "      <td>50000</td>\n",
       "      <td>22</td>\n",
       "      <td>0.0</td>\n",
       "      <td>29</td>\n",
       "      <td>0</td>\n",
       "      <td>31</td>\n",
       "      <td>23</td>\n",
       "      <td>48</td>\n",
       "      <td>36</td>\n",
       "      <td>26</td>\n",
       "      <td>0.0</td>\n",
       "      <td>0</td>\n",
       "      <td>341.0</td>\n",
       "      <td>0.0</td>\n",
       "      <td>0.0</td>\n",
       "      <td>0.0</td>\n",
       "    </tr>\n",
       "  </tbody>\n",
       "</table>\n",
       "<p>39995 rows × 16 columns</p>\n",
       "</div>"
      ],
      "text/plain": [
       "       ID_CLIENT  ID_SHOP  SEX  AGE  QUANT_DEPENDANTS  \\\n",
       "0              2       15  1.0   18                 0   \n",
       "1              4       12  1.0   47                 0   \n",
       "2              5       16  1.0   28                 0   \n",
       "3              6       24  0.0   26                 0   \n",
       "4              7       55  1.0   22                 0   \n",
       "...          ...      ...  ...  ...               ...   \n",
       "39995      49994        1  0.0   29                 0   \n",
       "39996      49995       12  1.0   20                 0   \n",
       "39997      49996       19  0.0   21                 0   \n",
       "39998      49998       23  1.0   23                 0   \n",
       "39999      50000       22  0.0   29                 0   \n",
       "\n",
       "       AREA_CODE_RESIDENCIAL_PHONE  PAYMENT_DAY  MONTHS_IN_RESIDENCE  \\\n",
       "0                               31           20                  216   \n",
       "1                               31           25                  180   \n",
       "2                               31           25                   12   \n",
       "3                               31           28                  180   \n",
       "4                               31           12                    0   \n",
       "...                            ...          ...                  ...   \n",
       "39995                           31           12                   36   \n",
       "39996                           31           20                  180   \n",
       "39997                           31           12                  120   \n",
       "39998                           31           28                  264   \n",
       "39999                           31           23                   48   \n",
       "\n",
       "       MONTHS_IN_THE_JOB  PROFESSION_CODE  MATE_INCOME  \\\n",
       "0                     12              853          0.0   \n",
       "1                     24               35          0.0   \n",
       "2                     12               24          0.0   \n",
       "3                      0              999          0.0   \n",
       "4                     48              999          0.0   \n",
       "...                  ...              ...          ...   \n",
       "39995                 24              305          0.0   \n",
       "39996                 12              712          0.0   \n",
       "39997                 12              218          0.0   \n",
       "39998                 12              991          0.0   \n",
       "39999                 36               26          0.0   \n",
       "\n",
       "       QUANT_BANKING_ACCOUNTS  PERSONAL_NET_INCOME  COD_APPLICATION_BOOTH  \\\n",
       "0                           0                300.0                    0.0   \n",
       "1                           0                304.0                    0.0   \n",
       "2                           0                250.0                    0.0   \n",
       "3                           0                800.0                    0.0   \n",
       "4                           0                410.0                    0.0   \n",
       "...                       ...                  ...                    ...   \n",
       "39995                       0                796.0                    0.0   \n",
       "39996                       0                200.0                    0.0   \n",
       "39997                       0                234.0                    0.0   \n",
       "39998                       0                240.0                    0.0   \n",
       "39999                       0                341.0                    0.0   \n",
       "\n",
       "       QUANT_ADDITIONAL_CARDS_IN_THE_APPLICATION  TARGET_LABEL_BAD=1  \n",
       "0                                            0.0                 0.0  \n",
       "1                                            0.0                 0.0  \n",
       "2                                            0.0                 0.0  \n",
       "3                                            0.0                 0.0  \n",
       "4                                            0.0                 0.0  \n",
       "...                                          ...                 ...  \n",
       "39995                                        1.0                 1.0  \n",
       "39996                                        0.0                 0.0  \n",
       "39997                                        0.0                 0.0  \n",
       "39998                                        0.0                 1.0  \n",
       "39999                                        0.0                 0.0  \n",
       "\n",
       "[39995 rows x 16 columns]"
      ]
     },
     "execution_count": 126,
     "metadata": {},
     "output_type": "execute_result"
    }
   ],
   "source": [
    "import pandas as pd\n",
    "from sklearn.model_selection import train_test_split\n",
    "from sklearn.metrics import roc_auc_score # для оценки производительности модели классификации\n",
    "from sklearn.metrics import accuracy_score, classification_report\n",
    "import matplotlib.pyplot as plt\n",
    "from sklearn.metrics import roc_curve\n",
    "\n",
    "from sklearn.model_selection import cross_validate\n",
    "import numpy as np\n",
    "\n",
    "df = pd.read_csv('DataSet11_2.csv', sep=';', encoding=\"cp1251\")\n",
    "\n",
    "#заменяем на 0 и 1 для создания бин. признака\n",
    "df['SEX'] = df['SEX'].replace('M',0)\n",
    "df['SEX'] = df['SEX'].replace('F',1)\n",
    "df = df.drop(['FLAG_RESIDENCIAL_PHONE','FLAG_RESIDENCE_TOWN=WORKING_TOWN','RESIDENCE_TYPE','FLAG_RESIDENCE_STATE=WORKING_STATE','SHOP_RANK','FLAG_FATHERS_NAME','FLAG_MOTHERS_NAME','EDUCATION','MARITAL_STATUS','PERSONAL_REFERENCE_#1','PERSONAL_REFERENCE_#2','FLAG_MOBILE_PHONE','FLAG_CONTACT_PHONE','FLAG_CARD_INSURANCE_OPTION','FLAG_RESIDENCIAL_ADDRESS=POSTAL_ADDRESS','FLAG_OTHER_CARD'],axis = 1)\n",
    "df = df.dropna()\n",
    "# df.insull().values.any()\n",
    "df"
   ]
  },
  {
   "cell_type": "code",
   "execution_count": 127,
   "metadata": {},
   "outputs": [
    {
     "data": {
      "text/plain": [
       "False"
      ]
     },
     "execution_count": 127,
     "metadata": {},
     "output_type": "execute_result"
    }
   ],
   "source": [
    "df.isnull().values.any()"
   ]
  },
  {
   "cell_type": "markdown",
   "metadata": {},
   "source": [
    "Деление на обучающую и тестовую выборки (80% и 20%)"
   ]
  },
  {
   "cell_type": "code",
   "execution_count": 128,
   "metadata": {},
   "outputs": [],
   "source": [
    "X_train, X_test, y_train, y_test = train_test_split(df.drop(['TARGET_LABEL_BAD=1'], axis = 1), df['TARGET_LABEL_BAD=1'].values, test_size=0.2, random_state=42)"
   ]
  },
  {
   "cell_type": "markdown",
   "metadata": {},
   "source": [
    "KNN (k ближайших соседей)"
   ]
  },
  {
   "cell_type": "code",
   "execution_count": 129,
   "metadata": {},
   "outputs": [
    {
     "name": "stdout",
     "output_type": "stream",
     "text": [
      "auc_roc 0.5103523686679174\n",
      "Точность модели: 0.7400925115639455\n"
     ]
    }
   ],
   "source": [
    "from sklearn.neighbors import KNeighborsClassifier\n",
    "\n",
    "model_knn = KNeighborsClassifier(n_neighbors = 3)\n",
    "model_knn.fit(X_train, y_train)\n",
    "y_kNN = model_knn.predict(X_test)\n",
    "res = roc_auc_score(y_test, y_kNN) #S под рок-кривой\n",
    "print('auc_roc', res)\n",
    "accuracy = accuracy_score(y_test, y_kNN)\n",
    "print(\"Точность модели:\", accuracy)"
   ]
  },
  {
   "cell_type": "markdown",
   "metadata": {},
   "source": [
    "SVM модель (метод опорных векторов)"
   ]
  },
  {
   "cell_type": "code",
   "execution_count": 130,
   "metadata": {},
   "outputs": [
    {
     "name": "stdout",
     "output_type": "stream",
     "text": [
      "auc_roc 0.5\n",
      "Точность модели: 0.8001000125015627\n"
     ]
    }
   ],
   "source": [
    "from sklearn.svm import SVC\n",
    "\n",
    "#model = SVC(kernel = 'linear')\n",
    "model_svm = SVC(kernel = 'rbf') #rbf - гаус. ядро \n",
    "model_svm.fit(X_train, y_train) #обучение модели\n",
    "y_SVM = model_svm.predict(X_test)\n",
    "res = roc_auc_score(y_test, y_SVM) \n",
    "print('auc_roc', res)\n",
    "accuracy = accuracy_score(y_test, y_SVM)\n",
    "print(\"Точность модели:\", accuracy)"
   ]
  },
  {
   "cell_type": "markdown",
   "metadata": {},
   "source": [
    "Наивный байесовский классификатор (Naive Bayes)"
   ]
  },
  {
   "cell_type": "markdown",
   "metadata": {},
   "source": [
    "Статистический алгоритм машинного обучения, основанный на теореме Байеса. Он особенно эффективен для задач классификации и прогнозирования, основанных на текстовых данных"
   ]
  },
  {
   "cell_type": "code",
   "execution_count": 131,
   "metadata": {},
   "outputs": [
    {
     "name": "stdout",
     "output_type": "stream",
     "text": [
      "auc_roc 0.5860827568011258\n",
      "Точность модели: 0.5088136017002125\n"
     ]
    }
   ],
   "source": [
    "from sklearn.naive_bayes import GaussianNB\n",
    "\n",
    "model_NB = GaussianNB()\n",
    "model_NB.fit(X_train, y_train)\n",
    "y_NB = model_NB.predict(X_test)\n",
    "res = roc_auc_score(y_test, y_NB) \n",
    "print('auc_roc', res)\n",
    "accuracy = accuracy_score(y_test, y_NB)\n",
    "print(\"Точность модели:\", accuracy)"
   ]
  },
  {
   "cell_type": "markdown",
   "metadata": {},
   "source": [
    "C4.5 и C5.0 (для построения деревьев принятия решений (Decision Trees))"
   ]
  },
  {
   "cell_type": "markdown",
   "metadata": {},
   "source": [
    "Он используется для построения деревьев принятия решений для задач классификации. Рекурсивное разделение данных на подгруппы с использованием признаков, которые максимально уменьшают неопределенность (энтропию) в каждой подгруппе."
   ]
  },
  {
   "cell_type": "code",
   "execution_count": 132,
   "metadata": {},
   "outputs": [
    {
     "name": "stdout",
     "output_type": "stream",
     "text": [
      "auc_roc 0.5232041510318949\n",
      "Точность модели: 0.6852106513314165\n"
     ]
    }
   ],
   "source": [
    "from sklearn.tree import DecisionTreeClassifier\n",
    "\n",
    "model_DT = DecisionTreeClassifier()\n",
    "model_DT.fit(X_train, y_train)\n",
    "y_DT = model_DT.predict(X_test)\n",
    "res = roc_auc_score(y_test, y_DT) \n",
    "print('auc_roc', res)\n",
    "accuracy = accuracy_score(y_test, y_DT)\n",
    "print(\"Точность модели:\", accuracy)"
   ]
  },
  {
   "cell_type": "markdown",
   "metadata": {},
   "source": [
    "Построение ROC-кривых"
   ]
  },
  {
   "cell_type": "code",
   "execution_count": 133,
   "metadata": {},
   "outputs": [
    {
     "data": {
      "image/png": "[encoded data removed]",
      "text/plain": [
       "<Figure size 1400x600 with 1 Axes>"
      ]
     },
     "metadata": {},
     "output_type": "display_data"
    }
   ],
   "source": [
    "from sklearn.metrics import roc_curve, auc\n",
    "\n",
    "# вычисляем значения для различных порогов классификации\n",
    "fpr_knn, tpr_knn, _ = roc_curve(y_test, y_kNN)\n",
    "fpr_svm, tpr_svm, _ = roc_curve(y_test, y_SVM)\n",
    "fpr_nb, tpr_nb, _ = roc_curve(y_test, y_NB)\n",
    "fpr_dt, tpr_dt, _ = roc_curve(y_test, y_DT)\n",
    "\n",
    "#строим график рок-кривой\n",
    "plt.figure(figsize=(14, 6))\n",
    "plt.plot(fpr_knn, tpr_knn, color='darkblue',linestyle = 'solid', label = 'KnN')\n",
    "plt.plot(fpr_svm, tpr_svm, color='red', linestyle = 'solid',label = 'SVM')\n",
    "plt.plot(fpr_nb, tpr_nb, color='black',linestyle = 'solid', label = 'NB')\n",
    "plt.plot(fpr_dt, tpr_dt, color='green', linestyle = 'solid',label = 'DT')\n",
    "\n",
    "plt.xlabel('True Positive Rate')\n",
    "plt.ylabel('False Positive Rate')\n",
    "plt.title('ROC-кривые')\n",
    "plt.legend(loc='lower right')\n",
    "plt.show()"
   ]
  },
  {
   "cell_type": "markdown",
   "metadata": {},
   "source": [
    "Кросс-валидация"
   ]
  },
  {
   "cell_type": "code",
   "execution_count": 134,
   "metadata": {},
   "outputs": [
    {
     "name": "stdout",
     "output_type": "stream",
     "text": [
      "Кросс-валидация: 0.7372167333666833 %\n",
      "Ранее найденная: 0.7400925115639455 %\n"
     ]
    }
   ],
   "source": [
    "from sklearn.model_selection import cross_val_score\n",
    "\n",
    "scores = cross_val_score(model_knn, X_test, y_test, scoring='accuracy', cv=4)\n",
    "print(\"Кросс-валидация:\", scores.mean(), \"%\")\n",
    "accuracy = accuracy_score(y_test, y_kNN)\n",
    "print(\"Ранее найденная:\", accuracy, \"%\")\n"
   ]
  },
  {
   "cell_type": "code",
   "execution_count": 135,
   "metadata": {},
   "outputs": [
    {
     "name": "stdout",
     "output_type": "stream",
     "text": [
      "Кросс-валидация: 0.8001000500250126 %\n",
      "Ранее найденная: 0.8001000125015627 %\n"
     ]
    }
   ],
   "source": [
    "scores = cross_val_score(model_svm, X_test, y_test, scoring='accuracy', cv=4)\n",
    "print(\"Кросс-валидация:\", scores.mean(), \"%\")\n",
    "accuracy = accuracy_score(y_test, y_SVM)\n",
    "print(\"Ранее найденная:\", accuracy, \"%\")"
   ]
  },
  {
   "cell_type": "code",
   "execution_count": 136,
   "metadata": {},
   "outputs": [
    {
     "name": "stdout",
     "output_type": "stream",
     "text": [
      "Кросс-валидация: 0.31753139069534764 %\n",
      "Ранее найденная: 0.5088136017002125 %\n"
     ]
    }
   ],
   "source": [
    "scores = cross_val_score(model_NB, X_test, y_test, scoring='accuracy', cv=4)\n",
    "print(\"Кросс-валидация:\", scores.mean(), \"%\")\n",
    "accuracy = accuracy_score(y_test, y_NB)\n",
    "print(\"Ранее найденная:\", accuracy, \"%\")"
   ]
  },
  {
   "cell_type": "code",
   "execution_count": 137,
   "metadata": {},
   "outputs": [
    {
     "name": "stdout",
     "output_type": "stream",
     "text": [
      "Кросс-валидация: 0.6840854802401202 %\n",
      "Ранее найденная: 0.6852106513314165 %\n"
     ]
    }
   ],
   "source": [
    "scores = cross_val_score(model_DT, X_test, y_test, scoring='accuracy', cv=4)\n",
    "print(\"Кросс-валидация:\", scores.mean(), \"%\")\n",
    "accuracy = accuracy_score(y_test, y_DT)\n",
    "print(\"Ранее найденная:\", accuracy, \"%\")"
   ]
  },
  {
   "cell_type": "markdown",
   "metadata": {},
   "source": [
    "Композиции (объединение моделей для решения задач). Поиск более точных и устойчивых решений."
   ]
  },
  {
   "cell_type": "code",
   "execution_count": 138,
   "metadata": {},
   "outputs": [
    {
     "name": "stdout",
     "output_type": "stream",
     "text": [
      "Точность на основе нескольких моделей: 0.7897237154644331\n"
     ]
    }
   ],
   "source": [
    "#Композиции\n",
    "from sklearn.ensemble import VotingClassifier\n",
    "\n",
    "model_voting = VotingClassifier(estimators=[\n",
    "('knn', model_knn),\n",
    "('svm', model_svm),\n",
    "('nb', model_NB),\n",
    "('dt', model_DT)\n",
    "], voting='hard')\n",
    "\n",
    "model_voting.fit(X_train, y_train)\n",
    "\n",
    "voting_pred = model_voting.predict(X_test)\n",
    "print(\"Точность на основе нескольких моделей:\", accuracy_score(y_test, voting_pred))"
   ]
  },
  {
   "cell_type": "code",
   "execution_count": 139,
   "metadata": {},
   "outputs": [
    {
     "name": "stdout",
     "output_type": "stream",
     "text": [
      "Кросс-валидация: 0.788472736368184 %\n"
     ]
    }
   ],
   "source": [
    "scores = cross_val_score(model_voting, X_test, y_test, scoring='accuracy', cv=4)\n",
    "print(\"Кросс-валидация:\", scores.mean(), \"%\")"
   ]
  }
 ],
 "metadata": {
  "kernelspec": {
   "display_name": "Python 3",
   "language": "python",
   "name": "python3"
  },
  "language_info": {
   "codemirror_mode": {
    "name": "ipython",
    "version": 3
   },
   "file_extension": ".py",
   "mimetype": "text/x-python",
   "name": "python",
   "nbconvert_exporter": "python",
   "pygments_lexer": "ipython3",
   "version": "3.11.6"
  }
 },
 "nbformat": 4,
 "nbformat_minor": 2
}
