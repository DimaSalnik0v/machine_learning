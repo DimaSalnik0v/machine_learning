{
 "cells": [
  {
   "cell_type": "markdown",
   "metadata": {},
   "source": [
    "9 Лаб. работа"
   ]
  },
  {
   "cell_type": "markdown",
   "metadata": {},
   "source": [
    "Описание датасета:\n",
    "\n",
    "Ранг — рейтинг общих продаж.\n",
    "Имя – название игры.\n",
    "Платформа - Платформа выпуска игр (т.е. ПК,PS4 и т.д.)\n",
    "Год - Год выхода игры.\n",
    "Жанр - Жанр игры.\n",
    "Издатель - Издатель игры.\n",
    "NA_Sales — Продажи в Северной Америке (в миллионах)\n",
    "EU_Sales — Продажи в Европе (в миллионах)\n",
    "JP_Sales — Продажи в Японии (в миллионах)\n",
    "Other_Sales — Продажи в остальном мире (в миллионах)\n",
    "Global_Sales — общий объем продаж по всему миру."
   ]
  },
  {
   "cell_type": "code",
   "execution_count": 289,
   "metadata": {},
   "outputs": [
    {
     "data": {
      "text/html": [
       "<div>\n",
       "<style scoped>\n",
       "    .dataframe tbody tr th:only-of-type {\n",
       "        vertical-align: middle;\n",
       "    }\n",
       "\n",
       "    .dataframe tbody tr th {\n",
       "        vertical-align: top;\n",
       "    }\n",
       "\n",
       "    .dataframe thead th {\n",
       "        text-align: right;\n",
       "    }\n",
       "</style>\n",
       "<table border=\"1\" class=\"dataframe\">\n",
       "  <thead>\n",
       "    <tr style=\"text-align: right;\">\n",
       "      <th></th>\n",
       "      <th>Rank</th>\n",
       "      <th>Name</th>\n",
       "      <th>Platform</th>\n",
       "      <th>Year</th>\n",
       "      <th>Genre</th>\n",
       "      <th>Publisher</th>\n",
       "      <th>NA_Sales</th>\n",
       "      <th>EU_Sales</th>\n",
       "      <th>JP_Sales</th>\n",
       "      <th>Other_Sales</th>\n",
       "      <th>Global_Sales</th>\n",
       "    </tr>\n",
       "  </thead>\n",
       "  <tbody>\n",
       "    <tr>\n",
       "      <th>0</th>\n",
       "      <td>1</td>\n",
       "      <td>Wii Sports</td>\n",
       "      <td>Wii</td>\n",
       "      <td>2006.0</td>\n",
       "      <td>Sports</td>\n",
       "      <td>Nintendo</td>\n",
       "      <td>41.49</td>\n",
       "      <td>29.02</td>\n",
       "      <td>3.77</td>\n",
       "      <td>8.46</td>\n",
       "      <td>82.74</td>\n",
       "    </tr>\n",
       "    <tr>\n",
       "      <th>1</th>\n",
       "      <td>2</td>\n",
       "      <td>Super Mario Bros.</td>\n",
       "      <td>NES</td>\n",
       "      <td>1985.0</td>\n",
       "      <td>Platform</td>\n",
       "      <td>Nintendo</td>\n",
       "      <td>29.08</td>\n",
       "      <td>3.58</td>\n",
       "      <td>6.81</td>\n",
       "      <td>0.77</td>\n",
       "      <td>40.24</td>\n",
       "    </tr>\n",
       "    <tr>\n",
       "      <th>2</th>\n",
       "      <td>3</td>\n",
       "      <td>Mario Kart Wii</td>\n",
       "      <td>Wii</td>\n",
       "      <td>2008.0</td>\n",
       "      <td>Racing</td>\n",
       "      <td>Nintendo</td>\n",
       "      <td>15.85</td>\n",
       "      <td>12.88</td>\n",
       "      <td>3.79</td>\n",
       "      <td>3.31</td>\n",
       "      <td>35.82</td>\n",
       "    </tr>\n",
       "    <tr>\n",
       "      <th>3</th>\n",
       "      <td>4</td>\n",
       "      <td>Wii Sports Resort</td>\n",
       "      <td>Wii</td>\n",
       "      <td>2009.0</td>\n",
       "      <td>Sports</td>\n",
       "      <td>Nintendo</td>\n",
       "      <td>15.75</td>\n",
       "      <td>11.01</td>\n",
       "      <td>3.28</td>\n",
       "      <td>2.96</td>\n",
       "      <td>33.00</td>\n",
       "    </tr>\n",
       "    <tr>\n",
       "      <th>4</th>\n",
       "      <td>5</td>\n",
       "      <td>Pokemon Red/Pokemon Blue</td>\n",
       "      <td>GB</td>\n",
       "      <td>1996.0</td>\n",
       "      <td>Role-Playing</td>\n",
       "      <td>Nintendo</td>\n",
       "      <td>11.27</td>\n",
       "      <td>8.89</td>\n",
       "      <td>10.22</td>\n",
       "      <td>1.00</td>\n",
       "      <td>31.37</td>\n",
       "    </tr>\n",
       "  </tbody>\n",
       "</table>\n",
       "</div>"
      ],
      "text/plain": [
       "   Rank                      Name Platform    Year         Genre Publisher  \\\n",
       "0     1                Wii Sports      Wii  2006.0        Sports  Nintendo   \n",
       "1     2         Super Mario Bros.      NES  1985.0      Platform  Nintendo   \n",
       "2     3            Mario Kart Wii      Wii  2008.0        Racing  Nintendo   \n",
       "3     4         Wii Sports Resort      Wii  2009.0        Sports  Nintendo   \n",
       "4     5  Pokemon Red/Pokemon Blue       GB  1996.0  Role-Playing  Nintendo   \n",
       "\n",
       "   NA_Sales  EU_Sales  JP_Sales  Other_Sales  Global_Sales  \n",
       "0     41.49     29.02      3.77         8.46         82.74  \n",
       "1     29.08      3.58      6.81         0.77         40.24  \n",
       "2     15.85     12.88      3.79         3.31         35.82  \n",
       "3     15.75     11.01      3.28         2.96         33.00  \n",
       "4     11.27      8.89     10.22         1.00         31.37  "
      ]
     },
     "execution_count": 289,
     "metadata": {},
     "output_type": "execute_result"
    }
   ],
   "source": [
    "import pandas as pd\n",
    "import matplotlib.pyplot as plt\n",
    "import numpy as np\n",
    "import plotly.express as ps\n",
    "import plotly.graph_objects as go\n",
    "from apyori import apriori #импорт библиотеки\n",
    "\n",
    "df = pd.read_csv(\"vgsales.csv\", sep=\",\")\n",
    "df.head()"
   ]
  },
  {
   "cell_type": "markdown",
   "metadata": {},
   "source": [
    "APRIORI - поиск частотных множеств элементов в наборе данных (алгоритм работает на основе ассоциативных правил)."
   ]
  },
  {
   "cell_type": "code",
   "execution_count": 290,
   "metadata": {},
   "outputs": [
    {
     "data": {
      "text/html": [
       "<div>\n",
       "<style scoped>\n",
       "    .dataframe tbody tr th:only-of-type {\n",
       "        vertical-align: middle;\n",
       "    }\n",
       "\n",
       "    .dataframe tbody tr th {\n",
       "        vertical-align: top;\n",
       "    }\n",
       "\n",
       "    .dataframe thead th {\n",
       "        text-align: right;\n",
       "    }\n",
       "</style>\n",
       "<table border=\"1\" class=\"dataframe\">\n",
       "  <thead>\n",
       "    <tr style=\"text-align: right;\">\n",
       "      <th></th>\n",
       "      <th>Name</th>\n",
       "      <th>Platform</th>\n",
       "      <th>Year</th>\n",
       "      <th>Genre</th>\n",
       "      <th>NA_Sales</th>\n",
       "      <th>EU_Sales</th>\n",
       "      <th>JP_Sales</th>\n",
       "      <th>Other_Sales</th>\n",
       "      <th>Global_Sales</th>\n",
       "    </tr>\n",
       "  </thead>\n",
       "  <tbody>\n",
       "    <tr>\n",
       "      <th>0</th>\n",
       "      <td>Wii Sports</td>\n",
       "      <td>Wii</td>\n",
       "      <td>2006.0</td>\n",
       "      <td>Sports</td>\n",
       "      <td>41.49</td>\n",
       "      <td>29.02</td>\n",
       "      <td>3.77</td>\n",
       "      <td>8.46</td>\n",
       "      <td>82.74</td>\n",
       "    </tr>\n",
       "    <tr>\n",
       "      <th>1</th>\n",
       "      <td>Super Mario Bros.</td>\n",
       "      <td>NES</td>\n",
       "      <td>1985.0</td>\n",
       "      <td>Platform</td>\n",
       "      <td>29.08</td>\n",
       "      <td>3.58</td>\n",
       "      <td>6.81</td>\n",
       "      <td>0.77</td>\n",
       "      <td>40.24</td>\n",
       "    </tr>\n",
       "    <tr>\n",
       "      <th>2</th>\n",
       "      <td>Mario Kart Wii</td>\n",
       "      <td>Wii</td>\n",
       "      <td>2008.0</td>\n",
       "      <td>Racing</td>\n",
       "      <td>15.85</td>\n",
       "      <td>12.88</td>\n",
       "      <td>3.79</td>\n",
       "      <td>3.31</td>\n",
       "      <td>35.82</td>\n",
       "    </tr>\n",
       "    <tr>\n",
       "      <th>3</th>\n",
       "      <td>Wii Sports Resort</td>\n",
       "      <td>Wii</td>\n",
       "      <td>2009.0</td>\n",
       "      <td>Sports</td>\n",
       "      <td>15.75</td>\n",
       "      <td>11.01</td>\n",
       "      <td>3.28</td>\n",
       "      <td>2.96</td>\n",
       "      <td>33.0</td>\n",
       "    </tr>\n",
       "    <tr>\n",
       "      <th>4</th>\n",
       "      <td>Pokemon Red/Pokemon Blue</td>\n",
       "      <td>GB</td>\n",
       "      <td>1996.0</td>\n",
       "      <td>Role-Playing</td>\n",
       "      <td>11.27</td>\n",
       "      <td>8.89</td>\n",
       "      <td>10.22</td>\n",
       "      <td>1.0</td>\n",
       "      <td>31.37</td>\n",
       "    </tr>\n",
       "  </tbody>\n",
       "</table>\n",
       "</div>"
      ],
      "text/plain": [
       "                       Name Platform    Year         Genre NA_Sales EU_Sales  \\\n",
       "0                Wii Sports      Wii  2006.0        Sports    41.49    29.02   \n",
       "1         Super Mario Bros.      NES  1985.0      Platform    29.08     3.58   \n",
       "2            Mario Kart Wii      Wii  2008.0        Racing    15.85    12.88   \n",
       "3         Wii Sports Resort      Wii  2009.0        Sports    15.75    11.01   \n",
       "4  Pokemon Red/Pokemon Blue       GB  1996.0  Role-Playing    11.27     8.89   \n",
       "\n",
       "  JP_Sales Other_Sales Global_Sales  \n",
       "0     3.77        8.46        82.74  \n",
       "1     6.81        0.77        40.24  \n",
       "2     3.79        3.31        35.82  \n",
       "3     3.28        2.96         33.0  \n",
       "4    10.22         1.0        31.37  "
      ]
     },
     "execution_count": 290,
     "metadata": {},
     "output_type": "execute_result"
    }
   ],
   "source": [
    "df = df.astype(str)\n",
    "df.drop(['Rank', 'Publisher'], axis=1,inplace=True)\n",
    "apry = df.values.tolist()\n",
    "df.head()"
   ]
  },
  {
   "cell_type": "code",
   "execution_count": 291,
   "metadata": {},
   "outputs": [
    {
     "name": "stdout",
     "output_type": "stream",
     "text": [
      "[RelationRecord(items=frozenset({'GC', '0.01'}), support=0.01723099168574527, ordered_statistics=[OrderedStatistic(items_base=frozenset({'0.01'}), items_add=frozenset({'GC'}), confidence=0.050971306362502224, lift=1.521621839936712), OrderedStatistic(items_base=frozenset({'GC'}), items_add=frozenset({'0.01'}), confidence=0.5143884892086331, lift=1.5216218399367123)]), RelationRecord(items=frozenset({'0.01', 'PC'}), support=0.030063863116038078, ordered_statistics=[OrderedStatistic(items_base=frozenset({'0.01'}), items_add=frozenset({'PC'}), confidence=0.08893245410800214, lift=1.5376050763381455), OrderedStatistic(items_base=frozenset({'PC'}), items_add=frozenset({'0.01'}), confidence=0.5197916666666667, lift=1.5376050763381452)]), RelationRecord(items=frozenset({'XB', '0.01'}), support=0.02656946620074708, ordered_statistics=[OrderedStatistic(items_base=frozenset({'0.01'}), items_add=frozenset({'XB'}), confidence=0.07859561575476742, lift=1.5831675124971234), OrderedStatistic(items_base=frozenset({'XB'}), items_add=frozenset({'0.01'}), confidence=0.5351941747572816, lift=1.5831675124971234)]), RelationRecord(items=frozenset({'0.02', 'PC'}), support=0.022231594167972046, ordered_statistics=[OrderedStatistic(items_base=frozenset({'0.02'}), items_add=frozenset({'PC'}), confidence=0.08810888252148998, lift=1.5233658667621777), OrderedStatistic(items_base=frozenset({'PC'}), items_add=frozenset({'0.02'}), confidence=0.384375, lift=1.523365866762178)]), RelationRecord(items=frozenset({'0.14', '0.11'}), support=0.006085070490420533, ordered_statistics=[OrderedStatistic(items_base=frozenset({'0.11'}), items_add=frozenset({'0.14'}), confidence=0.08530405405405406, lift=1.5406710437314355), OrderedStatistic(items_base=frozenset({'0.14'}), items_add=frozenset({'0.11'}), confidence=0.10990206746463549, lift=1.5406710437314357)]), RelationRecord(items=frozenset({'PS', '1995.0'}), support=0.00596457404506567, ordered_statistics=[OrderedStatistic(items_base=frozenset({'1995.0'}), items_add=frozenset({'PS'}), confidence=0.4520547945205479, lift=6.273583176799377), OrderedStatistic(items_base=frozenset({'PS'}), items_add=frozenset({'1995.0'}), confidence=0.08277591973244147, lift=6.273583176799376)]), RelationRecord(items=frozenset({'1996.0', 'PS'}), support=0.009880708519098686, ordered_statistics=[OrderedStatistic(items_base=frozenset({'1996.0'}), items_add=frozenset({'PS'}), confidence=0.623574144486692, lift=8.653916095476685), OrderedStatistic(items_base=frozenset({'PS'}), items_add=frozenset({'1996.0'}), confidence=0.13712374581939799, lift=8.653916095476683)]), RelationRecord(items=frozenset({'PS', '1997.0'}), support=0.011326665863357031, ordered_statistics=[OrderedStatistic(items_base=frozenset({'1997.0'}), items_add=frozenset({'PS'}), confidence=0.6505190311418685, lift=9.027855249910314), OrderedStatistic(items_base=frozenset({'PS'}), items_add=frozenset({'1997.0'}), confidence=0.15719063545150502, lift=9.027855249910314)]), RelationRecord(items=frozenset({'PS', '1998.0'}), support=0.014941559224002893, ordered_statistics=[OrderedStatistic(items_base=frozenset({'1998.0'}), items_add=frozenset({'PS'}), confidence=0.6543535620052771, lift=9.081070587093302), OrderedStatistic(items_base=frozenset({'PS'}), items_add=frozenset({'1998.0'}), confidence=0.2073578595317726, lift=9.081070587093302)]), RelationRecord(items=frozenset({'N64', '1999.0'}), support=0.006145318713097964, ordered_statistics=[OrderedStatistic(items_base=frozenset({'1999.0'}), items_add=frozenset({'N64'}), confidence=0.30177514792899407, lift=15.701767728292927), OrderedStatistic(items_base=frozenset({'N64'}), items_add=frozenset({'1999.0'}), confidence=0.31974921630094044, lift=15.701767728292927)]), RelationRecord(items=frozenset({'PS', '1999.0'}), support=0.012049644535486204, ordered_statistics=[OrderedStatistic(items_base=frozenset({'1999.0'}), items_add=frozenset({'PS'}), confidence=0.591715976331361, lift=8.211790781896262), OrderedStatistic(items_base=frozenset({'PS'}), items_add=frozenset({'1999.0'}), confidence=0.16722408026755856, lift=8.211790781896262)]), RelationRecord(items=frozenset({'PS', '2000.0'}), support=0.009579467405711532, ordered_statistics=[OrderedStatistic(items_base=frozenset({'2000.0'}), items_add=frozenset({'PS'}), confidence=0.45558739255014324, lift=6.3226083123305), OrderedStatistic(items_base=frozenset({'PS'}), items_add=frozenset({'2000.0'}), confidence=0.13294314381270905, lift=6.322608312330501)]), RelationRecord(items=frozenset({'2001.0', 'GBA'}), support=0.006446559826485118, ordered_statistics=[OrderedStatistic(items_base=frozenset({'2001.0'}), items_add=frozenset({'GBA'}), confidence=0.22199170124481327, lift=4.482503962605122), OrderedStatistic(items_base=frozenset({'GBA'}), items_add=frozenset({'2001.0'}), confidence=0.13017031630170314, lift=4.482503962605122)]), RelationRecord(items=frozenset({'2001.0', 'PS'}), support=0.005482588263646222, ordered_statistics=[OrderedStatistic(items_base=frozenset({'2001.0'}), items_add=frozenset({'PS'}), confidence=0.1887966804979253, lift=2.620106440555656), OrderedStatistic(items_base=frozenset({'PS'}), items_add=frozenset({'2001.0'}), confidence=0.07608695652173914, lift=2.620106440555656)]), RelationRecord(items=frozenset({'2001.0', 'PS2'}), support=0.011145921195324739, ordered_statistics=[OrderedStatistic(items_base=frozenset({'2001.0'}), items_add=frozenset({'PS2'}), confidence=0.38381742738589214, lift=2.9479878110833124), OrderedStatistic(items_base=frozenset({'PS2'}), items_add=frozenset({'2001.0'}), confidence=0.08560851457658492, lift=2.947987811083312)]), RelationRecord(items=frozenset({'GBA', '2002.0'}), support=0.01192914809013134, ordered_statistics=[OrderedStatistic(items_base=frozenset({'2002.0'}), items_add=frozenset({'GBA'}), confidence=0.23884197828709286, lift=4.822748364488038), OrderedStatistic(items_base=frozenset({'GBA'}), items_add=frozenset({'2002.0'}), confidence=0.2408759124087591, lift=4.822748364488038)]), RelationRecord(items=frozenset({'GC', '2002.0'}), support=0.009157729846969515, ordered_statistics=[OrderedStatistic(items_base=frozenset({'2002.0'}), items_add=frozenset({'GC'}), confidence=0.1833534378769602, lift=5.473561801945657), OrderedStatistic(items_base=frozenset({'GC'}), items_add=frozenset({'2002.0'}), confidence=0.2733812949640288, lift=5.473561801945658)]), RelationRecord(items=frozenset({'PS2', '2002.0'}), support=0.016869502349680685, ordered_statistics=[OrderedStatistic(items_base=frozenset({'2002.0'}), items_add=frozenset({'PS2'}), confidence=0.33775633293124246, lift=2.5942062073080807), OrderedStatistic(items_base=frozenset({'PS2'}), items_add=frozenset({'2002.0'}), confidence=0.12956964368347987, lift=2.5942062073080807)]), RelationRecord(items=frozenset({'Racing', '2002.0'}), support=0.006205566935775395, ordered_statistics=[OrderedStatistic(items_base=frozenset({'2002.0'}), items_add=frozenset({'Racing'}), confidence=0.12424607961399277, lift=1.6511100315716989), OrderedStatistic(items_base=frozenset({'Racing'}), items_add=frozenset({'2002.0'}), confidence=0.08246597277822258, lift=1.6511100315716989)]), RelationRecord(items=frozenset({'Sports', '2002.0'}), support=0.011326665863357031, ordered_statistics=[OrderedStatistic(items_base=frozenset({'2002.0'}), items_add=frozenset({'Sports'}), confidence=0.22677925211097708, lift=1.6044680420025565), OrderedStatistic(items_base=frozenset({'Sports'}), items_add=frozenset({'2002.0'}), confidence=0.08013640238704178, lift=1.6044680420025568)]), RelationRecord(items=frozenset({'XB', '2002.0'}), support=0.0095192191830341, ordered_statistics=[OrderedStatistic(items_base=frozenset({'2002.0'}), items_add=frozenset({'XB'}), confidence=0.19059107358262967, lift=3.839114853549135), OrderedStatistic(items_base=frozenset({'XB'}), items_add=frozenset({'2002.0'}), confidence=0.19174757281553398, lift=3.8391148535491353)]), RelationRecord(items=frozenset({'2003.0', 'GBA'}), support=0.009037233401614652, ordered_statistics=[OrderedStatistic(items_base=frozenset({'2003.0'}), items_add=frozenset({'GBA'}), confidence=0.1935483870967742, lift=3.908170473275253), OrderedStatistic(items_base=frozenset({'GBA'}), items_add=frozenset({'2003.0'}), confidence=0.1824817518248175, lift=3.9081704732752525)]), RelationRecord(items=frozenset({'GC', '2003.0'}), support=0.008675744065550066, ordered_statistics=[OrderedStatistic(items_base=frozenset({'2003.0'}), items_add=frozenset({'GC'}), confidence=0.18580645161290324, lift=5.546790438616848), OrderedStatistic(items_base=frozenset({'GC'}), items_add=frozenset({'2003.0'}), confidence=0.2589928057553957, lift=5.546790438616848)]), RelationRecord(items=frozenset({'PS2', '2003.0'}), support=0.01542354500542234, ordered_statistics=[OrderedStatistic(items_base=frozenset({'2003.0'}), items_add=frozenset({'PS2'}), confidence=0.3303225806451613, lift=2.5371097610126734), OrderedStatistic(items_base=frozenset({'PS2'}), items_add=frozenset({'2003.0'}), confidence=0.11846367422489588, lift=2.5371097610126734)]), RelationRecord(items=frozenset({'Platform', '2003.0'}), support=0.0052415953729364985, ordered_statistics=[OrderedStatistic(items_base=frozenset({'2003.0'}), items_add=frozenset({'Platform'}), confidence=0.11225806451612903, lift=2.103001529163329), OrderedStatistic(items_base=frozenset({'Platform'}), items_add=frozenset({'2003.0'}), confidence=0.0981941309255079, lift=2.103001529163329)]), RelationRecord(items=frozenset({'Racing', '2003.0'}), support=0.006567056271839981, ordered_statistics=[OrderedStatistic(items_base=frozenset({'2003.0'}), items_add=frozenset({'Racing'}), confidence=0.1406451612903226, lift=1.869037940029443), OrderedStatistic(items_base=frozenset({'Racing'}), items_add=frozenset({'2003.0'}), confidence=0.08726981585268215, lift=1.869037940029443)]), RelationRecord(items=frozenset({'XB', '2003.0'}), support=0.011386914086034462, ordered_statistics=[OrderedStatistic(items_base=frozenset({'2003.0'}), items_add=frozenset({'XB'}), confidence=0.2438709677419355, lift=4.912342624491075), OrderedStatistic(items_base=frozenset({'XB'}), items_add=frozenset({'2003.0'}), confidence=0.22936893203883496, lift=4.912342624491075)]), RelationRecord(items=frozenset({'2004.0', 'GBA'}), support=0.010543438968550428, ordered_statistics=[OrderedStatistic(items_base=frozenset({'2004.0'}), items_add=frozenset({'GBA'}), confidence=0.22935779816513763, lift=4.631241768789482), OrderedStatistic(items_base=frozenset({'GBA'}), items_add=frozenset({'2004.0'}), confidence=0.21289537712895376, lift=4.631241768789482)]), RelationRecord(items=frozenset({'2004.0', 'GC'}), support=0.005000602482226774, ordered_statistics=[OrderedStatistic(items_base=frozenset({'2004.0'}), items_add=frozenset({'GC'}), confidence=0.10878112712975098, lift=3.247390554135983), OrderedStatistic(items_base=frozenset({'GC'}), items_add=frozenset({'2004.0'}), confidence=0.14928057553956833, lift=3.247390554135983)]), RelationRecord(items=frozenset({'PS2', '2004.0'}), support=0.015604289673454633, ordered_statistics=[OrderedStatistic(items_base=frozenset({'2004.0'}), items_add=frozenset({'PS2'}), confidence=0.33944954128440363, lift=2.607211238425975), OrderedStatistic(items_base=frozenset({'PS2'}), items_add=frozenset({'2004.0'}), confidence=0.11985192040721887, lift=2.607211238425975)]), RelationRecord(items=frozenset({'XB', '2004.0'}), support=0.01066393541390529, ordered_statistics=[OrderedStatistic(items_base=frozenset({'2004.0'}), items_add=frozenset({'XB'}), confidence=0.23197903014416776, lift=4.672800900889437), OrderedStatistic(items_base=frozenset({'XB'}), items_add=frozenset({'2004.0'}), confidence=0.21480582524271843, lift=4.672800900889437)]), RelationRecord(items=frozenset({'2005.0', 'GBA'}), support=0.008133510061453186, ordered_statistics=[OrderedStatistic(items_base=frozenset({'2005.0'}), items_add=frozenset({'GBA'}), confidence=0.14346439957492027, lift=2.8968638736551418), OrderedStatistic(items_base=frozenset({'GBA'}), items_add=frozenset({'2005.0'}), confidence=0.16423357664233576, lift=2.896863873655142)]), RelationRecord(items=frozenset({'2005.0', 'GC'}), support=0.005844077599710808, ordered_statistics=[OrderedStatistic(items_base=frozenset({'2005.0'}), items_add=frozenset({'GC'}), confidence=0.1030818278427205, lift=3.0772521196645233), OrderedStatistic(items_base=frozenset({'GC'}), items_add=frozenset({'2005.0'}), confidence=0.17446043165467626, lift=3.0772521196645233)]), RelationRecord(items=frozenset({'2005.0', 'PS2'}), support=0.015664537896132064, ordered_statistics=[OrderedStatistic(items_base=frozenset({'2005.0'}), items_add=frozenset({'PS2'}), confidence=0.2763018065887354, lift=2.122192219231758), OrderedStatistic(items_base=frozenset({'PS2'}), items_add=frozenset({'2005.0'}), confidence=0.12031466913465988, lift=2.122192219231758)]), RelationRecord(items=frozenset({'2005.0', 'Platform'}), support=0.005000602482226774, ordered_statistics=[OrderedStatistic(items_base=frozenset({'2005.0'}), items_add=frozenset({'Platform'}), confidence=0.08820403825717321, lift=1.6523821975085338), OrderedStatistic(items_base=frozenset({'Platform'}), items_add=frozenset({'2005.0'}), confidence=0.09367945823927765, lift=1.6523821975085338)]), RelationRecord(items=frozenset({'XB', '2005.0'}), support=0.010784431859260151, ordered_statistics=[OrderedStatistic(items_base=frozenset({'2005.0'}), items_add=frozenset({'XB'}), confidence=0.1902231668437832, lift=3.831704033098439), OrderedStatistic(items_base=frozenset({'XB'}), items_add=frozenset({'2005.0'}), confidence=0.21723300970873785, lift=3.8317040330984384)]), RelationRecord(items=frozenset({'DS', '2006.0'}), support=0.012170140980841066, ordered_statistics=[OrderedStatistic(items_base=frozenset({'2006.0'}), items_add=frozenset({'DS'}), confidence=0.2003968253968254, lift=1.537765375837498), OrderedStatistic(items_base=frozenset({'DS'}), items_add=frozenset({'2006.0'}), confidence=0.09338881183541378, lift=1.5377653758374978)]), RelationRecord(items=frozenset({'2006.0', 'PS2'}), support=0.015604289673454633, ordered_statistics=[OrderedStatistic(items_base=frozenset({'2006.0'}), items_add=frozenset({'PS2'}), confidence=0.2569444444444444, lift=1.9735140624196614), OrderedStatistic(items_base=frozenset({'PS2'}), items_add=frozenset({'2006.0'}), confidence=0.11985192040721887, lift=1.9735140624196614)]), RelationRecord(items=frozenset({'2006.0', 'PSP'}), support=0.011447162308711893, ordered_statistics=[OrderedStatistic(items_base=frozenset({'2006.0'}), items_add=frozenset({'PSP'}), confidence=0.1884920634920635, lift=2.5792178646671635), OrderedStatistic(items_base=frozenset({'PSP'}), items_add=frozenset({'2006.0'}), confidence=0.15663643858202803, lift=2.579217864667164)]), RelationRecord(items=frozenset({'DS', '2007.0'}), support=0.022713579949391494, ordered_statistics=[OrderedStatistic(items_base=frozenset({'2007.0'}), items_add=frozenset({'DS'}), confidence=0.3136439267886856, lift=2.4067785006188642), OrderedStatistic(items_base=frozenset({'DS'}), items_add=frozenset({'2007.0'}), confidence=0.1742949607027277, lift=2.4067785006188642)]), RelationRecord(items=frozenset({'2007.0', 'PSP'}), support=0.008073261838775755, ordered_statistics=[OrderedStatistic(items_base=frozenset({'2007.0'}), items_add=frozenset({'PSP'}), confidence=0.11148086522462562, lift=1.5254405614166), OrderedStatistic(items_base=frozenset({'PSP'}), items_add=frozenset({'2007.0'}), confidence=0.11046990931574606, lift=1.5254405614166)]), RelationRecord(items=frozenset({'2007.0', 'Wii'}), support=0.0112664176406796, ordered_statistics=[OrderedStatistic(items_base=frozenset({'2007.0'}), items_add=frozenset({'Wii'}), confidence=0.1555740432612313, lift=1.9488437509810699), OrderedStatistic(items_base=frozenset({'Wii'}), items_add=frozenset({'2007.0'}), confidence=0.14113207547169812, lift=1.9488437509810697)]), RelationRecord(items=frozenset({'2008.0', 'Adventure'}), support=0.010001204964453548, ordered_statistics=[OrderedStatistic(items_base=frozenset({'2008.0'}), items_add=frozenset({'Adventure'}), confidence=0.11624649859943977, lift=1.5003572190929249), OrderedStatistic(items_base=frozenset({'Adventure'}), items_add=frozenset({'2008.0'}), confidence=0.1290824261275272, lift=1.5003572190929249)]), RelationRecord(items=frozenset({'DS', '2008.0'}), support=0.02964212555729606, ordered_statistics=[OrderedStatistic(items_base=frozenset({'2008.0'}), items_add=frozenset({'DS'}), confidence=0.3445378151260504, lift=2.643845887869711), OrderedStatistic(items_base=frozenset({'DS'}), items_add=frozenset({'2008.0'}), confidence=0.22746185852981968, lift=2.643845887869711)]), RelationRecord(items=frozenset({'Simulation', '2008.0'}), support=0.007169538498614291, ordered_statistics=[OrderedStatistic(items_base=frozenset({'2008.0'}), items_add=frozenset({'Simulation'}), confidence=0.08333333333333334, lift=1.5953479430988082), OrderedStatistic(items_base=frozenset({'Simulation'}), items_add=frozenset({'2008.0'}), confidence=0.1372549019607843, lift=1.595347943098808)]), RelationRecord(items=frozenset({'Wii', '2008.0'}), support=0.016989998795035547, ordered_statistics=[OrderedStatistic(items_base=frozenset({'2008.0'}), items_add=frozenset({'Wii'}), confidence=0.19747899159663868, lift=2.4737783415252896), OrderedStatistic(items_base=frozenset({'Wii'}), items_add=frozenset({'2008.0'}), confidence=0.2128301886792453, lift=2.4737783415252896)]), RelationRecord(items=frozenset({'DS', '2009.0'}), support=0.024400530184359562, ordered_statistics=[OrderedStatistic(items_base=frozenset({'2009.0'}), items_add=frozenset({'DS'}), confidence=0.28301886792452835, lift=2.1717740036113367), OrderedStatistic(items_base=frozenset({'DS'}), items_add=frozenset({'2009.0'}), confidence=0.18723994452149792, lift=2.1717740036113367)]), RelationRecord(items=frozenset({'PSP', '2009.0'}), support=0.009699963851066393, ordered_statistics=[OrderedStatistic(items_base=frozenset({'2009.0'}), items_add=frozenset({'PSP'}), confidence=0.11250873515024458, lift=1.5395053470929592), OrderedStatistic(items_base=frozenset({'PSP'}), items_add=frozenset({'2009.0'}), confidence=0.13272877164056057, lift=1.5395053470929592)]), RelationRecord(items=frozenset({'Simulation', '2009.0'}), support=0.007410531389324015, ordered_statistics=[OrderedStatistic(items_base=frozenset({'2009.0'}), items_add=frozenset({'Simulation'}), confidence=0.0859538784067086, lift=1.6455161174100914), OrderedStatistic(items_base=frozenset({'Simulation'}), items_add=frozenset({'2009.0'}), confidence=0.14186851211072662, lift=1.6455161174100912)]), RelationRecord(items=frozenset({'Wii', '2009.0'}), support=0.01958067237016508, ordered_statistics=[OrderedStatistic(items_base=frozenset({'2009.0'}), items_add=frozenset({'Wii'}), confidence=0.22711390635918938, lift=2.845008768113076), OrderedStatistic(items_base=frozenset({'Wii'}), items_add=frozenset({'2009.0'}), confidence=0.24528301886792453, lift=2.845008768113076)]), RelationRecord(items=frozenset({'2009.0', 'X360'}), support=0.010422942523195566, ordered_statistics=[OrderedStatistic(items_base=frozenset({'2009.0'}), items_add=frozenset({'X360'}), confidence=0.12089447938504543, lift=1.5862502520418846), OrderedStatistic(items_base=frozenset({'X360'}), items_add=frozenset({'2009.0'}), confidence=0.1367588932806324, lift=1.5862502520418844)]), RelationRecord(items=frozenset({'2010.0', 'Adventure'}), support=0.009278226292324377, ordered_statistics=[OrderedStatistic(items_base=frozenset({'2010.0'}), items_add=frozenset({'Adventure'}), confidence=0.12231930103256554, lift=1.5787369817562387), OrderedStatistic(items_base=frozenset({'Adventure'}), items_add=frozenset({'2010.0'}), confidence=0.11975116640746501, lift=1.5787369817562384)]), RelationRecord(items=frozenset({'DS', '2010.0'}), support=0.01964092059284251, ordered_statistics=[OrderedStatistic(items_base=frozenset({'2010.0'}), items_add=frozenset({'DS'}), confidence=0.25893566322478156, lift=1.9869690883980233), OrderedStatistic(items_base=frozenset({'DS'}), items_add=frozenset({'2010.0'}), confidence=0.15071659731853906, lift=1.9869690883980233)]), RelationRecord(items=frozenset({'2010.0', 'Misc'}), support=0.012109892758163635, ordered_statistics=[OrderedStatistic(items_base=frozenset({'2010.0'}), items_add=frozenset({'Misc'}), confidence=0.1596505162827641, lift=1.5237948644400912), OrderedStatistic(items_base=frozenset({'Misc'}), items_add=frozenset({'2010.0'}), confidence=0.11558366877515813, lift=1.5237948644400912)]), RelationRecord(items=frozenset({'2010.0', 'PS3'}), support=0.010904928304615013, ordered_statistics=[OrderedStatistic(items_base=frozenset({'2010.0'}), items_add=frozenset({'PS3'}), confidence=0.1437648927720413, lift=1.7954926186834774), OrderedStatistic(items_base=frozenset({'PS3'}), items_add=frozenset({'2010.0'}), confidence=0.1361926260346125, lift=1.7954926186834774)]), RelationRecord(items=frozenset({'2010.0', 'PSP'}), support=0.011326665863357031, ordered_statistics=[OrderedStatistic(items_base=frozenset({'2010.0'}), items_add=frozenset({'PSP'}), confidence=0.14932486100079428, lift=2.04327621013288), OrderedStatistic(items_base=frozenset({'PSP'}), items_add=frozenset({'2010.0'}), confidence=0.1549876339653751, lift=2.04327621013288)]), RelationRecord(items=frozenset({'2010.0', 'Wii'}), support=0.015303048560067478, ordered_statistics=[OrderedStatistic(items_base=frozenset({'2010.0'}), items_add=frozenset({'Wii'}), confidence=0.2017474185861795, lift=2.5272480405233266), OrderedStatistic(items_base=frozenset({'Wii'}), items_add=frozenset({'2010.0'}), confidence=0.19169811320754718, lift=2.5272480405233266)]), RelationRecord(items=frozenset({'2010.0', 'X360'}), support=0.010965176527292444, ordered_statistics=[OrderedStatistic(items_base=frozenset({'2010.0'}), items_add=frozenset({'X360'}), confidence=0.14455917394757742, lift=1.896753493424419), OrderedStatistic(items_base=frozenset({'X360'}), items_add=frozenset({'2010.0'}), confidence=0.14387351778656127, lift=1.8967534934244192)]), RelationRecord(items=frozenset({'3DS', '2011.0'}), support=0.006988793830581998, ordered_statistics=[OrderedStatistic(items_base=frozenset({'2011.0'}), items_add=frozenset({'3DS'}), confidence=0.10184372256365233, lift=3.321025750710219), OrderedStatistic(items_base=frozenset({'3DS'}), items_add=frozenset({'2011.0'}), confidence=0.22789783889980356, lift=3.321025750710219)]), RelationRecord(items=frozenset({'2011.0', 'Misc'}), support=0.011085672972647308, ordered_statistics=[OrderedStatistic(items_base=frozenset({'2011.0'}), items_add=frozenset({'Misc'}), confidence=0.16154521510096576, lift=1.5418789420620067), OrderedStatistic(items_base=frozenset({'Misc'}), items_add=frozenset({'2011.0'}), confidence=0.10580793559516964, lift=1.5418789420620067)]), RelationRecord(items=frozenset({'PC', '2011.0'}), support=0.008434751174840343, ordered_statistics=[OrderedStatistic(items_base=frozenset({'2011.0'}), items_add=frozenset({'PC'}), confidence=0.12291483757682178, lift=2.1251463271875917), OrderedStatistic(items_base=frozenset({'PC'}), items_add=frozenset({'2011.0'}), confidence=0.14583333333333334, lift=2.1251463271875917)]), RelationRecord(items=frozenset({'PS3', '2011.0'}), support=0.0130136160983251, ordered_statistics=[OrderedStatistic(items_base=frozenset({'2011.0'}), items_add=frozenset({'PS3'}), confidence=0.18964003511852504, lift=2.3684313791552136), OrderedStatistic(items_base=frozenset({'PS3'}), items_add=frozenset({'2011.0'}), confidence=0.16252821670428896, lift=2.3684313791552136)]), RelationRecord(items=frozenset({'PSP', '2011.0'}), support=0.008374502952162912, ordered_statistics=[OrderedStatistic(items_base=frozenset({'2011.0'}), items_add=frozenset({'PSP'}), confidence=0.12203687445127305, lift=1.6698829696143693), OrderedStatistic(items_base=frozenset({'PSP'}), items_add=frozenset({'2011.0'}), confidence=0.11459192085737839, lift=1.669882969614369)]), RelationRecord(items=frozenset({'Wii', '2011.0'}), support=0.008675744065550066, ordered_statistics=[OrderedStatistic(items_base=frozenset({'2011.0'}), items_add=frozenset({'Wii'}), confidence=0.1264266900790167, lift=1.5837209071181277), OrderedStatistic(items_base=frozenset({'Wii'}), items_add=frozenset({'2011.0'}), confidence=0.10867924528301888, lift=1.5837209071181275)]), RelationRecord(items=frozenset({'X360', '2011.0'}), support=0.01241113387155079, ordered_statistics=[OrderedStatistic(items_base=frozenset({'2011.0'}), items_add=frozenset({'X360'}), confidence=0.18086040386303776, lift=2.3730600658645855), OrderedStatistic(items_base=frozenset({'X360'}), items_add=frozenset({'2011.0'}), confidence=0.16284584980237155, lift=2.3730600658645855)]), RelationRecord(items=frozenset({'2012.0', '3DS'}), support=0.005603084709001085, ordered_statistics=[OrderedStatistic(items_base=frozenset({'2012.0'}), items_add=frozenset({'3DS'}), confidence=0.14155251141552513, lift=4.615891128634354), OrderedStatistic(items_base=frozenset({'3DS'}), items_add=frozenset({'2012.0'}), confidence=0.18271119842829078, lift=4.615891128634354)]), RelationRecord(items=frozenset({'2012.0', 'Action'}), support=0.01602602723219665, ordered_statistics=[OrderedStatistic(items_base=frozenset({'2012.0'}), items_add=frozenset({'Action'}), confidence=0.4048706240487062, lift=2.026550849807125), OrderedStatistic(items_base=frozenset({'Action'}), items_add=frozenset({'2012.0'}), confidence=0.08021712907117008, lift=2.026550849807125)]), RelationRecord(items=frozenset({'2012.0', 'PS3'}), support=0.00891673695625979, ordered_statistics=[OrderedStatistic(items_base=frozenset({'2012.0'}), items_add=frozenset({'PS3'}), confidence=0.2252663622526636, lift=2.813371768750723), OrderedStatistic(items_base=frozenset({'PS3'}), items_add=frozenset({'2012.0'}), confidence=0.11136192626034613, lift=2.813371768750723)]), RelationRecord(items=frozenset({'2012.0', 'PSP'}), support=0.006386311603807687, ordered_statistics=[OrderedStatistic(items_base=frozenset({'2012.0'}), items_add=frozenset({'PSP'}), confidence=0.1613394216133942, lift=2.2076766034122977), OrderedStatistic(items_base=frozenset({'PSP'}), items_add=frozenset({'2012.0'}), confidence=0.0873866446826051, lift=2.2076766034122977)]), RelationRecord(items=frozenset({'2012.0', 'X360'}), support=0.006386311603807687, ordered_statistics=[OrderedStatistic(items_base=frozenset({'2012.0'}), items_add=frozenset({'X360'}), confidence=0.1613394216133942, lift=2.1169262608214363), OrderedStatistic(items_base=frozenset({'X360'}), items_add=frozenset({'2012.0'}), confidence=0.08379446640316206, lift=2.1169262608214368)]), RelationRecord(items=frozenset({'3DS', '2013.0'}), support=0.005482588263646222, ordered_statistics=[OrderedStatistic(items_base=frozenset({'2013.0'}), items_add=frozenset({'3DS'}), confidence=0.16666666666666663, lift=5.434839554682383), OrderedStatistic(items_base=frozenset({'3DS'}), items_add=frozenset({'2013.0'}), confidence=0.17878192534381138, lift=5.434839554682383)]), RelationRecord(items=frozenset({'PS3', '2013.0'}), support=0.007651524280033739, ordered_statistics=[OrderedStatistic(items_base=frozenset({'2013.0'}), items_add=frozenset({'PS3'}), confidence=0.23260073260073258, lift=2.9049713767546725), OrderedStatistic(items_base=frozenset({'PS3'}), items_add=frozenset({'2013.0'}), confidence=0.09556057185854026, lift=2.9049713767546725)]), RelationRecord(items=frozenset({'2014.0', 'Action'}), support=0.01120616941800217, ordered_statistics=[OrderedStatistic(items_base=frozenset({'2014.0'}), items_add=frozenset({'Action'}), confidence=0.3195876288659794, lift=1.599672938455225), OrderedStatistic(items_base=frozenset({'Action'}), items_add=frozenset({'2014.0'}), confidence=0.056091676718938485, lift=1.599672938455225)]), RelationRecord(items=frozenset({'2014.0', 'PS3'}), support=0.00650680804916255, ordered_statistics=[OrderedStatistic(items_base=frozenset({'2014.0'}), items_add=frozenset({'PS3'}), confidence=0.18556701030927836, lift=2.3175630076097837), OrderedStatistic(items_base=frozenset({'PS3'}), items_add=frozenset({'2014.0'}), confidence=0.08126410835214448, lift=2.3175630076097837)]), RelationRecord(items=frozenset({'PSV', '2014.0'}), support=0.006145318713097964, ordered_statistics=[OrderedStatistic(items_base=frozenset({'2014.0'}), items_add=frozenset({'PSV'}), confidence=0.1752577319587629, lift=7.043408801577595), OrderedStatistic(items_base=frozenset({'PSV'}), items_add=frozenset({'2014.0'}), confidence=0.2469733656174334, lift=7.043408801577594)]), RelationRecord(items=frozenset({'2014.0', 'Role-Playing'}), support=0.005482588263646222, ordered_statistics=[OrderedStatistic(items_base=frozenset({'2014.0'}), items_add=frozenset({'Role-Playing'}), confidence=0.1563573883161512, lift=1.7440994161770682), OrderedStatistic(items_base=frozenset({'Role-Playing'}), items_add=frozenset({'2014.0'}), confidence=0.06115591397849462, lift=1.7440994161770682)]), RelationRecord(items=frozenset({'3DS', '2015.0'}), support=0.0051813471502590676, ordered_statistics=[OrderedStatistic(items_base=frozenset({'2015.0'}), items_add=frozenset({'3DS'}), confidence=0.14006514657980457, lift=4.5673895931858475), OrderedStatistic(items_base=frozenset({'3DS'}), items_add=frozenset({'2015.0'}), confidence=0.16895874263261298, lift=4.5673895931858475)]), RelationRecord(items=frozenset({'Action', '2015.0'}), support=0.015363296782744909, ordered_statistics=[OrderedStatistic(items_base=frozenset({'2015.0'}), items_add=frozenset({'Action'}), confidence=0.4153094462540716, lift=2.078801625128191), OrderedStatistic(items_base=frozenset({'Action'}), items_add=frozenset({'2015.0'}), confidence=0.07689987937273823, lift=2.078801625128191)]), RelationRecord(items=frozenset({'PS4', '2015.0'}), support=0.00825400650680805, ordered_statistics=[OrderedStatistic(items_base=frozenset({'2015.0'}), items_add=frozenset({'PS4'}), confidence=0.2231270358306189, lift=11.022209942608965), OrderedStatistic(items_base=frozenset({'PS4'}), items_add=frozenset({'2015.0'}), confidence=0.40773809523809523, lift=11.022209942608965)]), RelationRecord(items=frozenset({'PSV', '2015.0'}), support=0.006808049162549705, ordered_statistics=[OrderedStatistic(items_base=frozenset({'2015.0'}), items_add=frozenset({'PSV'}), confidence=0.1840390879478827, lift=7.39632150546963), OrderedStatistic(items_base=frozenset({'PSV'}), items_add=frozenset({'2015.0'}), confidence=0.27360774818401934, lift=7.39632150546963)]), RelationRecord(items=frozenset({'2016.0', 'Action'}), support=0.007169538498614291, ordered_statistics=[OrderedStatistic(items_base=frozenset({'2016.0'}), items_add=frozenset({'Action'}), confidence=0.34593023255813954, lift=1.7315289505428226), OrderedStatistic(items_base=frozenset({'Action'}), items_add=frozenset({'2016.0'}), confidence=0.035886610373944514, lift=1.7315289505428226)]), RelationRecord(items=frozenset({'2016.0', 'PS4'}), support=0.006446559826485118, ordered_statistics=[OrderedStatistic(items_base=frozenset({'2016.0'}), items_add=frozenset({'PS4'}), confidence=0.311046511627907, lift=15.36532738095238), OrderedStatistic(items_base=frozenset({'PS4'}), items_add=frozenset({'2016.0'}), confidence=0.31845238095238093, lift=15.36532738095238)]), RelationRecord(items=frozenset({'Action', '3DS'}), support=0.010965176527292444, ordered_statistics=[OrderedStatistic(items_base=frozenset({'3DS'}), items_add=frozenset({'Action'}), confidence=0.35756385068762275, lift=1.7897601911077088), OrderedStatistic(items_base=frozenset({'Action'}), items_add=frozenset({'3DS'}), confidence=0.0548854041013269, lift=1.789760191107709)]), RelationRecord(items=frozenset({'Role-Playing', '3DS'}), support=0.0051813471502590676, ordered_statistics=[OrderedStatistic(items_base=frozenset({'3DS'}), items_add=frozenset({'Role-Playing'}), confidence=0.16895874263261298, lift=1.884662103639859), OrderedStatistic(items_base=frozenset({'Role-Playing'}), items_add=frozenset({'3DS'}), confidence=0.05779569892473118, lift=1.8846621036398588)]), RelationRecord(items=frozenset({'PS4', 'Action'}), support=0.007350283166646584, ordered_statistics=[OrderedStatistic(items_base=frozenset({'Action'}), items_add=frozenset({'PS4'}), confidence=0.03679131483715319, lift=1.8174471537710377), OrderedStatistic(items_base=frozenset({'PS4'}), items_add=frozenset({'Action'}), confidence=0.363095238095238, lift=1.8174471537710377)]), RelationRecord(items=frozenset({'PSV', 'Action'}), support=0.008555247620195204, ordered_statistics=[OrderedStatistic(items_base=frozenset({'Action'}), items_add=frozenset({'PSV'}), confidence=0.0428226779252111, lift=1.7209946929846338), OrderedStatistic(items_base=frozenset({'PSV'}), items_add=frozenset({'Action'}), confidence=0.34382566585956414, lift=1.7209946929846338)]), RelationRecord(items=frozenset({'PSP', 'Adventure'}), support=0.012832871430292806, ordered_statistics=[OrderedStatistic(items_base=frozenset({'Adventure'}), items_add=frozenset({'PSP'}), confidence=0.1656298600311042, lift=2.2663845150834847), OrderedStatistic(items_base=frozenset({'PSP'}), items_add=frozenset({'Adventure'}), confidence=0.17559769167353667, lift=2.266384515083485)]), RelationRecord(items=frozenset({'PSV', 'Adventure'}), support=0.0051813471502590676, ordered_statistics=[OrderedStatistic(items_base=frozenset({'Adventure'}), items_add=frozenset({'PSV'}), confidence=0.06687402799377916, lift=2.687591081454592), OrderedStatistic(items_base=frozenset({'PSV'}), items_add=frozenset({'Adventure'}), confidence=0.20823244552058112, lift=2.6875910814545922)]), RelationRecord(items=frozenset({'DS', 'Misc'}), support=0.023677551512230388, ordered_statistics=[OrderedStatistic(items_base=frozenset({'DS'}), items_add=frozenset({'Misc'}), confidence=0.18169209431345354, lift=1.7341721572252453), OrderedStatistic(items_base=frozenset({'Misc'}), items_add=frozenset({'DS'}), confidence=0.2259919493962047, lift=1.7341721572252453)]), RelationRecord(items=frozenset({'DS', 'Puzzle'}), support=0.014339076997228582, ordered_statistics=[OrderedStatistic(items_base=frozenset({'DS'}), items_add=frozenset({'Puzzle'}), confidence=0.11003236245954692, lift=3.138001979559381), OrderedStatistic(items_base=frozenset({'Puzzle'}), items_add=frozenset({'DS'}), confidence=0.40893470790378006, lift=3.138001979559381)]), RelationRecord(items=frozenset({'DS', 'Simulation'}), support=0.01717074346306784, ordered_statistics=[OrderedStatistic(items_base=frozenset({'DS'}), items_add=frozenset({'Simulation'}), confidence=0.1317614424410541, lift=2.5224641541368116), OrderedStatistic(items_base=frozenset({'Simulation'}), items_add=frozenset({'DS'}), confidence=0.328719723183391, lift=2.5224641541368116)]), RelationRecord(items=frozenset({'PS', 'Fighting'}), support=0.00650680804916255, ordered_statistics=[OrderedStatistic(items_base=frozenset({'Fighting'}), items_add=frozenset({'PS'}), confidence=0.12735849056603774, lift=1.7674717612166342), OrderedStatistic(items_base=frozenset({'PS'}), items_add=frozenset({'Fighting'}), confidence=0.09030100334448161, lift=1.7674717612166344)]), RelationRecord(items=frozenset({'Platform', 'GBA'}), support=0.008555247620195204, ordered_statistics=[OrderedStatistic(items_base=frozenset({'GBA'}), items_add=frozenset({'Platform'}), confidence=0.17274939172749393, lift=3.236223932159079), OrderedStatistic(items_base=frozenset({'Platform'}), items_add=frozenset({'GBA'}), confidence=0.16027088036117382, lift=3.236223932159079)]), RelationRecord(items=frozenset({'Wii', 'Misc'}), support=0.016869502349680685, ordered_statistics=[OrderedStatistic(items_base=frozenset({'Misc'}), items_add=frozenset({'Wii'}), confidence=0.16101207590569291, lift=2.0169648572699557), OrderedStatistic(items_base=frozenset({'Wii'}), items_add=frozenset({'Misc'}), confidence=0.21132075471698117, lift=2.0169648572699557)]), RelationRecord(items=frozenset({'Shooter', 'PC'}), support=0.00891673695625979, ordered_statistics=[OrderedStatistic(items_base=frozenset({'PC'}), items_add=frozenset({'Shooter'}), confidence=0.15416666666666665, lift=1.953326972010178), OrderedStatistic(items_base=frozenset({'Shooter'}), items_add=frozenset({'PC'}), confidence=0.11297709923664122, lift=1.953326972010178)]), RelationRecord(items=frozenset({'Simulation', 'PC'}), support=0.0069285456079045665, ordered_statistics=[OrderedStatistic(items_base=frozenset({'PC'}), items_add=frozenset({'Simulation'}), confidence=0.11979166666666666, lift=2.2933126682045364), OrderedStatistic(items_base=frozenset({'Simulation'}), items_add=frozenset({'PC'}), confidence=0.13264129181084197, lift=2.2933126682045364)]), RelationRecord(items=frozenset({'Strategy', 'PC'}), support=0.011326665863357031, ordered_statistics=[OrderedStatistic(items_base=frozenset({'PC'}), items_add=frozenset({'Strategy'}), confidence=0.19583333333333333, lift=4.773042094958394), OrderedStatistic(items_base=frozenset({'Strategy'}), items_add=frozenset({'PC'}), confidence=0.27606461086637296, lift=4.773042094958394)]), RelationRecord(items=frozenset({'PS', 'Racing'}), support=0.008735992288227497, ordered_statistics=[OrderedStatistic(items_base=frozenset({'PS'}), items_add=frozenset({'Racing'}), confidence=0.12123745819397994, lift=1.6111283675770047), OrderedStatistic(items_base=frozenset({'Racing'}), items_add=frozenset({'PS'}), confidence=0.11609287429943954, lift=1.6111283675770047)]), RelationRecord(items=frozenset({'PSP', 'Role-Playing'}), support=0.011567658754066755, ordered_statistics=[OrderedStatistic(items_base=frozenset({'PSP'}), items_add=frozenset({'Role-Playing'}), confidence=0.15828524319868095, lift=1.765603808206792), OrderedStatistic(items_base=frozenset({'Role-Playing'}), items_add=frozenset({'PSP'}), confidence=0.12903225806451613, lift=1.7656038082067917)]), RelationRecord(items=frozenset({'PSV', 'Role-Playing'}), support=0.005000602482226774, ordered_statistics=[OrderedStatistic(items_base=frozenset({'PSV'}), items_add=frozenset({'Role-Playing'}), confidence=0.2009685230024213, lift=2.2417174360175998), OrderedStatistic(items_base=frozenset({'Role-Playing'}), items_add=frozenset({'PSV'}), confidence=0.05577956989247311, lift=2.2417174360175998)]), RelationRecord(items=frozenset({'XB', 'Racing'}), support=0.007410531389324015, ordered_statistics=[OrderedStatistic(items_base=frozenset({'Racing'}), items_add=frozenset({'XB'}), confidence=0.09847878302642113, lift=1.983678204699682), OrderedStatistic(items_base=frozenset({'XB'}), items_add=frozenset({'Racing'}), confidence=0.14927184466019416, lift=1.983678204699682)]), RelationRecord(items=frozenset({'Shooter', 'X360'}), support=0.012230389203518497, ordered_statistics=[OrderedStatistic(items_base=frozenset({'Shooter'}), items_add=frozenset({'X360'}), confidence=0.15496183206106873, lift=2.033246236007604), OrderedStatistic(items_base=frozenset({'X360'}), items_add=frozenset({'Shooter'}), confidence=0.16047430830039527, lift=2.033246236007604)]), RelationRecord(items=frozenset({'XB', 'Shooter'}), support=0.007952765393420894, ordered_statistics=[OrderedStatistic(items_base=frozenset({'Shooter'}), items_add=frozenset({'XB'}), confidence=0.10076335877862595, lift=2.029696879863633), OrderedStatistic(items_base=frozenset({'XB'}), items_add=frozenset({'Shooter'}), confidence=0.16019417475728154, lift=2.029696879863633)])]\n"
     ]
    }
   ],
   "source": [
    "rules = apriori(transactions = apry, min_support = 0.005, min_confidence = 0.02, min_lift = 1.5, mint_length = 2, max_length = 2)\n",
    "res = list(rules)\n",
    "print(res)"
   ]
  },
  {
   "cell_type": "markdown",
   "metadata": {},
   "source": [
    "Support(поддержка) - показатель \"частотности\"\n",
    "Lift(лифт)- отношение зависимостей items к независимости (насколько зависят друг от друга)\n",
    "Confidende(умереннось) - частота срабатывания правила для всего датасета"
   ]
  },
  {
   "cell_type": "markdown",
   "metadata": {},
   "source": [
    "Функция для вывода"
   ]
  },
  {
   "cell_type": "code",
   "execution_count": 292,
   "metadata": {},
   "outputs": [],
   "source": [
    "def insp(res):\n",
    "    lhs =[tuple(ress[2][0][0])[0] for ress in res]\n",
    "    rhs =[tuple(ress[2][0][1])[0] for ress in res]\n",
    "    support =[ress[1] for ress in res]\n",
    "    confidence = [ress[2][0][2] for ress in res]\n",
    "    lift = [ress[2][0][3] for ress in res]\n",
    "    return list (zip(lhs,rhs,support,confidence,lift))\n",
    "headers = ['Left hand side', 'Right hand side', 'Support', 'Confidence', 'Lift']\n",
    "resulf_df = pd.DataFrame(insp(res), columns=headers)\n",
    "resulf_df = resulf_df.nlargest(n=10, columns='Lift') #сортировка по столбцу Lift\n",
    "top_10 = resulf_df[:10]"
   ]
  },
  {
   "cell_type": "markdown",
   "metadata": {},
   "source": [
    "Вывод сортированного DF"
   ]
  },
  {
   "cell_type": "code",
   "execution_count": 293,
   "metadata": {},
   "outputs": [
    {
     "data": {
      "text/html": [
       "<div>\n",
       "<style scoped>\n",
       "    .dataframe tbody tr th:only-of-type {\n",
       "        vertical-align: middle;\n",
       "    }\n",
       "\n",
       "    .dataframe tbody tr th {\n",
       "        vertical-align: top;\n",
       "    }\n",
       "\n",
       "    .dataframe thead th {\n",
       "        text-align: right;\n",
       "    }\n",
       "</style>\n",
       "<table border=\"1\" class=\"dataframe\">\n",
       "  <thead>\n",
       "    <tr style=\"text-align: right;\">\n",
       "      <th></th>\n",
       "      <th>Left hand side</th>\n",
       "      <th>Right hand side</th>\n",
       "      <th>Support</th>\n",
       "      <th>Confidence</th>\n",
       "      <th>Lift</th>\n",
       "    </tr>\n",
       "  </thead>\n",
       "  <tbody>\n",
       "    <tr>\n",
       "      <th>9</th>\n",
       "      <td>1999.0</td>\n",
       "      <td>N64</td>\n",
       "      <td>0.006145</td>\n",
       "      <td>0.301775</td>\n",
       "      <td>15.701768</td>\n",
       "    </tr>\n",
       "    <tr>\n",
       "      <th>81</th>\n",
       "      <td>2016.0</td>\n",
       "      <td>PS4</td>\n",
       "      <td>0.006447</td>\n",
       "      <td>0.311047</td>\n",
       "      <td>15.365327</td>\n",
       "    </tr>\n",
       "    <tr>\n",
       "      <th>78</th>\n",
       "      <td>2015.0</td>\n",
       "      <td>PS4</td>\n",
       "      <td>0.008254</td>\n",
       "      <td>0.223127</td>\n",
       "      <td>11.022210</td>\n",
       "    </tr>\n",
       "    <tr>\n",
       "      <th>8</th>\n",
       "      <td>1998.0</td>\n",
       "      <td>PS</td>\n",
       "      <td>0.014942</td>\n",
       "      <td>0.654354</td>\n",
       "      <td>9.081071</td>\n",
       "    </tr>\n",
       "    <tr>\n",
       "      <th>7</th>\n",
       "      <td>1997.0</td>\n",
       "      <td>PS</td>\n",
       "      <td>0.011327</td>\n",
       "      <td>0.650519</td>\n",
       "      <td>9.027855</td>\n",
       "    </tr>\n",
       "    <tr>\n",
       "      <th>6</th>\n",
       "      <td>1996.0</td>\n",
       "      <td>PS</td>\n",
       "      <td>0.009881</td>\n",
       "      <td>0.623574</td>\n",
       "      <td>8.653916</td>\n",
       "    </tr>\n",
       "    <tr>\n",
       "      <th>10</th>\n",
       "      <td>1999.0</td>\n",
       "      <td>PS</td>\n",
       "      <td>0.012050</td>\n",
       "      <td>0.591716</td>\n",
       "      <td>8.211791</td>\n",
       "    </tr>\n",
       "    <tr>\n",
       "      <th>79</th>\n",
       "      <td>2015.0</td>\n",
       "      <td>PSV</td>\n",
       "      <td>0.006808</td>\n",
       "      <td>0.184039</td>\n",
       "      <td>7.396322</td>\n",
       "    </tr>\n",
       "    <tr>\n",
       "      <th>74</th>\n",
       "      <td>2014.0</td>\n",
       "      <td>PSV</td>\n",
       "      <td>0.006145</td>\n",
       "      <td>0.175258</td>\n",
       "      <td>7.043409</td>\n",
       "    </tr>\n",
       "    <tr>\n",
       "      <th>11</th>\n",
       "      <td>2000.0</td>\n",
       "      <td>PS</td>\n",
       "      <td>0.009579</td>\n",
       "      <td>0.455587</td>\n",
       "      <td>6.322608</td>\n",
       "    </tr>\n",
       "  </tbody>\n",
       "</table>\n",
       "</div>"
      ],
      "text/plain": [
       "   Left hand side Right hand side   Support  Confidence       Lift\n",
       "9          1999.0             N64  0.006145    0.301775  15.701768\n",
       "81         2016.0             PS4  0.006447    0.311047  15.365327\n",
       "78         2015.0             PS4  0.008254    0.223127  11.022210\n",
       "8          1998.0              PS  0.014942    0.654354   9.081071\n",
       "7          1997.0              PS  0.011327    0.650519   9.027855\n",
       "6          1996.0              PS  0.009881    0.623574   8.653916\n",
       "10         1999.0              PS  0.012050    0.591716   8.211791\n",
       "79         2015.0             PSV  0.006808    0.184039   7.396322\n",
       "74         2014.0             PSV  0.006145    0.175258   7.043409\n",
       "11         2000.0              PS  0.009579    0.455587   6.322608"
      ]
     },
     "execution_count": 293,
     "metadata": {},
     "output_type": "execute_result"
    }
   ],
   "source": [
    "resulf_df"
   ]
  },
  {
   "cell_type": "markdown",
   "metadata": {},
   "source": [
    "Диаграмма"
   ]
  },
  {
   "cell_type": "code",
   "execution_count": 294,
   "metadata": {},
   "outputs": [
    {
     "data": {
      "application/vnd.plotly.v1+json": {
       "config": {
        "plotlyServerURL": "https://plot.ly"
       },
       "data": [
        {
         "hovertemplate": "Support=%{x}<br>Confidence=%{y}<br>Lift=%{marker.color}<extra></extra>",
         "legendgroup": "",
         "marker": {
          "color": [
           15.701767728292927,
           15.36532738095238,
           11.022209942608965,
           9.081070587093302,
           9.027855249910314,
           8.653916095476685,
           8.211790781896262,
           7.39632150546963,
           7.043408801577595,
           6.3226083123305
          ],
          "coloraxis": "coloraxis",
          "symbol": "circle"
         },
         "mode": "markers",
         "name": "",
         "orientation": "v",
         "showlegend": false,
         "type": "scatter",
         "x": [
          0.006145318713097964,
          0.006446559826485118,
          0.00825400650680805,
          0.014941559224002893,
          0.011326665863357031,
          0.009880708519098686,
          0.012049644535486204,
          0.006808049162549705,
          0.006145318713097964,
          0.009579467405711532
         ],
         "xaxis": "x",
         "y": [
          0.30177514792899407,
          0.311046511627907,
          0.2231270358306189,
          0.6543535620052771,
          0.6505190311418685,
          0.623574144486692,
          0.591715976331361,
          0.1840390879478827,
          0.1752577319587629,
          0.45558739255014324
         ],
         "yaxis": "y"
        }
       ],
       "layout": {
        "coloraxis": {
         "colorbar": {
          "title": {
           "text": "Lift"
          }
         },
         "colorscale": [
          [
           0,
           "#0d0887"
          ],
          [
           0.1111111111111111,
           "#46039f"
          ],
          [
           0.2222222222222222,
           "#7201a8"
          ],
          [
           0.3333333333333333,
           "#9c179e"
          ],
          [
           0.4444444444444444,
           "#bd3786"
          ],
          [
           0.5555555555555556,
           "#d8576b"
          ],
          [
           0.6666666666666666,
           "#ed7953"
          ],
          [
           0.7777777777777778,
           "#fb9f3a"
          ],
          [
           0.8888888888888888,
           "#fdca26"
          ],
          [
           1,
           "#f0f921"
          ]
         ]
        },
        "legend": {
         "tracegroupgap": 0
        },
        "margin": {
         "t": 60
        },
        "template": {
         "data": {
          "bar": [
           {
            "error_x": {
             "color": "#2a3f5f"
            },
            "error_y": {
             "color": "#2a3f5f"
            },
            "marker": {
             "line": {
              "color": "#E5ECF6",
              "width": 0.5
             },
             "pattern": {
              "fillmode": "overlay",
              "size": 10,
              "solidity": 0.2
             }
            },
            "type": "bar"
           }
          ],
          "barpolar": [
           {
            "marker": {
             "line": {
              "color": "#E5ECF6",
              "width": 0.5
             },
             "pattern": {
              "fillmode": "overlay",
              "size": 10,
              "solidity": 0.2
             }
            },
            "type": "barpolar"
           }
          ],
          "carpet": [
           {
            "aaxis": {
             "endlinecolor": "#2a3f5f",
             "gridcolor": "white",
             "linecolor": "white",
             "minorgridcolor": "white",
             "startlinecolor": "#2a3f5f"
            },
            "baxis": {
             "endlinecolor": "#2a3f5f",
             "gridcolor": "white",
             "linecolor": "white",
             "minorgridcolor": "white",
             "startlinecolor": "#2a3f5f"
            },
            "type": "carpet"
           }
          ],
          "choropleth": [
           {
            "colorbar": {
             "outlinewidth": 0,
             "ticks": ""
            },
            "type": "choropleth"
           }
          ],
          "contour": [
           {
            "colorbar": {
             "outlinewidth": 0,
             "ticks": ""
            },
            "colorscale": [
             [
              0,
              "#0d0887"
             ],
             [
              0.1111111111111111,
              "#46039f"
             ],
             [
              0.2222222222222222,
              "#7201a8"
             ],
             [
              0.3333333333333333,
              "#9c179e"
             ],
             [
              0.4444444444444444,
              "#bd3786"
             ],
             [
              0.5555555555555556,
              "#d8576b"
             ],
             [
              0.6666666666666666,
              "#ed7953"
             ],
             [
              0.7777777777777778,
              "#fb9f3a"
             ],
             [
              0.8888888888888888,
              "#fdca26"
             ],
             [
              1,
              "#f0f921"
             ]
            ],
            "type": "contour"
           }
          ],
          "contourcarpet": [
           {
            "colorbar": {
             "outlinewidth": 0,
             "ticks": ""
            },
            "type": "contourcarpet"
           }
          ],
          "heatmap": [
           {
            "colorbar": {
             "outlinewidth": 0,
             "ticks": ""
            },
            "colorscale": [
             [
              0,
              "#0d0887"
             ],
             [
              0.1111111111111111,
              "#46039f"
             ],
             [
              0.2222222222222222,
              "#7201a8"
             ],
             [
              0.3333333333333333,
              "#9c179e"
             ],
             [
              0.4444444444444444,
              "#bd3786"
             ],
             [
              0.5555555555555556,
              "#d8576b"
             ],
             [
              0.6666666666666666,
              "#ed7953"
             ],
             [
              0.7777777777777778,
              "#fb9f3a"
             ],
             [
              0.8888888888888888,
              "#fdca26"
             ],
             [
              1,
              "#f0f921"
             ]
            ],
            "type": "heatmap"
           }
          ],
          "heatmapgl": [
           {
            "colorbar": {
             "outlinewidth": 0,
             "ticks": ""
            },
            "colorscale": [
             [
              0,
              "#0d0887"
             ],
             [
              0.1111111111111111,
              "#46039f"
             ],
             [
              0.2222222222222222,
              "#7201a8"
             ],
             [
              0.3333333333333333,
              "#9c179e"
             ],
             [
              0.4444444444444444,
              "#bd3786"
             ],
             [
              0.5555555555555556,
              "#d8576b"
             ],
             [
              0.6666666666666666,
              "#ed7953"
             ],
             [
              0.7777777777777778,
              "#fb9f3a"
             ],
             [
              0.8888888888888888,
              "#fdca26"
             ],
             [
              1,
              "#f0f921"
             ]
            ],
            "type": "heatmapgl"
           }
          ],
          "histogram": [
           {
            "marker": {
             "pattern": {
              "fillmode": "overlay",
              "size": 10,
              "solidity": 0.2
             }
            },
            "type": "histogram"
           }
          ],
          "histogram2d": [
           {
            "colorbar": {
             "outlinewidth": 0,
             "ticks": ""
            },
            "colorscale": [
             [
              0,
              "#0d0887"
             ],
             [
              0.1111111111111111,
              "#46039f"
             ],
             [
              0.2222222222222222,
              "#7201a8"
             ],
             [
              0.3333333333333333,
              "#9c179e"
             ],
             [
              0.4444444444444444,
              "#bd3786"
             ],
             [
              0.5555555555555556,
              "#d8576b"
             ],
             [
              0.6666666666666666,
              "#ed7953"
             ],
             [
              0.7777777777777778,
              "#fb9f3a"
             ],
             [
              0.8888888888888888,
              "#fdca26"
             ],
             [
              1,
              "#f0f921"
             ]
            ],
            "type": "histogram2d"
           }
          ],
          "histogram2dcontour": [
           {
            "colorbar": {
             "outlinewidth": 0,
             "ticks": ""
            },
            "colorscale": [
             [
              0,
              "#0d0887"
             ],
             [
              0.1111111111111111,
              "#46039f"
             ],
             [
              0.2222222222222222,
              "#7201a8"
             ],
             [
              0.3333333333333333,
              "#9c179e"
             ],
             [
              0.4444444444444444,
              "#bd3786"
             ],
             [
              0.5555555555555556,
              "#d8576b"
             ],
             [
              0.6666666666666666,
              "#ed7953"
             ],
             [
              0.7777777777777778,
              "#fb9f3a"
             ],
             [
              0.8888888888888888,
              "#fdca26"
             ],
             [
              1,
              "#f0f921"
             ]
            ],
            "type": "histogram2dcontour"
           }
          ],
          "mesh3d": [
           {
            "colorbar": {
             "outlinewidth": 0,
             "ticks": ""
            },
            "type": "mesh3d"
           }
          ],
          "parcoords": [
           {
            "line": {
             "colorbar": {
              "outlinewidth": 0,
              "ticks": ""
             }
            },
            "type": "parcoords"
           }
          ],
          "pie": [
           {
            "automargin": true,
            "type": "pie"
           }
          ],
          "scatter": [
           {
            "fillpattern": {
             "fillmode": "overlay",
             "size": 10,
             "solidity": 0.2
            },
            "type": "scatter"
           }
          ],
          "scatter3d": [
           {
            "line": {
             "colorbar": {
              "outlinewidth": 0,
              "ticks": ""
             }
            },
            "marker": {
             "colorbar": {
              "outlinewidth": 0,
              "ticks": ""
             }
            },
            "type": "scatter3d"
           }
          ],
          "scattercarpet": [
           {
            "marker": {
             "colorbar": {
              "outlinewidth": 0,
              "ticks": ""
             }
            },
            "type": "scattercarpet"
           }
          ],
          "scattergeo": [
           {
            "marker": {
             "colorbar": {
              "outlinewidth": 0,
              "ticks": ""
             }
            },
            "type": "scattergeo"
           }
          ],
          "scattergl": [
           {
            "marker": {
             "colorbar": {
              "outlinewidth": 0,
              "ticks": ""
             }
            },
            "type": "scattergl"
           }
          ],
          "scattermapbox": [
           {
            "marker": {
             "colorbar": {
              "outlinewidth": 0,
              "ticks": ""
             }
            },
            "type": "scattermapbox"
           }
          ],
          "scatterpolar": [
           {
            "marker": {
             "colorbar": {
              "outlinewidth": 0,
              "ticks": ""
             }
            },
            "type": "scatterpolar"
           }
          ],
          "scatterpolargl": [
           {
            "marker": {
             "colorbar": {
              "outlinewidth": 0,
              "ticks": ""
             }
            },
            "type": "scatterpolargl"
           }
          ],
          "scatterternary": [
           {
            "marker": {
             "colorbar": {
              "outlinewidth": 0,
              "ticks": ""
             }
            },
            "type": "scatterternary"
           }
          ],
          "surface": [
           {
            "colorbar": {
             "outlinewidth": 0,
             "ticks": ""
            },
            "colorscale": [
             [
              0,
              "#0d0887"
             ],
             [
              0.1111111111111111,
              "#46039f"
             ],
             [
              0.2222222222222222,
              "#7201a8"
             ],
             [
              0.3333333333333333,
              "#9c179e"
             ],
             [
              0.4444444444444444,
              "#bd3786"
             ],
             [
              0.5555555555555556,
              "#d8576b"
             ],
             [
              0.6666666666666666,
              "#ed7953"
             ],
             [
              0.7777777777777778,
              "#fb9f3a"
             ],
             [
              0.8888888888888888,
              "#fdca26"
             ],
             [
              1,
              "#f0f921"
             ]
            ],
            "type": "surface"
           }
          ],
          "table": [
           {
            "cells": {
             "fill": {
              "color": "#EBF0F8"
             },
             "line": {
              "color": "white"
             }
            },
            "header": {
             "fill": {
              "color": "#C8D4E3"
             },
             "line": {
              "color": "white"
             }
            },
            "type": "table"
           }
          ]
         },
         "layout": {
          "annotationdefaults": {
           "arrowcolor": "#2a3f5f",
           "arrowhead": 0,
           "arrowwidth": 1
          },
          "autotypenumbers": "strict",
          "coloraxis": {
           "colorbar": {
            "outlinewidth": 0,
            "ticks": ""
           }
          },
          "colorscale": {
           "diverging": [
            [
             0,
             "#8e0152"
            ],
            [
             0.1,
             "#c51b7d"
            ],
            [
             0.2,
             "#de77ae"
            ],
            [
             0.3,
             "#f1b6da"
            ],
            [
             0.4,
             "#fde0ef"
            ],
            [
             0.5,
             "#f7f7f7"
            ],
            [
             0.6,
             "#e6f5d0"
            ],
            [
             0.7,
             "#b8e186"
            ],
            [
             0.8,
             "#7fbc41"
            ],
            [
             0.9,
             "#4d9221"
            ],
            [
             1,
             "#276419"
            ]
           ],
           "sequential": [
            [
             0,
             "#0d0887"
            ],
            [
             0.1111111111111111,
             "#46039f"
            ],
            [
             0.2222222222222222,
             "#7201a8"
            ],
            [
             0.3333333333333333,
             "#9c179e"
            ],
            [
             0.4444444444444444,
             "#bd3786"
            ],
            [
             0.5555555555555556,
             "#d8576b"
            ],
            [
             0.6666666666666666,
             "#ed7953"
            ],
            [
             0.7777777777777778,
             "#fb9f3a"
            ],
            [
             0.8888888888888888,
             "#fdca26"
            ],
            [
             1,
             "#f0f921"
            ]
           ],
           "sequentialminus": [
            [
             0,
             "#0d0887"
            ],
            [
             0.1111111111111111,
             "#46039f"
            ],
            [
             0.2222222222222222,
             "#7201a8"
            ],
            [
             0.3333333333333333,
             "#9c179e"
            ],
            [
             0.4444444444444444,
             "#bd3786"
            ],
            [
             0.5555555555555556,
             "#d8576b"
            ],
            [
             0.6666666666666666,
             "#ed7953"
            ],
            [
             0.7777777777777778,
             "#fb9f3a"
            ],
            [
             0.8888888888888888,
             "#fdca26"
            ],
            [
             1,
             "#f0f921"
            ]
           ]
          },
          "colorway": [
           "#636efa",
           "#EF553B",
           "#00cc96",
           "#ab63fa",
           "#FFA15A",
           "#19d3f3",
           "#FF6692",
           "#B6E880",
           "#FF97FF",
           "#FECB52"
          ],
          "font": {
           "color": "#2a3f5f"
          },
          "geo": {
           "bgcolor": "white",
           "lakecolor": "white",
           "landcolor": "#E5ECF6",
           "showlakes": true,
           "showland": true,
           "subunitcolor": "white"
          },
          "hoverlabel": {
           "align": "left"
          },
          "hovermode": "closest",
          "mapbox": {
           "style": "light"
          },
          "paper_bgcolor": "white",
          "plot_bgcolor": "#E5ECF6",
          "polar": {
           "angularaxis": {
            "gridcolor": "white",
            "linecolor": "white",
            "ticks": ""
           },
           "bgcolor": "#E5ECF6",
           "radialaxis": {
            "gridcolor": "white",
            "linecolor": "white",
            "ticks": ""
           }
          },
          "scene": {
           "xaxis": {
            "backgroundcolor": "#E5ECF6",
            "gridcolor": "white",
            "gridwidth": 2,
            "linecolor": "white",
            "showbackground": true,
            "ticks": "",
            "zerolinecolor": "white"
           },
           "yaxis": {
            "backgroundcolor": "#E5ECF6",
            "gridcolor": "white",
            "gridwidth": 2,
            "linecolor": "white",
            "showbackground": true,
            "ticks": "",
            "zerolinecolor": "white"
           },
           "zaxis": {
            "backgroundcolor": "#E5ECF6",
            "gridcolor": "white",
            "gridwidth": 2,
            "linecolor": "white",
            "showbackground": true,
            "ticks": "",
            "zerolinecolor": "white"
           }
          },
          "shapedefaults": {
           "line": {
            "color": "#2a3f5f"
           }
          },
          "ternary": {
           "aaxis": {
            "gridcolor": "white",
            "linecolor": "white",
            "ticks": ""
           },
           "baxis": {
            "gridcolor": "white",
            "linecolor": "white",
            "ticks": ""
           },
           "bgcolor": "#E5ECF6",
           "caxis": {
            "gridcolor": "white",
            "linecolor": "white",
            "ticks": ""
           }
          },
          "title": {
           "x": 0.05
          },
          "xaxis": {
           "automargin": true,
           "gridcolor": "white",
           "linecolor": "white",
           "ticks": "",
           "title": {
            "standoff": 15
           },
           "zerolinecolor": "white",
           "zerolinewidth": 2
          },
          "yaxis": {
           "automargin": true,
           "gridcolor": "white",
           "linecolor": "white",
           "ticks": "",
           "title": {
            "standoff": 15
           },
           "zerolinecolor": "white",
           "zerolinewidth": 2
          }
         }
        },
        "xaxis": {
         "anchor": "y",
         "domain": [
          0,
          1
         ],
         "title": {
          "text": "Support"
         }
        },
        "yaxis": {
         "anchor": "x",
         "domain": [
          0,
          1
         ],
         "title": {
          "text": "Confidence"
         }
        }
       }
      }
     },
     "metadata": {},
     "output_type": "display_data"
    },
    {
     "data": {
      "application/vnd.plotly.v1+json": {
       "config": {
        "plotlyServerURL": "https://plot.ly"
       },
       "data": [
        {
         "hovertemplate": "Left hand side=%{x}<br>Right hand side=%{y}<br>Support=%{marker.size}<br>Lift=%{marker.color}<extra></extra>",
         "legendgroup": "",
         "marker": {
          "color": [
           15.701767728292927,
           15.36532738095238,
           11.022209942608965,
           9.081070587093302,
           9.027855249910314,
           8.653916095476685,
           8.211790781896262,
           7.39632150546963,
           7.043408801577595,
           6.3226083123305
          ],
          "coloraxis": "coloraxis",
          "size": [
           0.006145318713097964,
           0.006446559826485118,
           0.00825400650680805,
           0.014941559224002893,
           0.011326665863357031,
           0.009880708519098686,
           0.012049644535486204,
           0.006808049162549705,
           0.006145318713097964,
           0.009579467405711532
          ],
          "sizemode": "area",
          "sizeref": 0.00003735389806000723,
          "symbol": "circle"
         },
         "mode": "markers",
         "name": "",
         "orientation": "v",
         "showlegend": false,
         "type": "scatter",
         "x": [
          "1999.0",
          "2016.0",
          "2015.0",
          "1998.0",
          "1997.0",
          "1996.0",
          "1999.0",
          "2015.0",
          "2014.0",
          "2000.0"
         ],
         "xaxis": "x",
         "y": [
          "N64",
          "PS4",
          "PS4",
          "PS",
          "PS",
          "PS",
          "PS",
          "PSV",
          "PSV",
          "PS"
         ],
         "yaxis": "y"
        }
       ],
       "layout": {
        "coloraxis": {
         "colorbar": {
          "title": {
           "text": "Lift"
          }
         },
         "colorscale": [
          [
           0,
           "#0d0887"
          ],
          [
           0.1111111111111111,
           "#46039f"
          ],
          [
           0.2222222222222222,
           "#7201a8"
          ],
          [
           0.3333333333333333,
           "#9c179e"
          ],
          [
           0.4444444444444444,
           "#bd3786"
          ],
          [
           0.5555555555555556,
           "#d8576b"
          ],
          [
           0.6666666666666666,
           "#ed7953"
          ],
          [
           0.7777777777777778,
           "#fb9f3a"
          ],
          [
           0.8888888888888888,
           "#fdca26"
          ],
          [
           1,
           "#f0f921"
          ]
         ]
        },
        "legend": {
         "itemsizing": "constant",
         "tracegroupgap": 0
        },
        "margin": {
         "t": 60
        },
        "template": {
         "data": {
          "bar": [
           {
            "error_x": {
             "color": "#2a3f5f"
            },
            "error_y": {
             "color": "#2a3f5f"
            },
            "marker": {
             "line": {
              "color": "#E5ECF6",
              "width": 0.5
             },
             "pattern": {
              "fillmode": "overlay",
              "size": 10,
              "solidity": 0.2
             }
            },
            "type": "bar"
           }
          ],
          "barpolar": [
           {
            "marker": {
             "line": {
              "color": "#E5ECF6",
              "width": 0.5
             },
             "pattern": {
              "fillmode": "overlay",
              "size": 10,
              "solidity": 0.2
             }
            },
            "type": "barpolar"
           }
          ],
          "carpet": [
           {
            "aaxis": {
             "endlinecolor": "#2a3f5f",
             "gridcolor": "white",
             "linecolor": "white",
             "minorgridcolor": "white",
             "startlinecolor": "#2a3f5f"
            },
            "baxis": {
             "endlinecolor": "#2a3f5f",
             "gridcolor": "white",
             "linecolor": "white",
             "minorgridcolor": "white",
             "startlinecolor": "#2a3f5f"
            },
            "type": "carpet"
           }
          ],
          "choropleth": [
           {
            "colorbar": {
             "outlinewidth": 0,
             "ticks": ""
            },
            "type": "choropleth"
           }
          ],
          "contour": [
           {
            "colorbar": {
             "outlinewidth": 0,
             "ticks": ""
            },
            "colorscale": [
             [
              0,
              "#0d0887"
             ],
             [
              0.1111111111111111,
              "#46039f"
             ],
             [
              0.2222222222222222,
              "#7201a8"
             ],
             [
              0.3333333333333333,
              "#9c179e"
             ],
             [
              0.4444444444444444,
              "#bd3786"
             ],
             [
              0.5555555555555556,
              "#d8576b"
             ],
             [
              0.6666666666666666,
              "#ed7953"
             ],
             [
              0.7777777777777778,
              "#fb9f3a"
             ],
             [
              0.8888888888888888,
              "#fdca26"
             ],
             [
              1,
              "#f0f921"
             ]
            ],
            "type": "contour"
           }
          ],
          "contourcarpet": [
           {
            "colorbar": {
             "outlinewidth": 0,
             "ticks": ""
            },
            "type": "contourcarpet"
           }
          ],
          "heatmap": [
           {
            "colorbar": {
             "outlinewidth": 0,
             "ticks": ""
            },
            "colorscale": [
             [
              0,
              "#0d0887"
             ],
             [
              0.1111111111111111,
              "#46039f"
             ],
             [
              0.2222222222222222,
              "#7201a8"
             ],
             [
              0.3333333333333333,
              "#9c179e"
             ],
             [
              0.4444444444444444,
              "#bd3786"
             ],
             [
              0.5555555555555556,
              "#d8576b"
             ],
             [
              0.6666666666666666,
              "#ed7953"
             ],
             [
              0.7777777777777778,
              "#fb9f3a"
             ],
             [
              0.8888888888888888,
              "#fdca26"
             ],
             [
              1,
              "#f0f921"
             ]
            ],
            "type": "heatmap"
           }
          ],
          "heatmapgl": [
           {
            "colorbar": {
             "outlinewidth": 0,
             "ticks": ""
            },
            "colorscale": [
             [
              0,
              "#0d0887"
             ],
             [
              0.1111111111111111,
              "#46039f"
             ],
             [
              0.2222222222222222,
              "#7201a8"
             ],
             [
              0.3333333333333333,
              "#9c179e"
             ],
             [
              0.4444444444444444,
              "#bd3786"
             ],
             [
              0.5555555555555556,
              "#d8576b"
             ],
             [
              0.6666666666666666,
              "#ed7953"
             ],
             [
              0.7777777777777778,
              "#fb9f3a"
             ],
             [
              0.8888888888888888,
              "#fdca26"
             ],
             [
              1,
              "#f0f921"
             ]
            ],
            "type": "heatmapgl"
           }
          ],
          "histogram": [
           {
            "marker": {
             "pattern": {
              "fillmode": "overlay",
              "size": 10,
              "solidity": 0.2
             }
            },
            "type": "histogram"
           }
          ],
          "histogram2d": [
           {
            "colorbar": {
             "outlinewidth": 0,
             "ticks": ""
            },
            "colorscale": [
             [
              0,
              "#0d0887"
             ],
             [
              0.1111111111111111,
              "#46039f"
             ],
             [
              0.2222222222222222,
              "#7201a8"
             ],
             [
              0.3333333333333333,
              "#9c179e"
             ],
             [
              0.4444444444444444,
              "#bd3786"
             ],
             [
              0.5555555555555556,
              "#d8576b"
             ],
             [
              0.6666666666666666,
              "#ed7953"
             ],
             [
              0.7777777777777778,
              "#fb9f3a"
             ],
             [
              0.8888888888888888,
              "#fdca26"
             ],
             [
              1,
              "#f0f921"
             ]
            ],
            "type": "histogram2d"
           }
          ],
          "histogram2dcontour": [
           {
            "colorbar": {
             "outlinewidth": 0,
             "ticks": ""
            },
            "colorscale": [
             [
              0,
              "#0d0887"
             ],
             [
              0.1111111111111111,
              "#46039f"
             ],
             [
              0.2222222222222222,
              "#7201a8"
             ],
             [
              0.3333333333333333,
              "#9c179e"
             ],
             [
              0.4444444444444444,
              "#bd3786"
             ],
             [
              0.5555555555555556,
              "#d8576b"
             ],
             [
              0.6666666666666666,
              "#ed7953"
             ],
             [
              0.7777777777777778,
              "#fb9f3a"
             ],
             [
              0.8888888888888888,
              "#fdca26"
             ],
             [
              1,
              "#f0f921"
             ]
            ],
            "type": "histogram2dcontour"
           }
          ],
          "mesh3d": [
           {
            "colorbar": {
             "outlinewidth": 0,
             "ticks": ""
            },
            "type": "mesh3d"
           }
          ],
          "parcoords": [
           {
            "line": {
             "colorbar": {
              "outlinewidth": 0,
              "ticks": ""
             }
            },
            "type": "parcoords"
           }
          ],
          "pie": [
           {
            "automargin": true,
            "type": "pie"
           }
          ],
          "scatter": [
           {
            "fillpattern": {
             "fillmode": "overlay",
             "size": 10,
             "solidity": 0.2
            },
            "type": "scatter"
           }
          ],
          "scatter3d": [
           {
            "line": {
             "colorbar": {
              "outlinewidth": 0,
              "ticks": ""
             }
            },
            "marker": {
             "colorbar": {
              "outlinewidth": 0,
              "ticks": ""
             }
            },
            "type": "scatter3d"
           }
          ],
          "scattercarpet": [
           {
            "marker": {
             "colorbar": {
              "outlinewidth": 0,
              "ticks": ""
             }
            },
            "type": "scattercarpet"
           }
          ],
          "scattergeo": [
           {
            "marker": {
             "colorbar": {
              "outlinewidth": 0,
              "ticks": ""
             }
            },
            "type": "scattergeo"
           }
          ],
          "scattergl": [
           {
            "marker": {
             "colorbar": {
              "outlinewidth": 0,
              "ticks": ""
             }
            },
            "type": "scattergl"
           }
          ],
          "scattermapbox": [
           {
            "marker": {
             "colorbar": {
              "outlinewidth": 0,
              "ticks": ""
             }
            },
            "type": "scattermapbox"
           }
          ],
          "scatterpolar": [
           {
            "marker": {
             "colorbar": {
              "outlinewidth": 0,
              "ticks": ""
             }
            },
            "type": "scatterpolar"
           }
          ],
          "scatterpolargl": [
           {
            "marker": {
             "colorbar": {
              "outlinewidth": 0,
              "ticks": ""
             }
            },
            "type": "scatterpolargl"
           }
          ],
          "scatterternary": [
           {
            "marker": {
             "colorbar": {
              "outlinewidth": 0,
              "ticks": ""
             }
            },
            "type": "scatterternary"
           }
          ],
          "surface": [
           {
            "colorbar": {
             "outlinewidth": 0,
             "ticks": ""
            },
            "colorscale": [
             [
              0,
              "#0d0887"
             ],
             [
              0.1111111111111111,
              "#46039f"
             ],
             [
              0.2222222222222222,
              "#7201a8"
             ],
             [
              0.3333333333333333,
              "#9c179e"
             ],
             [
              0.4444444444444444,
              "#bd3786"
             ],
             [
              0.5555555555555556,
              "#d8576b"
             ],
             [
              0.6666666666666666,
              "#ed7953"
             ],
             [
              0.7777777777777778,
              "#fb9f3a"
             ],
             [
              0.8888888888888888,
              "#fdca26"
             ],
             [
              1,
              "#f0f921"
             ]
            ],
            "type": "surface"
           }
          ],
          "table": [
           {
            "cells": {
             "fill": {
              "color": "#EBF0F8"
             },
             "line": {
              "color": "white"
             }
            },
            "header": {
             "fill": {
              "color": "#C8D4E3"
             },
             "line": {
              "color": "white"
             }
            },
            "type": "table"
           }
          ]
         },
         "layout": {
          "annotationdefaults": {
           "arrowcolor": "#2a3f5f",
           "arrowhead": 0,
           "arrowwidth": 1
          },
          "autotypenumbers": "strict",
          "coloraxis": {
           "colorbar": {
            "outlinewidth": 0,
            "ticks": ""
           }
          },
          "colorscale": {
           "diverging": [
            [
             0,
             "#8e0152"
            ],
            [
             0.1,
             "#c51b7d"
            ],
            [
             0.2,
             "#de77ae"
            ],
            [
             0.3,
             "#f1b6da"
            ],
            [
             0.4,
             "#fde0ef"
            ],
            [
             0.5,
             "#f7f7f7"
            ],
            [
             0.6,
             "#e6f5d0"
            ],
            [
             0.7,
             "#b8e186"
            ],
            [
             0.8,
             "#7fbc41"
            ],
            [
             0.9,
             "#4d9221"
            ],
            [
             1,
             "#276419"
            ]
           ],
           "sequential": [
            [
             0,
             "#0d0887"
            ],
            [
             0.1111111111111111,
             "#46039f"
            ],
            [
             0.2222222222222222,
             "#7201a8"
            ],
            [
             0.3333333333333333,
             "#9c179e"
            ],
            [
             0.4444444444444444,
             "#bd3786"
            ],
            [
             0.5555555555555556,
             "#d8576b"
            ],
            [
             0.6666666666666666,
             "#ed7953"
            ],
            [
             0.7777777777777778,
             "#fb9f3a"
            ],
            [
             0.8888888888888888,
             "#fdca26"
            ],
            [
             1,
             "#f0f921"
            ]
           ],
           "sequentialminus": [
            [
             0,
             "#0d0887"
            ],
            [
             0.1111111111111111,
             "#46039f"
            ],
            [
             0.2222222222222222,
             "#7201a8"
            ],
            [
             0.3333333333333333,
             "#9c179e"
            ],
            [
             0.4444444444444444,
             "#bd3786"
            ],
            [
             0.5555555555555556,
             "#d8576b"
            ],
            [
             0.6666666666666666,
             "#ed7953"
            ],
            [
             0.7777777777777778,
             "#fb9f3a"
            ],
            [
             0.8888888888888888,
             "#fdca26"
            ],
            [
             1,
             "#f0f921"
            ]
           ]
          },
          "colorway": [
           "#636efa",
           "#EF553B",
           "#00cc96",
           "#ab63fa",
           "#FFA15A",
           "#19d3f3",
           "#FF6692",
           "#B6E880",
           "#FF97FF",
           "#FECB52"
          ],
          "font": {
           "color": "#2a3f5f"
          },
          "geo": {
           "bgcolor": "white",
           "lakecolor": "white",
           "landcolor": "#E5ECF6",
           "showlakes": true,
           "showland": true,
           "subunitcolor": "white"
          },
          "hoverlabel": {
           "align": "left"
          },
          "hovermode": "closest",
          "mapbox": {
           "style": "light"
          },
          "paper_bgcolor": "white",
          "plot_bgcolor": "#E5ECF6",
          "polar": {
           "angularaxis": {
            "gridcolor": "white",
            "linecolor": "white",
            "ticks": ""
           },
           "bgcolor": "#E5ECF6",
           "radialaxis": {
            "gridcolor": "white",
            "linecolor": "white",
            "ticks": ""
           }
          },
          "scene": {
           "xaxis": {
            "backgroundcolor": "#E5ECF6",
            "gridcolor": "white",
            "gridwidth": 2,
            "linecolor": "white",
            "showbackground": true,
            "ticks": "",
            "zerolinecolor": "white"
           },
           "yaxis": {
            "backgroundcolor": "#E5ECF6",
            "gridcolor": "white",
            "gridwidth": 2,
            "linecolor": "white",
            "showbackground": true,
            "ticks": "",
            "zerolinecolor": "white"
           },
           "zaxis": {
            "backgroundcolor": "#E5ECF6",
            "gridcolor": "white",
            "gridwidth": 2,
            "linecolor": "white",
            "showbackground": true,
            "ticks": "",
            "zerolinecolor": "white"
           }
          },
          "shapedefaults": {
           "line": {
            "color": "#2a3f5f"
           }
          },
          "ternary": {
           "aaxis": {
            "gridcolor": "white",
            "linecolor": "white",
            "ticks": ""
           },
           "baxis": {
            "gridcolor": "white",
            "linecolor": "white",
            "ticks": ""
           },
           "bgcolor": "#E5ECF6",
           "caxis": {
            "gridcolor": "white",
            "linecolor": "white",
            "ticks": ""
           }
          },
          "title": {
           "x": 0.05
          },
          "xaxis": {
           "automargin": true,
           "gridcolor": "white",
           "linecolor": "white",
           "ticks": "",
           "title": {
            "standoff": 15
           },
           "zerolinecolor": "white",
           "zerolinewidth": 2
          },
          "yaxis": {
           "automargin": true,
           "gridcolor": "white",
           "linecolor": "white",
           "ticks": "",
           "title": {
            "standoff": 15
           },
           "zerolinecolor": "white",
           "zerolinewidth": 2
          }
         }
        },
        "xaxis": {
         "anchor": "y",
         "domain": [
          0,
          1
         ],
         "title": {
          "text": "Left hand side"
         }
        },
        "yaxis": {
         "anchor": "x",
         "domain": [
          0,
          1
         ],
         "title": {
          "text": "Right hand side"
         }
        }
       }
      }
     },
     "metadata": {},
     "output_type": "display_data"
    }
   ],
   "source": [
    "fig = ps.scatter(top_10, x = 'Support', y = 'Confidence', color = 'Lift')\n",
    "fig.show()\n",
    "\n",
    "fig2 = ps.scatter(top_10, x = 'Left hand side', y = 'Right hand side', color = 'Lift', size = 'Support')\n",
    "fig2.show()"
   ]
  }
 ],
 "metadata": {
  "kernelspec": {
   "display_name": "Python 3",
   "language": "python",
   "name": "python3"
  },
  "language_info": {
   "codemirror_mode": {
    "name": "ipython",
    "version": 3
   },
   "file_extension": ".py",
   "mimetype": "text/x-python",
   "name": "python",
   "nbconvert_exporter": "python",
   "pygments_lexer": "ipython3",
   "version": "3.11.6"
  }
 },
 "nbformat": 4,
 "nbformat_minor": 2
}
