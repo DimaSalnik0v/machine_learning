{
 "cells": [
  {
   "cell_type": "code",
   "execution_count": 252,
   "metadata": {},
   "outputs": [],
   "source": [
    "import pandas as pd\n",
    "import numpy as np\n",
    "import matplotlib.pyplot as plt\n",
    "import plotly.express as px\n",
    "df = pd.read_csv(\"spotify-2023.csv\", sep=\",\")\n",
    "df.head()\n",
    "target = 'artist_count'"
   ]
  },
  {
   "cell_type": "code",
   "execution_count": 253,
   "metadata": {},
   "outputs": [
    {
     "data": {
      "text/html": [
       "<div>\n",
       "<style scoped>\n",
       "    .dataframe tbody tr th:only-of-type {\n",
       "        vertical-align: middle;\n",
       "    }\n",
       "\n",
       "    .dataframe tbody tr th {\n",
       "        vertical-align: top;\n",
       "    }\n",
       "\n",
       "    .dataframe thead th {\n",
       "        text-align: right;\n",
       "    }\n",
       "</style>\n",
       "<table border=\"1\" class=\"dataframe\">\n",
       "  <thead>\n",
       "    <tr style=\"text-align: right;\">\n",
       "      <th></th>\n",
       "      <th>track_name</th>\n",
       "      <th>artist(s)_name</th>\n",
       "      <th>artist_count</th>\n",
       "      <th>released_year</th>\n",
       "      <th>released_month</th>\n",
       "      <th>released_day</th>\n",
       "      <th>in_spotify_playlists</th>\n",
       "      <th>in_spotify_charts</th>\n",
       "      <th>streams</th>\n",
       "      <th>in_apple_playlists</th>\n",
       "      <th>...</th>\n",
       "      <th>danceability_%</th>\n",
       "      <th>valence_%</th>\n",
       "      <th>energy_%</th>\n",
       "      <th>acousticness_%</th>\n",
       "      <th>instrumentalness_%</th>\n",
       "      <th>liveness_%</th>\n",
       "      <th>speechiness_%</th>\n",
       "      <th>total_number_of_playlists</th>\n",
       "      <th>ratio_streams_to_playlists</th>\n",
       "      <th>amount_of_artists</th>\n",
       "    </tr>\n",
       "  </thead>\n",
       "  <tbody>\n",
       "    <tr>\n",
       "      <th>0</th>\n",
       "      <td>Seven (feat. Latto) (Explicit Ver.)</td>\n",
       "      <td>Latto, Jung Kook</td>\n",
       "      <td>2</td>\n",
       "      <td>2023</td>\n",
       "      <td>7</td>\n",
       "      <td>14</td>\n",
       "      <td>553</td>\n",
       "      <td>147</td>\n",
       "      <td>141381703</td>\n",
       "      <td>43</td>\n",
       "      <td>...</td>\n",
       "      <td>80</td>\n",
       "      <td>89</td>\n",
       "      <td>83</td>\n",
       "      <td>31</td>\n",
       "      <td>0</td>\n",
       "      <td>8</td>\n",
       "      <td>4</td>\n",
       "      <td>596</td>\n",
       "      <td>255663.115732</td>\n",
       "      <td>0</td>\n",
       "    </tr>\n",
       "    <tr>\n",
       "      <th>1</th>\n",
       "      <td>LALA</td>\n",
       "      <td>Myke Towers</td>\n",
       "      <td>1</td>\n",
       "      <td>2023</td>\n",
       "      <td>3</td>\n",
       "      <td>23</td>\n",
       "      <td>1474</td>\n",
       "      <td>48</td>\n",
       "      <td>133716286</td>\n",
       "      <td>48</td>\n",
       "      <td>...</td>\n",
       "      <td>71</td>\n",
       "      <td>61</td>\n",
       "      <td>74</td>\n",
       "      <td>7</td>\n",
       "      <td>0</td>\n",
       "      <td>10</td>\n",
       "      <td>4</td>\n",
       "      <td>1522</td>\n",
       "      <td>90716.611940</td>\n",
       "      <td>0</td>\n",
       "    </tr>\n",
       "    <tr>\n",
       "      <th>2</th>\n",
       "      <td>vampire</td>\n",
       "      <td>Olivia Rodrigo</td>\n",
       "      <td>1</td>\n",
       "      <td>2023</td>\n",
       "      <td>6</td>\n",
       "      <td>30</td>\n",
       "      <td>1397</td>\n",
       "      <td>113</td>\n",
       "      <td>140003974</td>\n",
       "      <td>94</td>\n",
       "      <td>...</td>\n",
       "      <td>51</td>\n",
       "      <td>32</td>\n",
       "      <td>53</td>\n",
       "      <td>17</td>\n",
       "      <td>0</td>\n",
       "      <td>31</td>\n",
       "      <td>6</td>\n",
       "      <td>1491</td>\n",
       "      <td>100217.590551</td>\n",
       "      <td>0</td>\n",
       "    </tr>\n",
       "    <tr>\n",
       "      <th>3</th>\n",
       "      <td>Cruel Summer</td>\n",
       "      <td>Taylor Swift</td>\n",
       "      <td>1</td>\n",
       "      <td>2019</td>\n",
       "      <td>8</td>\n",
       "      <td>23</td>\n",
       "      <td>7858</td>\n",
       "      <td>100</td>\n",
       "      <td>800840817</td>\n",
       "      <td>116</td>\n",
       "      <td>...</td>\n",
       "      <td>55</td>\n",
       "      <td>58</td>\n",
       "      <td>72</td>\n",
       "      <td>11</td>\n",
       "      <td>0</td>\n",
       "      <td>11</td>\n",
       "      <td>15</td>\n",
       "      <td>7974</td>\n",
       "      <td>101914.076992</td>\n",
       "      <td>0</td>\n",
       "    </tr>\n",
       "    <tr>\n",
       "      <th>4</th>\n",
       "      <td>WHERE SHE GOES</td>\n",
       "      <td>Bad Bunny</td>\n",
       "      <td>1</td>\n",
       "      <td>2023</td>\n",
       "      <td>5</td>\n",
       "      <td>18</td>\n",
       "      <td>3133</td>\n",
       "      <td>50</td>\n",
       "      <td>303236322</td>\n",
       "      <td>84</td>\n",
       "      <td>...</td>\n",
       "      <td>65</td>\n",
       "      <td>23</td>\n",
       "      <td>80</td>\n",
       "      <td>14</td>\n",
       "      <td>63</td>\n",
       "      <td>11</td>\n",
       "      <td>6</td>\n",
       "      <td>3217</td>\n",
       "      <td>96787.846154</td>\n",
       "      <td>0</td>\n",
       "    </tr>\n",
       "  </tbody>\n",
       "</table>\n",
       "<p>5 rows × 27 columns</p>\n",
       "</div>"
      ],
      "text/plain": [
       "                            track_name    artist(s)_name  artist_count  \\\n",
       "0  Seven (feat. Latto) (Explicit Ver.)  Latto, Jung Kook             2   \n",
       "1                                 LALA       Myke Towers             1   \n",
       "2                              vampire    Olivia Rodrigo             1   \n",
       "3                         Cruel Summer      Taylor Swift             1   \n",
       "4                       WHERE SHE GOES         Bad Bunny             1   \n",
       "\n",
       "   released_year  released_month  released_day  in_spotify_playlists  \\\n",
       "0           2023               7            14                   553   \n",
       "1           2023               3            23                  1474   \n",
       "2           2023               6            30                  1397   \n",
       "3           2019               8            23                  7858   \n",
       "4           2023               5            18                  3133   \n",
       "\n",
       "   in_spotify_charts    streams  in_apple_playlists  ...  danceability_%  \\\n",
       "0                147  141381703                  43  ...              80   \n",
       "1                 48  133716286                  48  ...              71   \n",
       "2                113  140003974                  94  ...              51   \n",
       "3                100  800840817                 116  ...              55   \n",
       "4                 50  303236322                  84  ...              65   \n",
       "\n",
       "  valence_%  energy_% acousticness_%  instrumentalness_% liveness_%  \\\n",
       "0        89        83             31                   0          8   \n",
       "1        61        74              7                   0         10   \n",
       "2        32        53             17                   0         31   \n",
       "3        58        72             11                   0         11   \n",
       "4        23        80             14                  63         11   \n",
       "\n",
       "   speechiness_%  total_number_of_playlists  ratio_streams_to_playlists  \\\n",
       "0              4                        596               255663.115732   \n",
       "1              4                       1522                90716.611940   \n",
       "2              6                       1491               100217.590551   \n",
       "3             15                       7974               101914.076992   \n",
       "4              6                       3217                96787.846154   \n",
       "\n",
       "   amount_of_artists  \n",
       "0                  0  \n",
       "1                  0  \n",
       "2                  0  \n",
       "3                  0  \n",
       "4                  0  \n",
       "\n",
       "[5 rows x 27 columns]"
      ]
     },
     "execution_count": 253,
     "metadata": {},
     "output_type": "execute_result"
    }
   ],
   "source": [
    "#Добавление новых численных показателей (колонок)\n",
    "\n",
    "# количество плейлистов в AM и Spotify, в которые включена песня\n",
    "df['total_number_of_playlists'] = df['in_apple_playlists'] + df['in_spotify_playlists']\n",
    "\n",
    "#Соотношение прослушиваний к числу плейлистов (spotify)\n",
    "df['ratio_streams_to_playlists'] = df['streams'].astype(int) / df['in_spotify_playlists']\n",
    "\n",
    "# колонка T/F (0/1) для бин. поиска\n",
    "compare = 2 #порог для сравнения (если 1-2 исполнителя - 0, >2 => 1)\n",
    "df['amount_of_artists'] = (df['artist_count'] > compare).astype(int)\n",
    "df['mode'] = (df['mode'] == 'Major').astype(int)\n",
    "df.head()\n"
   ]
  },
  {
   "cell_type": "code",
   "execution_count": 183,
   "metadata": {},
   "outputs": [
    {
     "name": "stdout",
     "output_type": "stream",
     "text": [
      "                              track_name      artist(s)_name  artist_count  \\\n",
      "0    Seven (feat. Latto) (Explicit Ver.)    Latto, Jung Kook             2   \n",
      "1                                   LALA         Myke Towers             1   \n",
      "2                                vampire      Olivia Rodrigo             1   \n",
      "3                           Cruel Summer        Taylor Swift             1   \n",
      "4                         WHERE SHE GOES           Bad Bunny             1   \n",
      "..                                   ...                 ...           ...   \n",
      "948                         My Mind & Me        Selena Gomez             1   \n",
      "949            Bigger Than The Whole Sky        Taylor Swift             1   \n",
      "950                 A Veces (feat. Feid)  Feid, Paulo Londra             2   \n",
      "951                        En La De Ella  Feid, Sech, Jhayco             3   \n",
      "952                                Alone           Burna Boy             1   \n",
      "\n",
      "     released_year  released_month  released_day  in_spotify_playlists  \\\n",
      "0             2023               7            14                   553   \n",
      "1             2023               3            23                  1474   \n",
      "2             2023               6            30                  1397   \n",
      "3             2019               8            23                  7858   \n",
      "4             2023               5            18                  3133   \n",
      "..             ...             ...           ...                   ...   \n",
      "948           2022              11             3                   953   \n",
      "949           2022              10            21                  1180   \n",
      "950           2022              11             3                   573   \n",
      "951           2022              10            20                  1320   \n",
      "952           2022              11             4                   782   \n",
      "\n",
      "     in_spotify_charts    streams  in_apple_playlists  ...  danceability_%  \\\n",
      "0                  147  141381703                  43  ...              80   \n",
      "1                   48  133716286                  48  ...              71   \n",
      "2                  113  140003974                  94  ...              51   \n",
      "3                  100  800840817                 116  ...              55   \n",
      "4                   50  303236322                  84  ...              65   \n",
      "..                 ...        ...                 ...  ...             ...   \n",
      "948                  0   91473363                  61  ...              60   \n",
      "949                  0  121871870                   4  ...              42   \n",
      "950                  0   73513683                   2  ...              80   \n",
      "951                  0  133895612                  29  ...              82   \n",
      "952                  2   96007391                  27  ...              61   \n",
      "\n",
      "    valence_%  energy_% acousticness_%  instrumentalness_% liveness_%  \\\n",
      "0          89        83             31                   0          8   \n",
      "1          61        74              7                   0         10   \n",
      "2          32        53             17                   0         31   \n",
      "3          58        72             11                   0         11   \n",
      "4          23        80             14                  63         11   \n",
      "..        ...       ...            ...                 ...        ...   \n",
      "948        24        39             57                   0          8   \n",
      "949         7        24             83                   1         12   \n",
      "950        81        67              4                   0          8   \n",
      "951        67        77              8                   0         12   \n",
      "952        32        67             15                   0         11   \n",
      "\n",
      "     speechiness_%  total_number_of_playlists  ratio_streams_to_playlists  \\\n",
      "0                4                        596               255663.115732   \n",
      "1                4                       1522                90716.611940   \n",
      "2                6                       1491               100217.590551   \n",
      "3               15                       7974               101914.076992   \n",
      "4                6                       3217                96787.846154   \n",
      "..             ...                        ...                         ...   \n",
      "948              3                       1014                95984.641133   \n",
      "949              6                       1184               103281.245763   \n",
      "950              6                        575               128296.130890   \n",
      "951              5                       1349               101436.069697   \n",
      "952              5                        809               122771.599744   \n",
      "\n",
      "     amount_of_artists  \n",
      "0                    0  \n",
      "1                    0  \n",
      "2                    0  \n",
      "3                    0  \n",
      "4                    0  \n",
      "..                 ...  \n",
      "948                  0  \n",
      "949                  0  \n",
      "950                  0  \n",
      "951                  1  \n",
      "952                  0  \n",
      "\n",
      "[953 rows x 26 columns]\n",
      "\n",
      "Удалённые колонки:\n",
      "['mode']\n"
     ]
    }
   ],
   "source": [
    "#Удаление с оконулевой дисперсией\n",
    "\n",
    "numeric_columns = df.select_dtypes(include=['number']).drop(columns=[target,'amount_of_artists'])\n",
    "count = 1 #порог\n",
    "variances = numeric_columns.var() #считаем дисперсию\n",
    "drop = [] #удалённые колонки\n",
    "for i in numeric_columns.columns:\n",
    "    if numeric_columns[i].var() < count:\n",
    "        drop.append(i)\n",
    "df_filtered = df.drop(columns=drop) #обновлённый DF без колонок с дисп. ниже заданного порога\n",
    "print(df_filtered)\n",
    "print(\"\\nУдалённые колонки:\")\n",
    "print(drop)"
   ]
  },
  {
   "cell_type": "code",
   "execution_count": 184,
   "metadata": {},
   "outputs": [
    {
     "name": "stdout",
     "output_type": "stream",
     "text": [
      "                              track_name      artist(s)_name  artist_count  \\\n",
      "0    Seven (feat. Latto) (Explicit Ver.)    Latto, Jung Kook             2   \n",
      "1                                   LALA         Myke Towers             1   \n",
      "2                                vampire      Olivia Rodrigo             1   \n",
      "3                           Cruel Summer        Taylor Swift             1   \n",
      "4                         WHERE SHE GOES           Bad Bunny             1   \n",
      "..                                   ...                 ...           ...   \n",
      "948                         My Mind & Me        Selena Gomez             1   \n",
      "949            Bigger Than The Whole Sky        Taylor Swift             1   \n",
      "950                 A Veces (feat. Feid)  Feid, Paulo Londra             2   \n",
      "951                        En La De Ella  Feid, Sech, Jhayco             3   \n",
      "952                                Alone           Burna Boy             1   \n",
      "\n",
      "     released_year  released_month  released_day  in_spotify_charts  \\\n",
      "0             2023               7            14                147   \n",
      "1             2023               3            23                 48   \n",
      "2             2023               6            30                113   \n",
      "3             2019               8            23                100   \n",
      "4             2023               5            18                 50   \n",
      "..             ...             ...           ...                ...   \n",
      "948           2022              11             3                  0   \n",
      "949           2022              10            21                  0   \n",
      "950           2022              11             3                  0   \n",
      "951           2022              10            20                  0   \n",
      "952           2022              11             4                  2   \n",
      "\n",
      "       streams  in_apple_playlists  in_apple_charts  ... key  danceability_%  \\\n",
      "0    141381703                  43              263  ...   B              80   \n",
      "1    133716286                  48              126  ...  C#              71   \n",
      "2    140003974                  94              207  ...   F              51   \n",
      "3    800840817                 116              207  ...   A              55   \n",
      "4    303236322                  84              133  ...   A              65   \n",
      "..         ...                 ...              ...  ...  ..             ...   \n",
      "948   91473363                  61               13  ...   A              60   \n",
      "949  121871870                   4                0  ...  F#              42   \n",
      "950   73513683                   2                0  ...  C#              80   \n",
      "951  133895612                  29               26  ...  C#              82   \n",
      "952   96007391                  27               18  ...   E              61   \n",
      "\n",
      "    valence_%  energy_% acousticness_%  instrumentalness_%  liveness_%  \\\n",
      "0          89        83             31                   0           8   \n",
      "1          61        74              7                   0          10   \n",
      "2          32        53             17                   0          31   \n",
      "3          58        72             11                   0          11   \n",
      "4          23        80             14                  63          11   \n",
      "..        ...       ...            ...                 ...         ...   \n",
      "948        24        39             57                   0           8   \n",
      "949         7        24             83                   1          12   \n",
      "950        81        67              4                   0           8   \n",
      "951        67        77              8                   0          12   \n",
      "952        32        67             15                   0          11   \n",
      "\n",
      "     speechiness_%  ratio_streams_to_playlists  amount_of_artists  \n",
      "0                4               255663.115732                  0  \n",
      "1                4                90716.611940                  0  \n",
      "2                6               100217.590551                  0  \n",
      "3               15               101914.076992                  0  \n",
      "4                6                96787.846154                  0  \n",
      "..             ...                         ...                ...  \n",
      "948              3                95984.641133                  0  \n",
      "949              6               103281.245763                  0  \n",
      "950              6               128296.130890                  0  \n",
      "951              5               101436.069697                  1  \n",
      "952              5               122771.599744                  0  \n",
      "\n",
      "[953 rows x 24 columns]\n",
      "\n",
      "Удалённые колонки:\n",
      "['in_spotify_playlists', 'total_number_of_playlists']\n"
     ]
    }
   ],
   "source": [
    "#Удаление с высокой корреляцией\n",
    "\n",
    "numeric_columns = df_filtered.select_dtypes(include=['number']).drop(columns=[target,'amount_of_artists'])\n",
    "correlation_threshold = 0.9 # порог корреляции\n",
    "correlation_matrix = numeric_columns.corr().abs() #матрица корреляции\n",
    "mask = (correlation_matrix >= correlation_threshold) & (correlation_matrix < 1.0) #создали маску для определения колл. признаков\n",
    "correlated_columns = [col for col in mask.columns if any(mask[col])] #поиск имён (названий)\n",
    "df_filtered.drop(correlated_columns, axis=1, inplace=True) #del\n",
    "print(df_filtered)\n",
    "print(\"\\nУдалённые колонки:\")\n",
    "print(correlated_columns)"
   ]
  },
  {
   "cell_type": "code",
   "execution_count": 185,
   "metadata": {},
   "outputs": [
    {
     "name": "stdout",
     "output_type": "stream",
     "text": [
      "                              track_name      artist(s)_name  artist_count  \\\n",
      "0    Seven (feat. Latto) (Explicit Ver.)    Latto, Jung Kook             2   \n",
      "1                                   LALA         Myke Towers             1   \n",
      "2                                vampire      Olivia Rodrigo             1   \n",
      "3                           Cruel Summer        Taylor Swift             1   \n",
      "4                         WHERE SHE GOES           Bad Bunny             1   \n",
      "..                                   ...                 ...           ...   \n",
      "948                         My Mind & Me        Selena Gomez             1   \n",
      "949            Bigger Than The Whole Sky        Taylor Swift             1   \n",
      "950                 A Veces (feat. Feid)  Feid, Paulo Londra             2   \n",
      "951                        En La De Ella  Feid, Sech, Jhayco             3   \n",
      "952                                Alone           Burna Boy             1   \n",
      "\n",
      "     released_year  released_month  released_day  in_spotify_charts  \\\n",
      "0             2023               7            14                147   \n",
      "1             2023               3            23                 48   \n",
      "2             2023               6            30                113   \n",
      "3             2019               8            23                100   \n",
      "4             2023               5            18                 50   \n",
      "..             ...             ...           ...                ...   \n",
      "948           2022              11             3                  0   \n",
      "949           2022              10            21                  0   \n",
      "950           2022              11             3                  0   \n",
      "951           2022              10            20                  0   \n",
      "952           2022              11             4                  2   \n",
      "\n",
      "       streams  in_apple_playlists  in_apple_charts  ... key  danceability_%  \\\n",
      "0    141381703                  43              263  ...   B              80   \n",
      "1    133716286                  48              126  ...  C#              71   \n",
      "2    140003974                  94              207  ...   F              51   \n",
      "3    800840817                 116              207  ...   A              55   \n",
      "4    303236322                  84              133  ...   A              65   \n",
      "..         ...                 ...              ...  ...  ..             ...   \n",
      "948   91473363                  61               13  ...   A              60   \n",
      "949  121871870                   4                0  ...  F#              42   \n",
      "950   73513683                   2                0  ...  C#              80   \n",
      "951  133895612                  29               26  ...  C#              82   \n",
      "952   96007391                  27               18  ...   E              61   \n",
      "\n",
      "    valence_%  energy_% acousticness_%  instrumentalness_%  liveness_%  \\\n",
      "0          89        83             31                   0           8   \n",
      "1          61        74              7                   0          10   \n",
      "2          32        53             17                   0          31   \n",
      "3          58        72             11                   0          11   \n",
      "4          23        80             14                  63          11   \n",
      "..        ...       ...            ...                 ...         ...   \n",
      "948        24        39             57                   0           8   \n",
      "949         7        24             83                   1          12   \n",
      "950        81        67              4                   0           8   \n",
      "951        67        77              8                   0          12   \n",
      "952        32        67             15                   0          11   \n",
      "\n",
      "     speechiness_%  ratio_streams_to_playlists  amount_of_artists  \n",
      "0                4               255663.115732                  0  \n",
      "1                4                90716.611940                  0  \n",
      "2                6               100217.590551                  0  \n",
      "3               15               101914.076992                  0  \n",
      "4                6                96787.846154                  0  \n",
      "..             ...                         ...                ...  \n",
      "948              3                95984.641133                  0  \n",
      "949              6               103281.245763                  0  \n",
      "950              6               128296.130890                  0  \n",
      "951              5               101436.069697                  1  \n",
      "952              5               122771.599744                  0  \n",
      "\n",
      "[950 rows x 24 columns]\n"
     ]
    }
   ],
   "source": [
    "#Удаление выбросов по столбцу \"danceability_%\"\n",
    "\n",
    "# IQR для столбца \"danceability_%\": насколько круто под нее танцевать (пригодность)\n",
    "Q1 = df_filtered['danceability_%'].quantile(0.25)\n",
    "Q3 = df_filtered['danceability_%'].quantile(0.75)\n",
    "IQR = Q3 - Q1 # разница между 75 и 25 процентилями данных\n",
    "# Нжний и верхний пороги для удаления выбросов\n",
    "lower_threshold = Q1 - 1.5 * IQR\n",
    "upper_threshold = Q3 + 1.5 * IQR\n",
    "# Новый ДС с данными, находящимися в пределах порога\n",
    "df_filtered = df_filtered[(df_filtered['danceability_%'] >= lower_threshold) & (df_filtered['danceability_%'] <= upper_threshold)]\n",
    "print(df_filtered)"
   ]
  },
  {
   "cell_type": "code",
   "execution_count": 186,
   "metadata": {},
   "outputs": [
    {
     "name": "stdout",
     "output_type": "stream",
     "text": [
      "                              track_name      artist(s)_name  artist_count  \\\n",
      "0    Seven (feat. Latto) (Explicit Ver.)    Latto, Jung Kook             2   \n",
      "1                                   LALA         Myke Towers             1   \n",
      "2                                vampire      Olivia Rodrigo             1   \n",
      "3                           Cruel Summer        Taylor Swift             1   \n",
      "4                         WHERE SHE GOES           Bad Bunny             1   \n",
      "..                                   ...                 ...           ...   \n",
      "948                         My Mind & Me        Selena Gomez             1   \n",
      "949            Bigger Than The Whole Sky        Taylor Swift             1   \n",
      "950                 A Veces (feat. Feid)  Feid, Paulo Londra             2   \n",
      "951                        En La De Ella  Feid, Sech, Jhayco             3   \n",
      "952                                Alone           Burna Boy             1   \n",
      "\n",
      "     released_year  released_month  released_day  in_spotify_charts  \\\n",
      "0             2023               7            14                147   \n",
      "1             2023               3            23                 48   \n",
      "2             2023               6            30                113   \n",
      "3             2019               8            23                100   \n",
      "4             2023               5            18                 50   \n",
      "..             ...             ...           ...                ...   \n",
      "948           2022              11             3                  0   \n",
      "949           2022              10            21                  0   \n",
      "950           2022              11             3                  0   \n",
      "951           2022              10            20                  0   \n",
      "952           2022              11             4                  2   \n",
      "\n",
      "       streams  in_apple_playlists  in_apple_charts  ... key  danceability_%  \\\n",
      "0    141381703                  43              263  ...   B              80   \n",
      "1    133716286                  48              126  ...  C#              71   \n",
      "2    140003974                  94              207  ...   F              51   \n",
      "3    800840817                 116              207  ...   A              55   \n",
      "4    303236322                  84              133  ...   A              65   \n",
      "..         ...                 ...              ...  ...  ..             ...   \n",
      "948   91473363                  61               13  ...   A              60   \n",
      "949  121871870                   4                0  ...  F#              42   \n",
      "950   73513683                   2                0  ...  C#              80   \n",
      "951  133895612                  29               26  ...  C#              82   \n",
      "952   96007391                  27               18  ...   E              61   \n",
      "\n",
      "    valence_%  energy_% acousticness_%  instrumentalness_%  liveness_%  \\\n",
      "0          89        83             31                   0           8   \n",
      "1          61        74              7                   0          10   \n",
      "2          32        53             17                   0          31   \n",
      "3          58        72             11                   0          11   \n",
      "4          23        80             14                  63          11   \n",
      "..        ...       ...            ...                 ...         ...   \n",
      "948        24        39             57                   0           8   \n",
      "949         7        24             83                   1          12   \n",
      "950        81        67              4                   0           8   \n",
      "951        67        77              8                   0          12   \n",
      "952        32        67             15                   0          11   \n",
      "\n",
      "     speechiness_%  ratio_streams_to_playlists  amount_of_artists  \n",
      "0                4               255663.115732                  0  \n",
      "1                4                90716.611940                  0  \n",
      "2                6               100217.590551                  0  \n",
      "3               15               101914.076992                  0  \n",
      "4                6                96787.846154                  0  \n",
      "..             ...                         ...                ...  \n",
      "948              3                95984.641133                  0  \n",
      "949              6               103281.245763                  0  \n",
      "950              6               128296.130890                  0  \n",
      "951              5               101436.069697                  1  \n",
      "952              5               122771.599744                  0  \n",
      "\n",
      "[877 rows x 24 columns]\n"
     ]
    }
   ],
   "source": [
    "#Удаление выбросов по столбцу \"streams\"\n",
    "\n",
    "# IQR для столбца \"streams\": Общее количество прослушиваний на Spotify\n",
    "Q1 = df_filtered['streams'].quantile(0.25)\n",
    "Q3 = df_filtered['streams'].quantile(0.75)\n",
    "IQR = Q3 - Q1 # разница между 75 и 25 процентилями данных\n",
    "# Нжний и верхний пороги для удаления выбросов\n",
    "lower_threshold = Q1 - 1.5 * IQR\n",
    "upper_threshold = Q3 + 1.5 * IQR\n",
    "# Новый ДС с данными, находящимися в пределах порога\n",
    "df_filtered = df_filtered[(df_filtered['streams'] >= lower_threshold) & (df_filtered['streams'] <= upper_threshold)]\n",
    "print(df_filtered)"
   ]
  },
  {
   "cell_type": "code",
   "execution_count": 96,
   "metadata": {},
   "outputs": [
    {
     "data": {
      "image/png": "[encoded data removed]",
      "text/plain": [
       "<Figure size 1000x600 with 1 Axes>"
      ]
     },
     "metadata": {},
     "output_type": "display_data"
    }
   ],
   "source": [
    "#boxplot для начального\n",
    "\n",
    "streams_data = df['streams']\n",
    "\n",
    "plt.figure(figsize=(10, 6))\n",
    "bp = plt.boxplot(streams_data, showfliers=True, patch_artist=True,\n",
    "                 boxprops=dict(facecolor='lightblue', color='blue'),  # Цвет самого бокса\n",
    "            capprops=dict(color='red'),  # Цвет концов усов\n",
    "            whiskerprops=dict(color='red'),  # Цвет \"усов\"\n",
    "            flierprops=dict(markerfacecolor='blue'),  # Цвет выбросов\n",
    "            medianprops=dict(color='red'))  # Цвет медианы)\n",
    "\n",
    "plt.title('Боксплот-диграмма по \"числу прослушиваний за всё время\"',pad=10)\n",
    "plt.ylabel('Число прослушиваний (млрд.)', labelpad=10)\n",
    "plt.xticks([])\n",
    "#plt.legend(labels=None) #- легенда\n",
    "plt.grid(True) #сетка\n",
    "plt.show()"
   ]
  },
  {
   "cell_type": "code",
   "execution_count": 97,
   "metadata": {},
   "outputs": [
    {
     "data": {
      "image/png": "[encoded data removed]",
      "text/plain": [
       "<Figure size 1000x600 with 1 Axes>"
      ]
     },
     "metadata": {},
     "output_type": "display_data"
    }
   ],
   "source": [
    "#boxplot для измен.\n",
    "\n",
    "streams_data = df_filtered['streams']\n",
    "\n",
    "plt.figure(figsize=(10, 6))\n",
    "bp = plt.boxplot(streams_data, showfliers=True, patch_artist=True,\n",
    "                 boxprops=dict(facecolor='lightblue', color='blue'),  # Цвет самого бокса\n",
    "            capprops=dict(color='red'),  # Цвет концов усов\n",
    "            whiskerprops=dict(color='red'),  # Цвет \"усов\"\n",
    "            flierprops=dict(markerfacecolor='blue'),  # Цвет выбросов\n",
    "            medianprops=dict(color='red'))  # Цвет медианы)\n",
    "\n",
    "plt.title('Боксплот-диграмма по \"числу прослушиваний за всё время\" (ред.)',pad=10)\n",
    "plt.ylabel('Число прослушиваний (млрд.)', labelpad=10)\n",
    "plt.xticks([])\n",
    "#plt.legend(labels=None) #- легенда\n",
    "plt.grid(True) #сетка\n",
    "plt.show()"
   ]
  },
  {
   "cell_type": "code",
   "execution_count": 243,
   "metadata": {},
   "outputs": [
    {
     "name": "stdout",
     "output_type": "stream",
     "text": [
      "Точность модели: 90.21 %\n"
     ]
    }
   ],
   "source": [
    "from sklearn.model_selection import train_test_split\n",
    "from sklearn.preprocessing import StandardScaler\n",
    "from sklearn.linear_model import LinearRegression\n",
    "from sklearn.metrics import mean_squared_error\n",
    "from sklearn.linear_model import LogisticRegression\n",
    "from sklearn.metrics import accuracy_score\n",
    "from sklearn.preprocessing import OneHotEncoder\n",
    "from sklearn.preprocessing import LabelEncoder\n",
    "from sklearn.svm import SVC\n",
    "from sklearn.preprocessing import MinMaxScaler\n",
    "\n",
    "columns_to_exclude = ['amount_of_artists', target]  # список на искл.\n",
    "# Выбор признаков (категориальные столбцы) и целевой переменной\n",
    "categorical_features = df.drop(columns=columns_to_exclude, axis=1).columns  # категор.\n",
    "target_column = 'amount_of_artists' #целевая\n",
    "\n",
    "# Преобразование категориальных признаков в числовые с помощью LabelEncoder\n",
    "label_encoders = {}\n",
    "for feature in categorical_features:\n",
    "    le = LabelEncoder()\n",
    "    df[feature] = le.fit_transform(df[feature])\n",
    "    label_encoders[feature] = le\n",
    "\n",
    "# Разделение данных на обучающий и тестовый наборы\n",
    "X = df[categorical_features]\n",
    "y = df[target_column]\n",
    "X_train, X_test, y_train, y_test = train_test_split(X, y, test_size=0.2, random_state=15)\n",
    "\n",
    "# Создание и обучение модели логистической регрессии\n",
    "#model = LogisticRegression()\n",
    "#model.fit(X_train, y_train)\n",
    "scaler = StandardScaler()\n",
    "X_train = scaler.fit_transform(X_train)\n",
    "X_test = scaler.transform(X_test)\n",
    "\n",
    "\n",
    "# Инициализируем модель SVM с линейным ядром\n",
    "model = SVC(kernel='linear')\n",
    "# Обучаем модель на обучающих данных\n",
    "model.fit(X_train, y_train)\n",
    "# Предсказание на тестовых данных\n",
    "y_pred = model.predict(X_test)\n",
    "#Точность\n",
    "accuracy = accuracy_score(y_test, y_pred)\n",
    "print(\"Точность модели:\", round(accuracy * 100, 2), \"%\")"
   ]
  },
  {
   "cell_type": "code",
   "execution_count": 245,
   "metadata": {},
   "outputs": [
    {
     "name": "stdout",
     "output_type": "stream",
     "text": [
      "Точность модели: 87.88 %\n"
     ]
    }
   ],
   "source": [
    "columns_to_exclude = ['amount_of_artists', target]  # список на искл.\n",
    "# Выбор признаков (категориальные столбцы) и целевой переменной\n",
    "categorical_features = df_filtered.drop(columns=columns_to_exclude, axis=1).columns  # категор.\n",
    "target_column = 'amount_of_artists' #целевая\n",
    "\n",
    "# Преобразование категориальных признаков в числовые с помощью LabelEncoder\n",
    "label_encoders = {}\n",
    "for feature in categorical_features:\n",
    "    le = LabelEncoder()\n",
    "    df_filtered[feature] = le.fit_transform(df_filtered[feature])\n",
    "    label_encoders[feature] = le\n",
    "\n",
    "# Разделение данных на обучающий и тестовый наборы\n",
    "X = df_filtered[categorical_features]\n",
    "y = df_filtered[target_column]\n",
    "X_train, X_test, y_train, y_test = train_test_split(X, y, test_size=0.2, random_state=15)\n",
    "\n",
    "# Создание и обучение модели логистической регрессии\n",
    "#model = LogisticRegression()\n",
    "#model.fit(X_train, y_train)\n",
    "scaler = StandardScaler()\n",
    "X_train = scaler.fit_transform(X_train)\n",
    "X_test = scaler.transform(X_test)\n",
    "# Инициализируем модель SVM с линейным ядром\n",
    "model = SVC(kernel='linear')\n",
    "# Обучаем модель на обучающих данных\n",
    "model.fit(X_train, y_train)\n",
    "# Предсказание на тестовых данных\n",
    "y_pred = model.predict(X_test)\n",
    "#Точность\n",
    "accuracy = accuracy_score(y_test, y_pred)\n",
    "print(\"Точность модели:\", round(accuracy * 100, 2), \"%\")"
   ]
  },
  {
   "cell_type": "code",
   "execution_count": 254,
   "metadata": {},
   "outputs": [
    {
     "data": {
      "application/vnd.plotly.v1+json": {
       "config": {
        "plotlyServerURL": "https://plot.ly"
       },
       "data": [
        {
         "coloraxis": "coloraxis",
         "hovertemplate": "x: %{x}<br>y: %{y}<br>color: %{z}<extra></extra>",
         "name": "0",
         "type": "heatmap",
         "x": [
          "artist_count",
          "released_year",
          "released_month",
          "released_day",
          "in_spotify_playlists",
          "in_spotify_charts",
          "streams",
          "in_apple_playlists",
          "in_apple_charts",
          "in_deezer_charts",
          "bpm",
          "mode",
          "danceability_%",
          "valence_%",
          "energy_%",
          "acousticness_%",
          "instrumentalness_%",
          "liveness_%",
          "speechiness_%",
          "total_number_of_playlists",
          "ratio_streams_to_playlists",
          "amount_of_artists"
         ],
         "xaxis": "x",
         "y": [
          "artist_count",
          "released_year",
          "released_month",
          "released_day",
          "in_spotify_playlists",
          "in_spotify_charts",
          "streams",
          "in_apple_playlists",
          "in_apple_charts",
          "in_deezer_charts",
          "bpm",
          "mode",
          "danceability_%",
          "valence_%",
          "energy_%",
          "acousticness_%",
          "instrumentalness_%",
          "liveness_%",
          "speechiness_%",
          "total_number_of_playlists",
          "ratio_streams_to_playlists",
          "amount_of_artists"
         ],
         "yaxis": "y",
         "z": [
          [
           1,
           0.08758619769468069,
           0.03799458456050441,
           -0.01754949152905714,
           -0.10196589918270729,
           -0.01850650651524199,
           -0.13664175956338276,
           -0.051073852330109755,
           -0.08859660162012319,
           -0.003731574346224385,
           -0.03837538512333271,
           -0.09489311660420913,
           0.20702676446608476,
           0.127959881733415,
           0.13709627268483093,
           -0.10106139167561957,
           -0.0502250907907609,
           0.042730091468625296,
           0.11989989292333003,
           -0.10173323776985352,
           -0.009711719205602343,
           0.7801496431662539
          ],
          [
           0.08758619769468069,
           1,
           0.07671440084951928,
           0.17428180050649061,
           -0.3922038568887926,
           0.0696778410730965,
           -0.2299831931642607,
           -0.19899815130923887,
           -0.035842142568556806,
           0.09538908823216716,
           -0.005333560009300616,
           -0.08947253030437889,
           0.18733332896719546,
           -0.059354792750434905,
           0.09522584392211263,
           -0.12415564183964546,
           -0.014561696298256967,
           -0.005819077724483149,
           0.13381907660843495,
           -0.39133660066428433,
           0.02959922367616319,
           0.019743394589844112
          ],
          [
           0.03799458456050441,
           0.07671440084951928,
           1,
           0.08031320581579707,
           -0.10475660889647924,
           -0.04762337078403501,
           -0.0253948530334805,
           -0.00016351317445347093,
           -0.019063630017936675,
           -0.005285980810643522,
           -0.03925224964651362,
           0.059905144435994734,
           -0.04640258389320854,
           -0.11857126173795626,
           -0.08371011487888788,
           0.05442992684491474,
           0.03398543343606111,
           -0.012347574189325446,
           0.039837623693255414,
           -0.1039494733396017,
           0.008371748834017576,
           0.03678209447699399
          ],
          [
           -0.01754949152905714,
           0.17428180050649061,
           0.08031320581579707,
           1,
           -0.07966905870093602,
           0.021876541686204183,
           0.010104000881049085,
           0.026409527018930054,
           0.011085906382013566,
           0.07328784660980427,
           -0.030177092484574574,
           -0.0006720030450791338,
           0.04895135509462899,
           0.04277890315486718,
           0.05054542756173105,
           -0.005788335956102158,
           0.01927960824829092,
           0.001565671270370418,
           -0.015826256785264906,
           -0.07876704131577986,
           0.014554321021423301,
           -0.04401640856713492
          ],
          [
           -0.10196589918270729,
           -0.3922038568887926,
           -0.10475660889647924,
           -0.07966905870093602,
           1,
           0.16433145454828366,
           0.7896410122231088,
           0.708277180655621,
           0.2713172709026882,
           0.14434226042978068,
           -0.01959759975800961,
           0.048868010740537024,
           -0.10653367038753647,
           -0.021882735587464903,
           0.03380770772434547,
           -0.06442070596396697,
           -0.028133740598083455,
           -0.046695347155763615,
           -0.08972233188636587,
           0.9999706082614936,
           -0.27690967512647363,
           -0.06368797594699785
          ],
          [
           -0.01850650651524199,
           0.0696778410730965,
           -0.04762337078403501,
           0.021876541686204183,
           0.16433145454828366,
           1,
           0.24554820920406062,
           0.233353547112023,
           0.552232389934744,
           0.6002054038320238,
           0.03471278536114764,
           -0.03638871621621506,
           0.03007130280230674,
           0.0355309930475869,
           0.08191992528277002,
           -0.05498672408191746,
           -0.010146449027038063,
           -0.04755236634820574,
           -0.0817645436777334,
           0.1655969130519619,
           -0.06263849310528048,
           -0.01766198257150007
          ],
          [
           -0.13664175956338276,
           -0.2299831931642607,
           -0.0253948530334805,
           0.010104000881049085,
           0.7896410122231088,
           0.24554820920406062,
           1,
           0.7716681499459019,
           0.31968746884491106,
           0.2284100761825623,
           -0.002590929684295001,
           0.04290940312265288,
           -0.10572815728629693,
           -0.04046291077779189,
           -0.025951006268486385,
           -0.0047478362897213,
           -0.04496366488257946,
           -0.04836475543073666,
           -0.11254306278325332,
           0.7919244481096916,
           -0.1580039594935128,
           -0.10695353771507084
          ],
          [
           -0.051073852330109755,
           -0.19899815130923887,
           -0.00016351317445347093,
           0.026409527018930054,
           0.708277180655621,
           0.233353547112023,
           0.7716681499459019,
           1,
           0.41452330571208246,
           0.36903246180740806,
           0.023725045410861616,
           0.05500435935831985,
           -0.025326235470128196,
           0.05707478706578629,
           0.05261524871883056,
           -0.061780997909493506,
           -0.05721879744731476,
           -0.0495962741888433,
           -0.1080110982874391,
           0.7136687498191437,
           -0.2789153536943057,
           -0.043331612902659626
          ],
          [
           -0.08859660162012319,
           -0.035842142568556806,
           -0.019063630017936675,
           0.011085906382013566,
           0.2713172709026882,
           0.552232389934744,
           0.31968746884491106,
           0.41452330571208246,
           1,
           0.38366760449743265,
           0.030961591631215854,
           -0.023077090851076,
           -0.025203867628097718,
           0.0477329331878402,
           0.1048283767647134,
           -0.07679342498061872,
           -0.01314517131255827,
           -0.01873328393466035,
           -0.15153919140002176,
           0.27372424505664567,
           -0.049215988229000925,
           -0.1132456081090118
          ],
          [
           -0.003731574346224385,
           0.09538908823216716,
           -0.005285980810643522,
           0.07328784660980427,
           0.14434226042978068,
           0.6002054038320238,
           0.2284100761825623,
           0.36903246180740806,
           0.38366760449743265,
           1,
           0.02803578713902619,
           -0.015307569844631937,
           0.07091251939752759,
           0.07619598480675038,
           0.09462666465278792,
           -0.02936084652884395,
           0.005398402197416213,
           -0.0075683959574591505,
           -0.08055515140381948,
           0.14723564748862375,
           -0.11023514882397914,
           -0.026805438883815737
          ],
          [
           -0.03837538512333271,
           -0.005333560009300616,
           -0.03925224964651362,
           -0.030177092484574574,
           -0.01959759975800961,
           0.03471278536114764,
           -0.002590929684295001,
           0.023725045410861616,
           0.030961591631215854,
           0.02803578713902619,
           1,
           0.018237366635597645,
           -0.14709450365704288,
           0.041194569909112314,
           0.025794458095156552,
           -0.0176944726073845,
           -0.0011947453753002677,
           -0.0007609772058049714,
           0.0392602021355616,
           -0.019188598726825663,
           -0.04606666253738343,
           -0.04932535846848812
          ],
          [
           -0.09489311660420913,
           -0.08947253030437889,
           0.059905144435994734,
           -0.0006720030450791338,
           0.048868010740537024,
           -0.03638871621621506,
           0.04290940312265288,
           0.05500435935831985,
           -0.023077090851076,
           -0.015307569844631937,
           0.018237366635597645,
           1,
           -0.13832120424133806,
           -0.06436874650207355,
           -0.05489513832579991,
           0.06231439097369168,
           -0.010291833605820873,
           0.0013707224612149978,
           -0.09586013574325435,
           0.04908804982031124,
           -0.05586530221953721,
           -0.07675909191359746
          ],
          [
           0.20702676446608476,
           0.18733332896719546,
           -0.04640258389320854,
           0.04895135509462899,
           -0.10653367038753647,
           0.03007130280230674,
           -0.10572815728629693,
           -0.025326235470128196,
           -0.025203867628097718,
           0.07091251939752759,
           -0.14709450365704288,
           -0.13832120424133806,
           1,
           0.4084514401611997,
           0.1980948483762567,
           -0.23616549457097627,
           -0.0891380123653967,
           -0.07753818325890914,
           0.18497711241491427,
           -0.10598609888336308,
           0.004411987565193198,
           0.12955067438809031
          ],
          [
           0.127959881733415,
           -0.059354792750434905,
           -0.11857126173795626,
           0.04277890315486718,
           -0.021882735587464903,
           0.0355309930475869,
           -0.04046291077779189,
           0.05707478706578629,
           0.0477329331878402,
           0.07619598480675038,
           0.041194569909112314,
           -0.06436874650207355,
           0.4084514401611997,
           1,
           0.3576120059746848,
           -0.08190727483082776,
           -0.13289036094202847,
           0.021277538565302453,
           0.04108109284898645,
           -0.021093885733522843,
           0.017638715273503528,
           0.08992565447067356
          ],
          [
           0.13709627268483093,
           0.09522584392211263,
           -0.08371011487888788,
           0.05054542756173105,
           0.03380770772434547,
           0.08191992528277002,
           -0.025951006268486385,
           0.05261524871883056,
           0.1048283767647134,
           0.09462666465278792,
           0.025794458095156552,
           -0.05489513832579991,
           0.1980948483762567,
           0.3576120059746848,
           1,
           -0.5773442179801164,
           -0.03854651862406125,
           0.11730178031427665,
           -0.0048460036188535845,
           0.03411809216936921,
           -0.04437962792022329,
           0.08228371629679593
          ],
          [
           -0.10106139167561957,
           -0.12415564183964546,
           0.05442992684491474,
           -0.005788335956102158,
           -0.06442070596396697,
           -0.05498672408191746,
           -0.0047478362897213,
           -0.061780997909493506,
           -0.07679342498061872,
           -0.02936084652884395,
           -0.0176944726073845,
           0.06231439097369168,
           -0.23616549457097627,
           -0.08190727483082776,
           -0.5773442179801164,
           1,
           0.04279591837290502,
           -0.05014223889545254,
           -0.022501474008909155,
           -0.06459424938754674,
           0.06869415958501954,
           -0.08219811486172107
          ],
          [
           -0.0502250907907609,
           -0.014561696298256967,
           0.03398543343606111,
           0.01927960824829092,
           -0.028133740598083455,
           -0.010146449027038063,
           -0.04496366488257946,
           -0.05721879744731476,
           -0.01314517131255827,
           0.005398402197416213,
           -0.0011947453753002677,
           -0.010291833605820873,
           -0.0891380123653967,
           -0.13289036094202847,
           -0.03854651862406125,
           0.04279591837290502,
           1,
           -0.04596731651605923,
           -0.08339646134095939,
           -0.02853793640409498,
           -0.030737246651392672,
           -0.030665930405449966
          ],
          [
           0.042730091468625296,
           -0.005819077724483149,
           -0.012347574189325446,
           0.001565671270370418,
           -0.046695347155763615,
           -0.04755236634820574,
           -0.04836475543073666,
           -0.0495962741888433,
           -0.01873328393466035,
           -0.0075683959574591505,
           -0.0007609772058049714,
           0.0013707224612149978,
           -0.07753818325890914,
           0.021277538565302453,
           0.11730178031427665,
           -0.05014223889545254,
           -0.04596731651605923,
           1,
           -0.022525247149349583,
           -0.046873427251914505,
           0.010776979861244124,
           0.03878934324603065
          ],
          [
           0.11989989292333003,
           0.13381907660843495,
           0.039837623693255414,
           -0.015826256785264906,
           -0.08972233188636587,
           -0.0817645436777334,
           -0.11254306278325332,
           -0.1080110982874391,
           -0.15153919140002176,
           -0.08055515140381948,
           0.0392602021355616,
           -0.09586013574325435,
           0.18497711241491427,
           0.04108109284898645,
           -0.0048460036188535845,
           -0.022501474008909155,
           -0.08339646134095939,
           -0.022525247149349583,
           1,
           -0.09020259462694324,
           -0.0619438161865626,
           0.0803454386690077
          ],
          [
           -0.10173323776985352,
           -0.39133660066428433,
           -0.1039494733396017,
           -0.07876704131577986,
           0.9999706082614936,
           0.1655969130519619,
           0.7919244481096916,
           0.7136687498191437,
           0.27372424505664567,
           0.14723564748862375,
           -0.019188598726825663,
           0.04908804982031124,
           -0.10598609888336308,
           -0.021093885733522843,
           0.03411809216936921,
           -0.06459424938754674,
           -0.02853793640409498,
           -0.046873427251914505,
           -0.09020259462694324,
           1,
           -0.2778006608202245,
           -0.06366680310165164
          ],
          [
           -0.009711719205602343,
           0.02959922367616319,
           0.008371748834017576,
           0.014554321021423301,
           -0.27690967512647363,
           -0.06263849310528048,
           -0.1580039594935128,
           -0.2789153536943057,
           -0.049215988229000925,
           -0.11023514882397914,
           -0.04606666253738343,
           -0.05586530221953721,
           0.004411987565193198,
           0.017638715273503528,
           -0.04437962792022329,
           0.06869415958501954,
           -0.030737246651392672,
           0.010776979861244124,
           -0.0619438161865626,
           -0.2778006608202245,
           1,
           0.00013010759336029972
          ],
          [
           0.7801496431662539,
           0.019743394589844112,
           0.03678209447699399,
           -0.04401640856713492,
           -0.06368797594699785,
           -0.01766198257150007,
           -0.10695353771507084,
           -0.043331612902659626,
           -0.1132456081090118,
           -0.026805438883815737,
           -0.04932535846848812,
           -0.07675909191359746,
           0.12955067438809031,
           0.08992565447067356,
           0.08228371629679593,
           -0.08219811486172107,
           -0.030665930405449966,
           0.03878934324603065,
           0.0803454386690077,
           -0.06366680310165164,
           0.00013010759336029972,
           1
          ]
         ]
        }
       ],
       "layout": {
        "coloraxis": {
         "colorscale": [
          [
           0,
           "#0d0887"
          ],
          [
           0.1111111111111111,
           "#46039f"
          ],
          [
           0.2222222222222222,
           "#7201a8"
          ],
          [
           0.3333333333333333,
           "#9c179e"
          ],
          [
           0.4444444444444444,
           "#bd3786"
          ],
          [
           0.5555555555555556,
           "#d8576b"
          ],
          [
           0.6666666666666666,
           "#ed7953"
          ],
          [
           0.7777777777777778,
           "#fb9f3a"
          ],
          [
           0.8888888888888888,
           "#fdca26"
          ],
          [
           1,
           "#f0f921"
          ]
         ]
        },
        "template": {
         "data": {
          "bar": [
           {
            "error_x": {
             "color": "#2a3f5f"
            },
            "error_y": {
             "color": "#2a3f5f"
            },
            "marker": {
             "line": {
              "color": "#E5ECF6",
              "width": 0.5
             },
             "pattern": {
              "fillmode": "overlay",
              "size": 10,
              "solidity": 0.2
             }
            },
            "type": "bar"
           }
          ],
          "barpolar": [
           {
            "marker": {
             "line": {
              "color": "#E5ECF6",
              "width": 0.5
             },
             "pattern": {
              "fillmode": "overlay",
              "size": 10,
              "solidity": 0.2
             }
            },
            "type": "barpolar"
           }
          ],
          "carpet": [
           {
            "aaxis": {
             "endlinecolor": "#2a3f5f",
             "gridcolor": "white",
             "linecolor": "white",
             "minorgridcolor": "white",
             "startlinecolor": "#2a3f5f"
            },
            "baxis": {
             "endlinecolor": "#2a3f5f",
             "gridcolor": "white",
             "linecolor": "white",
             "minorgridcolor": "white",
             "startlinecolor": "#2a3f5f"
            },
            "type": "carpet"
           }
          ],
          "choropleth": [
           {
            "colorbar": {
             "outlinewidth": 0,
             "ticks": ""
            },
            "type": "choropleth"
           }
          ],
          "contour": [
           {
            "colorbar": {
             "outlinewidth": 0,
             "ticks": ""
            },
            "colorscale": [
             [
              0,
              "#0d0887"
             ],
             [
              0.1111111111111111,
              "#46039f"
             ],
             [
              0.2222222222222222,
              "#7201a8"
             ],
             [
              0.3333333333333333,
              "#9c179e"
             ],
             [
              0.4444444444444444,
              "#bd3786"
             ],
             [
              0.5555555555555556,
              "#d8576b"
             ],
             [
              0.6666666666666666,
              "#ed7953"
             ],
             [
              0.7777777777777778,
              "#fb9f3a"
             ],
             [
              0.8888888888888888,
              "#fdca26"
             ],
             [
              1,
              "#f0f921"
             ]
            ],
            "type": "contour"
           }
          ],
          "contourcarpet": [
           {
            "colorbar": {
             "outlinewidth": 0,
             "ticks": ""
            },
            "type": "contourcarpet"
           }
          ],
          "heatmap": [
           {
            "colorbar": {
             "outlinewidth": 0,
             "ticks": ""
            },
            "colorscale": [
             [
              0,
              "#0d0887"
             ],
             [
              0.1111111111111111,
              "#46039f"
             ],
             [
              0.2222222222222222,
              "#7201a8"
             ],
             [
              0.3333333333333333,
              "#9c179e"
             ],
             [
              0.4444444444444444,
              "#bd3786"
             ],
             [
              0.5555555555555556,
              "#d8576b"
             ],
             [
              0.6666666666666666,
              "#ed7953"
             ],
             [
              0.7777777777777778,
              "#fb9f3a"
             ],
             [
              0.8888888888888888,
              "#fdca26"
             ],
             [
              1,
              "#f0f921"
             ]
            ],
            "type": "heatmap"
           }
          ],
          "heatmapgl": [
           {
            "colorbar": {
             "outlinewidth": 0,
             "ticks": ""
            },
            "colorscale": [
             [
              0,
              "#0d0887"
             ],
             [
              0.1111111111111111,
              "#46039f"
             ],
             [
              0.2222222222222222,
              "#7201a8"
             ],
             [
              0.3333333333333333,
              "#9c179e"
             ],
             [
              0.4444444444444444,
              "#bd3786"
             ],
             [
              0.5555555555555556,
              "#d8576b"
             ],
             [
              0.6666666666666666,
              "#ed7953"
             ],
             [
              0.7777777777777778,
              "#fb9f3a"
             ],
             [
              0.8888888888888888,
              "#fdca26"
             ],
             [
              1,
              "#f0f921"
             ]
            ],
            "type": "heatmapgl"
           }
          ],
          "histogram": [
           {
            "marker": {
             "pattern": {
              "fillmode": "overlay",
              "size": 10,
              "solidity": 0.2
             }
            },
            "type": "histogram"
           }
          ],
          "histogram2d": [
           {
            "colorbar": {
             "outlinewidth": 0,
             "ticks": ""
            },
            "colorscale": [
             [
              0,
              "#0d0887"
             ],
             [
              0.1111111111111111,
              "#46039f"
             ],
             [
              0.2222222222222222,
              "#7201a8"
             ],
             [
              0.3333333333333333,
              "#9c179e"
             ],
             [
              0.4444444444444444,
              "#bd3786"
             ],
             [
              0.5555555555555556,
              "#d8576b"
             ],
             [
              0.6666666666666666,
              "#ed7953"
             ],
             [
              0.7777777777777778,
              "#fb9f3a"
             ],
             [
              0.8888888888888888,
              "#fdca26"
             ],
             [
              1,
              "#f0f921"
             ]
            ],
            "type": "histogram2d"
           }
          ],
          "histogram2dcontour": [
           {
            "colorbar": {
             "outlinewidth": 0,
             "ticks": ""
            },
            "colorscale": [
             [
              0,
              "#0d0887"
             ],
             [
              0.1111111111111111,
              "#46039f"
             ],
             [
              0.2222222222222222,
              "#7201a8"
             ],
             [
              0.3333333333333333,
              "#9c179e"
             ],
             [
              0.4444444444444444,
              "#bd3786"
             ],
             [
              0.5555555555555556,
              "#d8576b"
             ],
             [
              0.6666666666666666,
              "#ed7953"
             ],
             [
              0.7777777777777778,
              "#fb9f3a"
             ],
             [
              0.8888888888888888,
              "#fdca26"
             ],
             [
              1,
              "#f0f921"
             ]
            ],
            "type": "histogram2dcontour"
           }
          ],
          "mesh3d": [
           {
            "colorbar": {
             "outlinewidth": 0,
             "ticks": ""
            },
            "type": "mesh3d"
           }
          ],
          "parcoords": [
           {
            "line": {
             "colorbar": {
              "outlinewidth": 0,
              "ticks": ""
             }
            },
            "type": "parcoords"
           }
          ],
          "pie": [
           {
            "automargin": true,
            "type": "pie"
           }
          ],
          "scatter": [
           {
            "fillpattern": {
             "fillmode": "overlay",
             "size": 10,
             "solidity": 0.2
            },
            "type": "scatter"
           }
          ],
          "scatter3d": [
           {
            "line": {
             "colorbar": {
              "outlinewidth": 0,
              "ticks": ""
             }
            },
            "marker": {
             "colorbar": {
              "outlinewidth": 0,
              "ticks": ""
             }
            },
            "type": "scatter3d"
           }
          ],
          "scattercarpet": [
           {
            "marker": {
             "colorbar": {
              "outlinewidth": 0,
              "ticks": ""
             }
            },
            "type": "scattercarpet"
           }
          ],
          "scattergeo": [
           {
            "marker": {
             "colorbar": {
              "outlinewidth": 0,
              "ticks": ""
             }
            },
            "type": "scattergeo"
           }
          ],
          "scattergl": [
           {
            "marker": {
             "colorbar": {
              "outlinewidth": 0,
              "ticks": ""
             }
            },
            "type": "scattergl"
           }
          ],
          "scattermapbox": [
           {
            "marker": {
             "colorbar": {
              "outlinewidth": 0,
              "ticks": ""
             }
            },
            "type": "scattermapbox"
           }
          ],
          "scatterpolar": [
           {
            "marker": {
             "colorbar": {
              "outlinewidth": 0,
              "ticks": ""
             }
            },
            "type": "scatterpolar"
           }
          ],
          "scatterpolargl": [
           {
            "marker": {
             "colorbar": {
              "outlinewidth": 0,
              "ticks": ""
             }
            },
            "type": "scatterpolargl"
           }
          ],
          "scatterternary": [
           {
            "marker": {
             "colorbar": {
              "outlinewidth": 0,
              "ticks": ""
             }
            },
            "type": "scatterternary"
           }
          ],
          "surface": [
           {
            "colorbar": {
             "outlinewidth": 0,
             "ticks": ""
            },
            "colorscale": [
             [
              0,
              "#0d0887"
             ],
             [
              0.1111111111111111,
              "#46039f"
             ],
             [
              0.2222222222222222,
              "#7201a8"
             ],
             [
              0.3333333333333333,
              "#9c179e"
             ],
             [
              0.4444444444444444,
              "#bd3786"
             ],
             [
              0.5555555555555556,
              "#d8576b"
             ],
             [
              0.6666666666666666,
              "#ed7953"
             ],
             [
              0.7777777777777778,
              "#fb9f3a"
             ],
             [
              0.8888888888888888,
              "#fdca26"
             ],
             [
              1,
              "#f0f921"
             ]
            ],
            "type": "surface"
           }
          ],
          "table": [
           {
            "cells": {
             "fill": {
              "color": "#EBF0F8"
             },
             "line": {
              "color": "white"
             }
            },
            "header": {
             "fill": {
              "color": "#C8D4E3"
             },
             "line": {
              "color": "white"
             }
            },
            "type": "table"
           }
          ]
         },
         "layout": {
          "annotationdefaults": {
           "arrowcolor": "#2a3f5f",
           "arrowhead": 0,
           "arrowwidth": 1
          },
          "autotypenumbers": "strict",
          "coloraxis": {
           "colorbar": {
            "outlinewidth": 0,
            "ticks": ""
           }
          },
          "colorscale": {
           "diverging": [
            [
             0,
             "#8e0152"
            ],
            [
             0.1,
             "#c51b7d"
            ],
            [
             0.2,
             "#de77ae"
            ],
            [
             0.3,
             "#f1b6da"
            ],
            [
             0.4,
             "#fde0ef"
            ],
            [
             0.5,
             "#f7f7f7"
            ],
            [
             0.6,
             "#e6f5d0"
            ],
            [
             0.7,
             "#b8e186"
            ],
            [
             0.8,
             "#7fbc41"
            ],
            [
             0.9,
             "#4d9221"
            ],
            [
             1,
             "#276419"
            ]
           ],
           "sequential": [
            [
             0,
             "#0d0887"
            ],
            [
             0.1111111111111111,
             "#46039f"
            ],
            [
             0.2222222222222222,
             "#7201a8"
            ],
            [
             0.3333333333333333,
             "#9c179e"
            ],
            [
             0.4444444444444444,
             "#bd3786"
            ],
            [
             0.5555555555555556,
             "#d8576b"
            ],
            [
             0.6666666666666666,
             "#ed7953"
            ],
            [
             0.7777777777777778,
             "#fb9f3a"
            ],
            [
             0.8888888888888888,
             "#fdca26"
            ],
            [
             1,
             "#f0f921"
            ]
           ],
           "sequentialminus": [
            [
             0,
             "#0d0887"
            ],
            [
             0.1111111111111111,
             "#46039f"
            ],
            [
             0.2222222222222222,
             "#7201a8"
            ],
            [
             0.3333333333333333,
             "#9c179e"
            ],
            [
             0.4444444444444444,
             "#bd3786"
            ],
            [
             0.5555555555555556,
             "#d8576b"
            ],
            [
             0.6666666666666666,
             "#ed7953"
            ],
            [
             0.7777777777777778,
             "#fb9f3a"
            ],
            [
             0.8888888888888888,
             "#fdca26"
            ],
            [
             1,
             "#f0f921"
            ]
           ]
          },
          "colorway": [
           "#636efa",
           "#EF553B",
           "#00cc96",
           "#ab63fa",
           "#FFA15A",
           "#19d3f3",
           "#FF6692",
           "#B6E880",
           "#FF97FF",
           "#FECB52"
          ],
          "font": {
           "color": "#2a3f5f"
          },
          "geo": {
           "bgcolor": "white",
           "lakecolor": "white",
           "landcolor": "#E5ECF6",
           "showlakes": true,
           "showland": true,
           "subunitcolor": "white"
          },
          "hoverlabel": {
           "align": "left"
          },
          "hovermode": "closest",
          "mapbox": {
           "style": "light"
          },
          "paper_bgcolor": "white",
          "plot_bgcolor": "#E5ECF6",
          "polar": {
           "angularaxis": {
            "gridcolor": "white",
            "linecolor": "white",
            "ticks": ""
           },
           "bgcolor": "#E5ECF6",
           "radialaxis": {
            "gridcolor": "white",
            "linecolor": "white",
            "ticks": ""
           }
          },
          "scene": {
           "xaxis": {
            "backgroundcolor": "#E5ECF6",
            "gridcolor": "white",
            "gridwidth": 2,
            "linecolor": "white",
            "showbackground": true,
            "ticks": "",
            "zerolinecolor": "white"
           },
           "yaxis": {
            "backgroundcolor": "#E5ECF6",
            "gridcolor": "white",
            "gridwidth": 2,
            "linecolor": "white",
            "showbackground": true,
            "ticks": "",
            "zerolinecolor": "white"
           },
           "zaxis": {
            "backgroundcolor": "#E5ECF6",
            "gridcolor": "white",
            "gridwidth": 2,
            "linecolor": "white",
            "showbackground": true,
            "ticks": "",
            "zerolinecolor": "white"
           }
          },
          "shapedefaults": {
           "line": {
            "color": "#2a3f5f"
           }
          },
          "ternary": {
           "aaxis": {
            "gridcolor": "white",
            "linecolor": "white",
            "ticks": ""
           },
           "baxis": {
            "gridcolor": "white",
            "linecolor": "white",
            "ticks": ""
           },
           "bgcolor": "#E5ECF6",
           "caxis": {
            "gridcolor": "white",
            "linecolor": "white",
            "ticks": ""
           }
          },
          "title": {
           "x": 0.05
          },
          "xaxis": {
           "automargin": true,
           "gridcolor": "white",
           "linecolor": "white",
           "ticks": "",
           "title": {
            "standoff": 15
           },
           "zerolinecolor": "white",
           "zerolinewidth": 2
          },
          "yaxis": {
           "automargin": true,
           "gridcolor": "white",
           "linecolor": "white",
           "ticks": "",
           "title": {
            "standoff": 15
           },
           "zerolinecolor": "white",
           "zerolinewidth": 2
          }
         }
        },
        "title": {
         "text": "Корреляционная матрица изначального Датасета"
        },
        "xaxis": {
         "anchor": "y",
         "constrain": "domain",
         "domain": [
          0,
          1
         ],
         "scaleanchor": "y"
        },
        "yaxis": {
         "anchor": "x",
         "autorange": "reversed",
         "constrain": "domain",
         "domain": [
          0,
          1
         ]
        }
       }
      }
     },
     "metadata": {},
     "output_type": "display_data"
    },
    {
     "data": {
      "application/vnd.plotly.v1+json": {
       "config": {
        "plotlyServerURL": "https://plot.ly"
       },
       "data": [
        {
         "coloraxis": "coloraxis",
         "hovertemplate": "x: %{x}<br>y: %{y}<br>color: %{z}<extra></extra>",
         "name": "0",
         "type": "heatmap",
         "x": [
          "track_name",
          "artist(s)_name",
          "artist_count",
          "released_year",
          "released_month",
          "released_day",
          "in_spotify_charts",
          "streams",
          "in_apple_playlists",
          "in_apple_charts",
          "in_deezer_playlists",
          "in_deezer_charts",
          "in_shazam_charts",
          "bpm",
          "key",
          "danceability_%",
          "valence_%",
          "energy_%",
          "acousticness_%",
          "instrumentalness_%",
          "liveness_%",
          "speechiness_%",
          "ratio_streams_to_playlists",
          "amount_of_artists"
         ],
         "xaxis": "x",
         "y": [
          "track_name",
          "artist(s)_name",
          "artist_count",
          "released_year",
          "released_month",
          "released_day",
          "in_spotify_charts",
          "streams",
          "in_apple_playlists",
          "in_apple_charts",
          "in_deezer_playlists",
          "in_deezer_charts",
          "in_shazam_charts",
          "bpm",
          "key",
          "danceability_%",
          "valence_%",
          "energy_%",
          "acousticness_%",
          "instrumentalness_%",
          "liveness_%",
          "speechiness_%",
          "ratio_streams_to_playlists",
          "amount_of_artists"
         ],
         "yaxis": "y",
         "z": [
          [
           1,
           0.006188015844395576,
           -0.009321408437794805,
           0.013645237750785381,
           0.024198922090349365,
           0.007316323937030982,
           0.010191217288666458,
           0.0512892326302084,
           0.008917287545085632,
           0.04544978788530109,
           0.010192081902587895,
           -0.050021241991375046,
           0.03339378562665997,
           0.01612770322201928,
           -0.009177152893569643,
           -0.005856830048768294,
           -0.06590853767359012,
           -0.012870951729638494,
           0.04305498087975339,
           -0.009151498295594914,
           -0.005003154593057296,
           0.013675933739921861,
           -0.023097824142010906,
           -0.025336368195428158
          ],
          [
           0.006188015844395576,
           1,
           -0.07595353749523372,
           0.06090276263576133,
           0.014991444720745102,
           0.022193261981916946,
           -0.045864262945264085,
           -0.14284678873817144,
           -0.10889148420440965,
           -0.0664547218479043,
           -0.04776348362420772,
           -0.035072538641135374,
           0.008539578386826657,
           0.0072793865790130325,
           -0.03765374697850181,
           -0.10555892342852133,
           -0.07687266496530189,
           -0.035651570813290095,
           0.0349330751851261,
           0.0498994387527103,
           -0.03101864853099836,
           -0.04793669431013404,
           -0.010975502050789768,
           -0.04616863027254282
          ],
          [
           -0.009321408437794805,
           -0.07595353749523372,
           1,
           0.10519231233275969,
           0.04098911793143122,
           -0.022893761744758215,
           -0.008316140264924343,
           -0.13751581262609056,
           -0.02134149711076257,
           -0.08789831975495266,
           0.03671514014607028,
           -0.00006918173479209865,
           -0.07388032154019825,
           -0.040147862163985165,
           -0.011077126102233674,
           0.2054765491850689,
           0.12860037740269764,
           0.14212806119677865,
           -0.09842850628849201,
           -0.058942875261487115,
           0.03871028591739094,
           0.12224712734395808,
           -0.028088339875092475,
           0.7822671425066278
          ],
          [
           0.013645237750785381,
           0.06090276263576133,
           0.10519231233275969,
           1,
           0.06457187787345882,
           0.1648320250965083,
           0.10338254580893091,
           -0.30773248212448867,
           -0.25681257491975856,
           -0.016744881207654598,
           -0.027819512000133502,
           0.1280949365834552,
           0.012839217667230594,
           0.003174481403736987,
           -0.02448526735108845,
           0.14989355822532077,
           -0.06103428844838706,
           0.08520255859961601,
           -0.09269090392584026,
           -0.044959152079628376,
           0.002840327878076047,
           0.13176193254791607,
           0.25764605586934375,
           0.050545713368132086
          ],
          [
           0.024198922090349365,
           0.014991444720745102,
           0.04098911793143122,
           0.06457187787345882,
           1,
           0.049053396264077016,
           -0.06828530228019583,
           0.016891562274180736,
           -0.04425318787989921,
           -0.03188770415932705,
           -0.03148244449924598,
           -0.00980867958259838,
           -0.026703245858304487,
           -0.04705810231568083,
           0.03425412483935816,
           -0.03976445792087355,
           -0.13484353992441656,
           -0.08260758794060673,
           0.03574141344284159,
           0.03956770143804388,
           -0.0030603280577109044,
           0.03263413082043656,
           0.05478398108249139,
           0.04021573606672808
          ],
          [
           0.007316323937030982,
           0.022193261981916946,
           -0.022893761744758215,
           0.1648320250965083,
           0.049053396264077016,
           1,
           0.024443132789292905,
           0.03303726114414172,
           -0.006445671299696293,
           -0.01672846593918914,
           -0.024403592877384216,
           0.058106178559332755,
           0.019547138074543016,
           -0.042021852818861505,
           0.08667363405006191,
           0.04581083218845848,
           0.04003099452915069,
           0.04550945681317269,
           0.01104552202630345,
           0.010005224357423473,
           0.011846811501972615,
           -0.021193996967455938,
           0.08707930114990468,
           -0.038900442732292886
          ],
          [
           0.010191217288666458,
           -0.045864262945264085,
           -0.008316140264924343,
           0.10338254580893091,
           -0.06828530228019583,
           0.024443132789292905,
           1,
           0.15941976718844564,
           0.19290652306982076,
           0.5574139479989535,
           0.08586370725619091,
           0.5832978591375257,
           0.27666199040458744,
           0.02063916729291282,
           0.002538355453060164,
           0.07271047959251205,
           0.041405942261388995,
           0.09655213984887646,
           -0.061936170445942275,
           0.003781806665841246,
           -0.040268359064518235,
           -0.07888800262610572,
           -0.007093366549257795,
           -0.021643047462266876
          ],
          [
           0.0512892326302084,
           -0.14284678873817144,
           -0.13751581262609056,
           -0.30773248212448867,
           0.016891562274180736,
           0.03303726114414172,
           0.15941976718844564,
           1,
           0.6118534370317873,
           0.28144169420829984,
           0.09855626781671127,
           0.21024729178555787,
           0.22266088646028,
           0.028948754437410133,
           0.028903565837371553,
           -0.0522060638483327,
           -0.0426295301345355,
           -0.024811332410244132,
           -0.056471653832181376,
           0.00474585992838686,
           -0.03597846942022221,
           -0.09982483744514374,
           0.01644308989731231,
           -0.08845799535864894
          ],
          [
           0.008917287545085632,
           -0.10889148420440965,
           -0.02134149711076257,
           -0.25681257491975856,
           -0.04425318787989921,
           -0.006445671299696293,
           0.19290652306982076,
           0.6118534370317873,
           1,
           0.3744918782083925,
           0.11052496761013804,
           0.3973313103314694,
           0.28427747559965383,
           0.035454942688720265,
           0.06118166581731665,
           0.03112165814050795,
           0.058396681309571465,
           0.07722601641755875,
           -0.11113653116050823,
           -0.042910178947402185,
           -0.02829172959105834,
           -0.09297405578728238,
           -0.38637160100975837,
           -0.010139635567955859
          ],
          [
           0.04544978788530109,
           -0.0664547218479043,
           -0.08789831975495266,
           -0.016744881207654598,
           -0.03188770415932705,
           -0.01672846593918914,
           0.5574139479989535,
           0.28144169420829984,
           0.3744918782083925,
           1,
           0.09558779207305365,
           0.36778802205237,
           0.3486833391001957,
           0.04482837666144015,
           0.038962240728498215,
           -0.0054747832942874195,
           0.05934862959475993,
           0.127528042988391,
           -0.10017233851580669,
           -0.015295867501223411,
           -0.010251001047591503,
           -0.15498528637245032,
           0.040142077926429494,
           -0.1172678206750789
          ],
          [
           0.010192081902587895,
           -0.04776348362420772,
           0.03671514014607028,
           -0.027819512000133502,
           -0.03148244449924598,
           -0.024403592877384216,
           0.08586370725619091,
           0.09855626781671127,
           0.11052496761013804,
           0.09558779207305365,
           1,
           0.0765410081789914,
           0.011968043710457241,
           -0.03786000702797657,
           -0.00474668729392905,
           0.011050385348306735,
           0.013382685962555528,
           -0.004654179644401139,
           0.003993085923986879,
           -0.038422119184039,
           0.12379879812608319,
           -0.02145658990818631,
           -0.03529591506066214,
           0.04422629662546582
          ],
          [
           -0.050021241991375046,
           -0.035072538641135374,
           -0.00006918173479209865,
           0.1280949365834552,
           -0.00980867958259838,
           0.058106178559332755,
           0.5832978591375257,
           0.21024729178555787,
           0.3973313103314694,
           0.36778802205237,
           0.0765410081789914,
           1,
           0.199711804689399,
           0.016840356464786616,
           0.029648727770676585,
           0.0947277047251945,
           0.07378830817532298,
           0.07715269698332329,
           -0.008226082158237603,
           0.018522055680663143,
           0.0010162036693417487,
           -0.07069064597370325,
           -0.08807265796882655,
           -0.033999080649257524
          ],
          [
           0.03339378562665997,
           0.008539578386826657,
           -0.07388032154019825,
           0.012839217667230594,
           -0.026703245858304487,
           0.019547138074543016,
           0.27666199040458744,
           0.22266088646028,
           0.28427747559965383,
           0.3486833391001957,
           0.011968043710457241,
           0.199711804689399,
           1,
           0.048956880228663166,
           0.043104749756118346,
           -0.02614590675842839,
           -0.014721413313487818,
           0.056153832034619454,
           -0.006770494784754224,
           -0.08728198453157454,
           -0.032204594327738485,
           -0.09843030410497552,
           0.032222478707782956,
           -0.09713213221659084
          ],
          [
           0.01612770322201928,
           0.0072793865790130325,
           -0.040147862163985165,
           0.003174481403736987,
           -0.04705810231568083,
           -0.042021852818861505,
           0.02063916729291282,
           0.028948754437410133,
           0.035454942688720265,
           0.04482837666144015,
           -0.03786000702797657,
           0.016840356464786616,
           0.048956880228663166,
           1,
           -0.02377934536809674,
           -0.12954384470031807,
           0.05333582805043397,
           0.011839053230068921,
           -0.008181238120390618,
           -0.009075574409672488,
           -0.005757756079067513,
           0.029147094356155184,
           0.03207780940803082,
           -0.050825329960247766
          ],
          [
           -0.009177152893569643,
           -0.03765374697850181,
           -0.011077126102233674,
           -0.02448526735108845,
           0.03425412483935816,
           0.08667363405006191,
           0.002538355453060164,
           0.028903565837371553,
           0.06118166581731665,
           0.038962240728498215,
           -0.00474668729392905,
           0.029648727770676585,
           0.043104749756118346,
           -0.02377934536809674,
           1,
           -0.03958598476432985,
           0.06295434566931637,
           0.01112679534924416,
           0.04392572369783156,
           0.001346511499825742,
           0.017318385403168466,
           -0.045620839263039656,
           -0.015363970627211022,
           -0.006966479054144575
          ],
          [
           -0.005856830048768294,
           -0.10555892342852133,
           0.2054765491850689,
           0.14989355822532077,
           -0.03976445792087355,
           0.04581083218845848,
           0.07271047959251205,
           -0.0522060638483327,
           0.03112165814050795,
           -0.0054747832942874195,
           0.011050385348306735,
           0.0947277047251945,
           -0.02614590675842839,
           -0.12954384470031807,
           -0.03958598476432985,
           1,
           0.3996121266446947,
           0.19285701206924058,
           -0.22517184052475753,
           -0.10290238622706892,
           -0.08101525565785135,
           0.1824597759848271,
           0.06703925959531047,
           0.13320967079784427
          ],
          [
           -0.06590853767359012,
           -0.07687266496530189,
           0.12860037740269764,
           -0.06103428844838706,
           -0.13484353992441656,
           0.04003099452915069,
           0.041405942261388995,
           -0.0426295301345355,
           0.058396681309571465,
           0.05934862959475993,
           0.013382685962555528,
           0.07378830817532298,
           -0.014721413313487818,
           0.05333582805043397,
           0.06295434566931637,
           0.3996121266446947,
           1,
           0.3539081007285972,
           -0.06246091397232176,
           -0.150990019428927,
           0.027218760538401037,
           0.04935391150832988,
           0.07863036705381632,
           0.09079954313832996
          ],
          [
           -0.012870951729638494,
           -0.035651570813290095,
           0.14212806119677865,
           0.08520255859961601,
           -0.08260758794060673,
           0.04550945681317269,
           0.09655213984887646,
           -0.024811332410244132,
           0.07722601641755875,
           0.127528042988391,
           -0.004654179644401139,
           0.07715269698332329,
           0.056153832034619454,
           0.011839053230068921,
           0.01112679534924416,
           0.19285701206924058,
           0.3539081007285972,
           1,
           -0.5532106529047756,
           -0.059880674583442546,
           0.11761593270572764,
           -0.0032141791907800434,
           0.02599586488667945,
           0.08451064083028142
          ],
          [
           0.04305498087975339,
           0.0349330751851261,
           -0.09842850628849201,
           -0.09269090392584026,
           0.03574141344284159,
           0.01104552202630345,
           -0.061936170445942275,
           -0.056471653832181376,
           -0.11113653116050823,
           -0.10017233851580669,
           0.003993085923986879,
           -0.008226082158237603,
           -0.006770494784754224,
           -0.008181238120390618,
           0.04392572369783156,
           -0.22517184052475753,
           -0.06246091397232176,
           -0.5532106529047756,
           1,
           0.0639727770231832,
           -0.05011081821789954,
           -0.018293276482524407,
           0.04158554113292937,
           -0.0839829425777817
          ],
          [
           -0.009151498295594914,
           0.0498994387527103,
           -0.058942875261487115,
           -0.044959152079628376,
           0.03956770143804388,
           0.010005224357423473,
           0.003781806665841246,
           0.00474585992838686,
           -0.042910178947402185,
           -0.015295867501223411,
           -0.038422119184039,
           0.018522055680663143,
           -0.08728198453157454,
           -0.009075574409672488,
           0.001346511499825742,
           -0.10290238622706892,
           -0.150990019428927,
           -0.059880674583442546,
           0.0639727770231832,
           1,
           -0.046147684934874325,
           -0.10189471829455862,
           -0.06689477143069754,
           -0.033975227549123105
          ],
          [
           -0.005003154593057296,
           -0.03101864853099836,
           0.03871028591739094,
           0.002840327878076047,
           -0.0030603280577109044,
           0.011846811501972615,
           -0.040268359064518235,
           -0.03597846942022221,
           -0.02829172959105834,
           -0.010251001047591503,
           0.12379879812608319,
           0.0010162036693417487,
           -0.032204594327738485,
           -0.005757756079067513,
           0.017318385403168466,
           -0.08101525565785135,
           0.027218760538401037,
           0.11761593270572764,
           -0.05011081821789954,
           -0.046147684934874325,
           1,
           -0.03329551318891127,
           -0.0006572741047843829,
           0.03408372166824712
          ],
          [
           0.013675933739921861,
           -0.04793669431013404,
           0.12224712734395808,
           0.13176193254791607,
           0.03263413082043656,
           -0.021193996967455938,
           -0.07888800262610572,
           -0.09982483744514374,
           -0.09297405578728238,
           -0.15498528637245032,
           -0.02145658990818631,
           -0.07069064597370325,
           -0.09843030410497552,
           0.029147094356155184,
           -0.045620839263039656,
           0.1824597759848271,
           0.04935391150832988,
           -0.0032141791907800434,
           -0.018293276482524407,
           -0.10189471829455862,
           -0.03329551318891127,
           1,
           -0.056476125999788455,
           0.08519588709377385
          ],
          [
           -0.023097824142010906,
           -0.010975502050789768,
           -0.028088339875092475,
           0.25764605586934375,
           0.05478398108249139,
           0.08707930114990468,
           -0.007093366549257795,
           0.01644308989731231,
           -0.38637160100975837,
           0.040142077926429494,
           -0.03529591506066214,
           -0.08807265796882655,
           0.032222478707782956,
           0.03207780940803082,
           -0.015363970627211022,
           0.06703925959531047,
           0.07863036705381632,
           0.02599586488667945,
           0.04158554113292937,
           -0.06689477143069754,
           -0.0006572741047843829,
           -0.056476125999788455,
           1,
           -0.04613498417549857
          ],
          [
           -0.025336368195428158,
           -0.04616863027254282,
           0.7822671425066278,
           0.050545713368132086,
           0.04021573606672808,
           -0.038900442732292886,
           -0.021643047462266876,
           -0.08845799535864894,
           -0.010139635567955859,
           -0.1172678206750789,
           0.04422629662546582,
           -0.033999080649257524,
           -0.09713213221659084,
           -0.050825329960247766,
           -0.006966479054144575,
           0.13320967079784427,
           0.09079954313832996,
           0.08451064083028142,
           -0.0839829425777817,
           -0.033975227549123105,
           0.03408372166824712,
           0.08519588709377385,
           -0.04613498417549857,
           1
          ]
         ]
        }
       ],
       "layout": {
        "coloraxis": {
         "colorscale": [
          [
           0,
           "#0d0887"
          ],
          [
           0.1111111111111111,
           "#46039f"
          ],
          [
           0.2222222222222222,
           "#7201a8"
          ],
          [
           0.3333333333333333,
           "#9c179e"
          ],
          [
           0.4444444444444444,
           "#bd3786"
          ],
          [
           0.5555555555555556,
           "#d8576b"
          ],
          [
           0.6666666666666666,
           "#ed7953"
          ],
          [
           0.7777777777777778,
           "#fb9f3a"
          ],
          [
           0.8888888888888888,
           "#fdca26"
          ],
          [
           1,
           "#f0f921"
          ]
         ]
        },
        "template": {
         "data": {
          "bar": [
           {
            "error_x": {
             "color": "#2a3f5f"
            },
            "error_y": {
             "color": "#2a3f5f"
            },
            "marker": {
             "line": {
              "color": "#E5ECF6",
              "width": 0.5
             },
             "pattern": {
              "fillmode": "overlay",
              "size": 10,
              "solidity": 0.2
             }
            },
            "type": "bar"
           }
          ],
          "barpolar": [
           {
            "marker": {
             "line": {
              "color": "#E5ECF6",
              "width": 0.5
             },
             "pattern": {
              "fillmode": "overlay",
              "size": 10,
              "solidity": 0.2
             }
            },
            "type": "barpolar"
           }
          ],
          "carpet": [
           {
            "aaxis": {
             "endlinecolor": "#2a3f5f",
             "gridcolor": "white",
             "linecolor": "white",
             "minorgridcolor": "white",
             "startlinecolor": "#2a3f5f"
            },
            "baxis": {
             "endlinecolor": "#2a3f5f",
             "gridcolor": "white",
             "linecolor": "white",
             "minorgridcolor": "white",
             "startlinecolor": "#2a3f5f"
            },
            "type": "carpet"
           }
          ],
          "choropleth": [
           {
            "colorbar": {
             "outlinewidth": 0,
             "ticks": ""
            },
            "type": "choropleth"
           }
          ],
          "contour": [
           {
            "colorbar": {
             "outlinewidth": 0,
             "ticks": ""
            },
            "colorscale": [
             [
              0,
              "#0d0887"
             ],
             [
              0.1111111111111111,
              "#46039f"
             ],
             [
              0.2222222222222222,
              "#7201a8"
             ],
             [
              0.3333333333333333,
              "#9c179e"
             ],
             [
              0.4444444444444444,
              "#bd3786"
             ],
             [
              0.5555555555555556,
              "#d8576b"
             ],
             [
              0.6666666666666666,
              "#ed7953"
             ],
             [
              0.7777777777777778,
              "#fb9f3a"
             ],
             [
              0.8888888888888888,
              "#fdca26"
             ],
             [
              1,
              "#f0f921"
             ]
            ],
            "type": "contour"
           }
          ],
          "contourcarpet": [
           {
            "colorbar": {
             "outlinewidth": 0,
             "ticks": ""
            },
            "type": "contourcarpet"
           }
          ],
          "heatmap": [
           {
            "colorbar": {
             "outlinewidth": 0,
             "ticks": ""
            },
            "colorscale": [
             [
              0,
              "#0d0887"
             ],
             [
              0.1111111111111111,
              "#46039f"
             ],
             [
              0.2222222222222222,
              "#7201a8"
             ],
             [
              0.3333333333333333,
              "#9c179e"
             ],
             [
              0.4444444444444444,
              "#bd3786"
             ],
             [
              0.5555555555555556,
              "#d8576b"
             ],
             [
              0.6666666666666666,
              "#ed7953"
             ],
             [
              0.7777777777777778,
              "#fb9f3a"
             ],
             [
              0.8888888888888888,
              "#fdca26"
             ],
             [
              1,
              "#f0f921"
             ]
            ],
            "type": "heatmap"
           }
          ],
          "heatmapgl": [
           {
            "colorbar": {
             "outlinewidth": 0,
             "ticks": ""
            },
            "colorscale": [
             [
              0,
              "#0d0887"
             ],
             [
              0.1111111111111111,
              "#46039f"
             ],
             [
              0.2222222222222222,
              "#7201a8"
             ],
             [
              0.3333333333333333,
              "#9c179e"
             ],
             [
              0.4444444444444444,
              "#bd3786"
             ],
             [
              0.5555555555555556,
              "#d8576b"
             ],
             [
              0.6666666666666666,
              "#ed7953"
             ],
             [
              0.7777777777777778,
              "#fb9f3a"
             ],
             [
              0.8888888888888888,
              "#fdca26"
             ],
             [
              1,
              "#f0f921"
             ]
            ],
            "type": "heatmapgl"
           }
          ],
          "histogram": [
           {
            "marker": {
             "pattern": {
              "fillmode": "overlay",
              "size": 10,
              "solidity": 0.2
             }
            },
            "type": "histogram"
           }
          ],
          "histogram2d": [
           {
            "colorbar": {
             "outlinewidth": 0,
             "ticks": ""
            },
            "colorscale": [
             [
              0,
              "#0d0887"
             ],
             [
              0.1111111111111111,
              "#46039f"
             ],
             [
              0.2222222222222222,
              "#7201a8"
             ],
             [
              0.3333333333333333,
              "#9c179e"
             ],
             [
              0.4444444444444444,
              "#bd3786"
             ],
             [
              0.5555555555555556,
              "#d8576b"
             ],
             [
              0.6666666666666666,
              "#ed7953"
             ],
             [
              0.7777777777777778,
              "#fb9f3a"
             ],
             [
              0.8888888888888888,
              "#fdca26"
             ],
             [
              1,
              "#f0f921"
             ]
            ],
            "type": "histogram2d"
           }
          ],
          "histogram2dcontour": [
           {
            "colorbar": {
             "outlinewidth": 0,
             "ticks": ""
            },
            "colorscale": [
             [
              0,
              "#0d0887"
             ],
             [
              0.1111111111111111,
              "#46039f"
             ],
             [
              0.2222222222222222,
              "#7201a8"
             ],
             [
              0.3333333333333333,
              "#9c179e"
             ],
             [
              0.4444444444444444,
              "#bd3786"
             ],
             [
              0.5555555555555556,
              "#d8576b"
             ],
             [
              0.6666666666666666,
              "#ed7953"
             ],
             [
              0.7777777777777778,
              "#fb9f3a"
             ],
             [
              0.8888888888888888,
              "#fdca26"
             ],
             [
              1,
              "#f0f921"
             ]
            ],
            "type": "histogram2dcontour"
           }
          ],
          "mesh3d": [
           {
            "colorbar": {
             "outlinewidth": 0,
             "ticks": ""
            },
            "type": "mesh3d"
           }
          ],
          "parcoords": [
           {
            "line": {
             "colorbar": {
              "outlinewidth": 0,
              "ticks": ""
             }
            },
            "type": "parcoords"
           }
          ],
          "pie": [
           {
            "automargin": true,
            "type": "pie"
           }
          ],
          "scatter": [
           {
            "fillpattern": {
             "fillmode": "overlay",
             "size": 10,
             "solidity": 0.2
            },
            "type": "scatter"
           }
          ],
          "scatter3d": [
           {
            "line": {
             "colorbar": {
              "outlinewidth": 0,
              "ticks": ""
             }
            },
            "marker": {
             "colorbar": {
              "outlinewidth": 0,
              "ticks": ""
             }
            },
            "type": "scatter3d"
           }
          ],
          "scattercarpet": [
           {
            "marker": {
             "colorbar": {
              "outlinewidth": 0,
              "ticks": ""
             }
            },
            "type": "scattercarpet"
           }
          ],
          "scattergeo": [
           {
            "marker": {
             "colorbar": {
              "outlinewidth": 0,
              "ticks": ""
             }
            },
            "type": "scattergeo"
           }
          ],
          "scattergl": [
           {
            "marker": {
             "colorbar": {
              "outlinewidth": 0,
              "ticks": ""
             }
            },
            "type": "scattergl"
           }
          ],
          "scattermapbox": [
           {
            "marker": {
             "colorbar": {
              "outlinewidth": 0,
              "ticks": ""
             }
            },
            "type": "scattermapbox"
           }
          ],
          "scatterpolar": [
           {
            "marker": {
             "colorbar": {
              "outlinewidth": 0,
              "ticks": ""
             }
            },
            "type": "scatterpolar"
           }
          ],
          "scatterpolargl": [
           {
            "marker": {
             "colorbar": {
              "outlinewidth": 0,
              "ticks": ""
             }
            },
            "type": "scatterpolargl"
           }
          ],
          "scatterternary": [
           {
            "marker": {
             "colorbar": {
              "outlinewidth": 0,
              "ticks": ""
             }
            },
            "type": "scatterternary"
           }
          ],
          "surface": [
           {
            "colorbar": {
             "outlinewidth": 0,
             "ticks": ""
            },
            "colorscale": [
             [
              0,
              "#0d0887"
             ],
             [
              0.1111111111111111,
              "#46039f"
             ],
             [
              0.2222222222222222,
              "#7201a8"
             ],
             [
              0.3333333333333333,
              "#9c179e"
             ],
             [
              0.4444444444444444,
              "#bd3786"
             ],
             [
              0.5555555555555556,
              "#d8576b"
             ],
             [
              0.6666666666666666,
              "#ed7953"
             ],
             [
              0.7777777777777778,
              "#fb9f3a"
             ],
             [
              0.8888888888888888,
              "#fdca26"
             ],
             [
              1,
              "#f0f921"
             ]
            ],
            "type": "surface"
           }
          ],
          "table": [
           {
            "cells": {
             "fill": {
              "color": "#EBF0F8"
             },
             "line": {
              "color": "white"
             }
            },
            "header": {
             "fill": {
              "color": "#C8D4E3"
             },
             "line": {
              "color": "white"
             }
            },
            "type": "table"
           }
          ]
         },
         "layout": {
          "annotationdefaults": {
           "arrowcolor": "#2a3f5f",
           "arrowhead": 0,
           "arrowwidth": 1
          },
          "autotypenumbers": "strict",
          "coloraxis": {
           "colorbar": {
            "outlinewidth": 0,
            "ticks": ""
           }
          },
          "colorscale": {
           "diverging": [
            [
             0,
             "#8e0152"
            ],
            [
             0.1,
             "#c51b7d"
            ],
            [
             0.2,
             "#de77ae"
            ],
            [
             0.3,
             "#f1b6da"
            ],
            [
             0.4,
             "#fde0ef"
            ],
            [
             0.5,
             "#f7f7f7"
            ],
            [
             0.6,
             "#e6f5d0"
            ],
            [
             0.7,
             "#b8e186"
            ],
            [
             0.8,
             "#7fbc41"
            ],
            [
             0.9,
             "#4d9221"
            ],
            [
             1,
             "#276419"
            ]
           ],
           "sequential": [
            [
             0,
             "#0d0887"
            ],
            [
             0.1111111111111111,
             "#46039f"
            ],
            [
             0.2222222222222222,
             "#7201a8"
            ],
            [
             0.3333333333333333,
             "#9c179e"
            ],
            [
             0.4444444444444444,
             "#bd3786"
            ],
            [
             0.5555555555555556,
             "#d8576b"
            ],
            [
             0.6666666666666666,
             "#ed7953"
            ],
            [
             0.7777777777777778,
             "#fb9f3a"
            ],
            [
             0.8888888888888888,
             "#fdca26"
            ],
            [
             1,
             "#f0f921"
            ]
           ],
           "sequentialminus": [
            [
             0,
             "#0d0887"
            ],
            [
             0.1111111111111111,
             "#46039f"
            ],
            [
             0.2222222222222222,
             "#7201a8"
            ],
            [
             0.3333333333333333,
             "#9c179e"
            ],
            [
             0.4444444444444444,
             "#bd3786"
            ],
            [
             0.5555555555555556,
             "#d8576b"
            ],
            [
             0.6666666666666666,
             "#ed7953"
            ],
            [
             0.7777777777777778,
             "#fb9f3a"
            ],
            [
             0.8888888888888888,
             "#fdca26"
            ],
            [
             1,
             "#f0f921"
            ]
           ]
          },
          "colorway": [
           "#636efa",
           "#EF553B",
           "#00cc96",
           "#ab63fa",
           "#FFA15A",
           "#19d3f3",
           "#FF6692",
           "#B6E880",
           "#FF97FF",
           "#FECB52"
          ],
          "font": {
           "color": "#2a3f5f"
          },
          "geo": {
           "bgcolor": "white",
           "lakecolor": "white",
           "landcolor": "#E5ECF6",
           "showlakes": true,
           "showland": true,
           "subunitcolor": "white"
          },
          "hoverlabel": {
           "align": "left"
          },
          "hovermode": "closest",
          "mapbox": {
           "style": "light"
          },
          "paper_bgcolor": "white",
          "plot_bgcolor": "#E5ECF6",
          "polar": {
           "angularaxis": {
            "gridcolor": "white",
            "linecolor": "white",
            "ticks": ""
           },
           "bgcolor": "#E5ECF6",
           "radialaxis": {
            "gridcolor": "white",
            "linecolor": "white",
            "ticks": ""
           }
          },
          "scene": {
           "xaxis": {
            "backgroundcolor": "#E5ECF6",
            "gridcolor": "white",
            "gridwidth": 2,
            "linecolor": "white",
            "showbackground": true,
            "ticks": "",
            "zerolinecolor": "white"
           },
           "yaxis": {
            "backgroundcolor": "#E5ECF6",
            "gridcolor": "white",
            "gridwidth": 2,
            "linecolor": "white",
            "showbackground": true,
            "ticks": "",
            "zerolinecolor": "white"
           },
           "zaxis": {
            "backgroundcolor": "#E5ECF6",
            "gridcolor": "white",
            "gridwidth": 2,
            "linecolor": "white",
            "showbackground": true,
            "ticks": "",
            "zerolinecolor": "white"
           }
          },
          "shapedefaults": {
           "line": {
            "color": "#2a3f5f"
           }
          },
          "ternary": {
           "aaxis": {
            "gridcolor": "white",
            "linecolor": "white",
            "ticks": ""
           },
           "baxis": {
            "gridcolor": "white",
            "linecolor": "white",
            "ticks": ""
           },
           "bgcolor": "#E5ECF6",
           "caxis": {
            "gridcolor": "white",
            "linecolor": "white",
            "ticks": ""
           }
          },
          "title": {
           "x": 0.05
          },
          "xaxis": {
           "automargin": true,
           "gridcolor": "white",
           "linecolor": "white",
           "ticks": "",
           "title": {
            "standoff": 15
           },
           "zerolinecolor": "white",
           "zerolinewidth": 2
          },
          "yaxis": {
           "automargin": true,
           "gridcolor": "white",
           "linecolor": "white",
           "ticks": "",
           "title": {
            "standoff": 15
           },
           "zerolinecolor": "white",
           "zerolinewidth": 2
          }
         }
        },
        "title": {
         "text": "Корреляционная матрица изменённого Датасета"
        },
        "xaxis": {
         "anchor": "y",
         "constrain": "domain",
         "domain": [
          0,
          1
         ],
         "scaleanchor": "y"
        },
        "yaxis": {
         "anchor": "x",
         "autorange": "reversed",
         "constrain": "domain",
         "domain": [
          0,
          1
         ]
        }
       }
      }
     },
     "metadata": {},
     "output_type": "display_data"
    }
   ],
   "source": [
    "#матрицы корреляции\n",
    "dfCor = df.select_dtypes(exclude=['object'])\n",
    "\n",
    "correlation_matrix = dfCor.corr()\n",
    "fig = px.imshow(correlation_matrix, x=correlation_matrix.columns, y=correlation_matrix.index, title=\"Корреляционная матрица изначального Датасета\")\n",
    "fig.show()\n",
    "\n",
    "dfCor = df_filtered.select_dtypes(exclude=['object'])\n",
    "\n",
    "correlation_matrix = dfCor.corr()\n",
    "fig = px.imshow(correlation_matrix, x=correlation_matrix.columns, y=correlation_matrix.index, title=\"Корреляционная матрица изменённого Датасета\")\n",
    "fig.show()\n"
   ]
  }
 ],
 "metadata": {
  "kernelspec": {
   "display_name": "Python 3",
   "language": "python",
   "name": "python3"
  },
  "language_info": {
   "codemirror_mode": {
    "name": "ipython",
    "version": 3
   },
   "file_extension": ".py",
   "mimetype": "text/x-python",
   "name": "python",
   "nbconvert_exporter": "python",
   "pygments_lexer": "ipython3",
   "version": "3.11.6"
  },
  "orig_nbformat": 4
 },
 "nbformat": 4,
 "nbformat_minor": 2
}
